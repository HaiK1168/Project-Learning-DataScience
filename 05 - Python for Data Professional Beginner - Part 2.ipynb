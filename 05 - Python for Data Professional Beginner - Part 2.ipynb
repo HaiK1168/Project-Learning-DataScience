{
 "cells": [
  {
   "cell_type": "markdown",
   "id": "3349b0bf",
   "metadata": {},
   "source": [
    "## Memulai dengan Collection Manipulation\n",
    "\n",
    "### Apa itu Collection Manipulation?\n",
    "Collections manipulation adalah salah satu teknik yang penting untuk dikuasai setiap programmer. Melalui penguasaan materi collections  manipulation, aku dapat mengolah berbagai tipe data collections dalam Python yang meliputi:\n",
    "\n",
    "    list,\n",
    "    tuple,\n",
    "    set, dan\n",
    "    Dictionary."
   ]
  },
  {
   "cell_type": "markdown",
   "id": "c47b079d",
   "metadata": {},
   "source": [
    "### Mengakses List dan Tuple – Part 1\n",
    "Seperti yang telah aku pelajari pada modul Python for Data Professional Beginner - Part 1: Bab “Sequence Type”, aku dapat mengakses elemen pada suatu list ataupun tuple dengan menggunakan indeks atau semacam nomor urut dari list atau tuple tersebut. Indeks pada suatu tipe data list atau tuple dimulai dari angka 0."
   ]
  },
  {
   "cell_type": "code",
   "execution_count": 1,
   "id": "b9d69d03",
   "metadata": {},
   "outputs": [
    {
     "name": "stdout",
     "output_type": "stream",
     "text": [
      "Januari\n",
      "Juni\n",
      "Desember\n",
      "November\n"
     ]
    }
   ],
   "source": [
    "bulan_pembelian = ('Januari','Februari','Maret','April','Mei','Juni','Juli','Agustus','September','Oktober','November','Desember')\n",
    "print(bulan_pembelian[0])\n",
    "print(bulan_pembelian[5])\n",
    "print(bulan_pembelian[-1])\n",
    "print(bulan_pembelian[-2])"
   ]
  },
  {
   "cell_type": "markdown",
   "id": "e131c58b",
   "metadata": {},
   "source": [
    "### Mengakses List dan Tuple – Part 2\n",
    "Cara collections manipulation pertama yang akan aku pelajari adalah memotong (slicing) list/tuple dengan menggunakan rentangan nilai indeks (range of index)."
   ]
  },
  {
   "cell_type": "code",
   "execution_count": 2,
   "id": "414c5703",
   "metadata": {},
   "outputs": [
    {
     "name": "stdout",
     "output_type": "stream",
     "text": [
      "('Mei', 'Juni', 'Juli', 'Agustus')\n",
      "('Januari', 'Februari', 'Maret', 'April', 'Mei')\n",
      "('September', 'Oktober', 'November', 'Desember')\n",
      "('September', 'Oktober', 'November')\n"
     ]
    }
   ],
   "source": [
    "bulan_pembelian = ('Januari','Februari','Maret','April','Mei','Juni','Juli','Agustus','September','Oktober','November','Desember')\n",
    "pertengahan_tahun = bulan_pembelian[4:8]\n",
    "print(pertengahan_tahun)\n",
    "awal_tahun = bulan_pembelian[:5]\n",
    "print(awal_tahun)\n",
    "akhir_tahun = bulan_pembelian[8:]\n",
    "print(akhir_tahun)\n",
    "print(bulan_pembelian[-4:-1])"
   ]
  },
  {
   "cell_type": "markdown",
   "id": "e02c5ca0",
   "metadata": {},
   "source": [
    "### Penggabungan Dua atau Lebih List atau Tuple\n",
    "Selain dapat melakukan pemotongan terhadap tipe data list/tuple, aku juga dapat menggabungkan isi dari suatu list (ataupun tuple) dengan list lainnya (atau dengan tuple lainnya) dengan menggunakan operator penambahan (+). "
   ]
  },
  {
   "cell_type": "code",
   "execution_count": 3,
   "id": "866aa270",
   "metadata": {},
   "outputs": [
    {
     "name": "stdout",
     "output_type": "stream",
     "text": [
      "['Gado-gado', 'Ayam Goreng', 'Rendang', 'Es Teh', 'Es Jeruk', 'Es Campur']\n"
     ]
    }
   ],
   "source": [
    "list_makanan = ['Gado-gado','Ayam Goreng','Rendang']\n",
    "list_minuman = ['Es Teh', 'Es Jeruk', 'Es Campur']\n",
    "list_menu = list_makanan + list_minuman\n",
    "print(list_menu)"
   ]
  },
  {
   "cell_type": "markdown",
   "id": "3aab18f9",
   "metadata": {},
   "source": [
    "### List Manipulation – Part 1\n",
    "Untuk memanipulasi tipe data list, aku dapat menggunakan sekumpulan fitur yang telah tersedia dalam bahasa pemrograman Python. Merujuk pada tabel di bawah, aku dapat memahami fitur-fitur untuk melakukan manipulasi data yang terdiri atas **append(), clear(), copy(), count() dan extend()**"
   ]
  },
  {
   "cell_type": "code",
   "execution_count": 4,
   "id": "e812a8e4",
   "metadata": {},
   "outputs": [
    {
     "name": "stdout",
     "output_type": "stream",
     "text": [
      ">>> Fitur .append()\n",
      "['Gado-gado', 'Ayam Goreng', 'Rendang', 'Ketoprak']\n",
      ">>> Fitur .clear()\n",
      "[]\n",
      ">>> Fitur .copy()\n",
      "['Gado-gado', 'Ayam Goreng', 'Rendang', 'Ketoprak']\n",
      "['Gado-gado', 'Ayam Goreng', 'Rendang', 'Opor']\n",
      ">>> Fitur .count()\n",
      "4\n",
      "3\n",
      ">>> Fitur .extend()\n",
      "['Gado-gado', 'Ayam Goreng', 'Rendang', 'Es Teh', 'Es Jeruk', 'Es Campur']\n"
     ]
    }
   ],
   "source": [
    "# Fitur .append()\n",
    "print(\">>> Fitur .append()\")\n",
    "list_makanan = ['Gado-gado', 'Ayam Goreng', 'Rendang']\n",
    "list_makanan.append('Ketoprak')\n",
    "print(list_makanan)\n",
    "\n",
    "# Fitur .clear()\n",
    "print(\">>> Fitur .clear()\")\n",
    "list_makanan = ['Gado-gado', 'Ayam Goreng', 'Rendang']\n",
    "list_makanan.clear()\n",
    "print(list_makanan)\n",
    "\n",
    "# Fitur .copy()\n",
    "print(\">>> Fitur .copy()\")\n",
    "list_makanan1 = ['Gado-gado', 'Ayam Goreng', 'Rendang']\n",
    "list_makanan2 = list_makanan1.copy()\n",
    "list_makanan3 = list_makanan1\n",
    "list_makanan2.append('Opor')\n",
    "list_makanan3.append('Ketoprak')\n",
    "print(list_makanan1)\n",
    "print(list_makanan2)\n",
    "\n",
    "# Fitur .count()\n",
    "print(\">>> Fitur .count()\")\n",
    "list_score = ['Budi', 'Sud', 'Budi', 'Budi', 'Budi', 'Sud', 'Sud']\n",
    "score_budi = list_score.count('Budi')\n",
    "score_sud = list_score.count('Sud')\n",
    "print(score_budi) # akan menampilkan output 4\n",
    "print(score_sud) # akan menampilkan output 3\n",
    "\n",
    "# Fitur .extend()\n",
    "print(\">>> Fitur .extend()\")\n",
    "list_menu = ['Gado-gado', 'Ayam Goreng', 'Rendang']\n",
    "list_minuman = ['Es Teh', 'Es Jeruk', 'Es Campur']\n",
    "list_menu.extend(list_minuman)\n",
    "print(list_menu)"
   ]
  },
  {
   "cell_type": "markdown",
   "id": "daf425cb",
   "metadata": {},
   "source": [
    "### List Manipulation – Part 2\n",
    "Selanjutnya aku akan mempelajari fitur **index(), insert(), pop(), remove(), reverse(), dan sort()** untuk melakukan manipulasi."
   ]
  },
  {
   "cell_type": "code",
   "execution_count": 5,
   "id": "9c91bb14",
   "metadata": {},
   "outputs": [
    {
     "name": "stdout",
     "output_type": "stream",
     "text": [
      ">>> Fitur .index()\n",
      "2\n",
      ">>> Fitur .insert()\n",
      "['Budi', 'Sud', 'Budi', 'Sud', 'Budi', 'Sud']\n",
      ">>> Fitur .pop()\n",
      "['Gado-gado', 'Rendang']\n",
      ">>> Fitur .remove()\n",
      "['Gado-gado', 'Ayam Goreng', 'Ketoprak']\n",
      ">>> Fitur .reverse()\n",
      "['Ketoprak', 'Rendang', 'Ayam Goreng', 'Gado-gado']\n",
      ">>> Fitur .sort()\n",
      "['Ayam Goreng', 'Gado-gado', 'Ketoprak', 'Rendang']\n",
      "['Rendang', 'Ketoprak', 'Gado-gado', 'Ayam Goreng']\n"
     ]
    }
   ],
   "source": [
    "# Fitur .index()\n",
    "print(\">>> Fitur .index()\")\n",
    "list_score = ['Budi','Sud','Budi','Budi','Budi','Sud','Sud']\n",
    "score_pertama_sud = list_score.index('Sud') + 1\n",
    "print(score_pertama_sud) # akan menampilkan output 2\n",
    "\n",
    "# Fitur .insert()\n",
    "print(\">>> Fitur .insert()\")\n",
    "list_score = ['Budi','Sud','Budi','Budi','Sud']\n",
    "list_score.insert(3,'Sud')\n",
    "print(list_score)\n",
    "\n",
    "# Fitur .pop()\n",
    "print(\">>> Fitur .pop()\")\n",
    "list_menu = ['Gado-gado', 'Ayam Goreng', 'Rendang']\n",
    "list_menu.pop(1)\n",
    "print(list_menu)\n",
    "\n",
    "# Fitur .remove()\n",
    "print(\">>> Fitur .remove()\")\n",
    "list_menu = ['Gado-gado', 'Ayam Goreng', 'Rendang', 'Ketoprak']\n",
    "list_menu.remove('Rendang')\n",
    "print(list_menu)\n",
    "\n",
    "# Fitur .reverse()\n",
    "print(\">>> Fitur .reverse()\")\n",
    "list_menu = ['Gado-gado', 'Ayam Goreng', 'Rendang', 'Ketoprak']\n",
    "list_menu.reverse()\n",
    "print(list_menu)\n",
    "\n",
    "# Fitur .sort()\n",
    "print(\">>> Fitur .sort()\")\n",
    "list_menu = ['Gado-gado', 'Ayam Goreng', 'Rendang', 'Ketoprak']\n",
    "list_menu.sort() # Default: Ascending\n",
    "print(list_menu) \n",
    "list_menu.sort(reverse=True)# Descending\n",
    "print(list_menu) "
   ]
  },
  {
   "cell_type": "markdown",
   "id": "8758f893",
   "metadata": {},
   "source": [
    "### Tuple Manipulation\n",
    "Aku juga mempelajari fitur yang dapat digunakan untuk melakukan manipulasi data dengan tipe data tuple. "
   ]
  },
  {
   "cell_type": "code",
   "execution_count": 6,
   "id": "cfbedb5a",
   "metadata": {},
   "outputs": [
    {
     "name": "stdout",
     "output_type": "stream",
     "text": [
      ">>> Fitur .count()\n",
      "4\n",
      "3\n",
      ">>> Fitur .index()\n",
      "2\n"
     ]
    }
   ],
   "source": [
    "# Fitur .count()\n",
    "print(\">>> Fitur .count()\")\n",
    "tuple_score = ('Budi', 'Sud', 'Budi', 'Budi', 'Budi', 'Sud', 'Sud')\n",
    "score_budi = tuple_score.count('Budi')\n",
    "score_sud = tuple_score.count('Sud')\n",
    "print(score_budi) # akan menampilkan output 4\n",
    "print(score_sud) # akan menampilkan output 3\n",
    "\n",
    "# Fitur .index()\n",
    "print(\">>> Fitur .index()\")\n",
    "tuple_score = ('Budi','Sud','Budi','Budi','Budi','Sud','Sud')\n",
    "score_pertama_sud = tuple_score.index('Sud')+1\n",
    "print(score_pertama_sud) # akan menampilkan output 2"
   ]
  },
  {
   "cell_type": "markdown",
   "id": "dcd8ede6",
   "metadata": {},
   "source": [
    "### Set Manipulation – Part 1\n",
    "Sedikit berbeda dengan tipe **data list dan tuple**, pada tipe data set terdapat cukup banyak fitur yang disediakan oleh bahasa Python."
   ]
  },
  {
   "cell_type": "code",
   "execution_count": 7,
   "id": "20ab53f1",
   "metadata": {},
   "outputs": [
    {
     "name": "stdout",
     "output_type": "stream",
     "text": [
      ">>> Fitur .add()\n",
      "{'Jeruk', 'Anggur', 'Melon', 'Apel'}\n",
      ">>> Fitur .clear()\n",
      "set()\n",
      ">>> Fitur .copy()\n",
      "{'Jeruk', 'Anggur', 'Melon', 'Apel'}\n",
      "{'Jeruk', 'Anggur', 'Melon', 'Apel'}\n",
      ">>> Fitur .update()\n",
      "{'Anggur', 'Kiwi', 'Melon', 'Apel', 'Jeruk'}\n",
      ">>> Fitur .pop()\n",
      "Jeruk\n",
      "{'Anggur', 'Apel'}\n",
      ">>> Fitur .remove()\n",
      "{'Jeruk', 'Anggur'}\n"
     ]
    }
   ],
   "source": [
    "# Fitur .add()\n",
    "print(\">>> Fitur .add()\")\n",
    "set_buah = {'Jeruk','Apel','Anggur'}\n",
    "set_buah.add('Melon')\n",
    "print(set_buah)\n",
    "\n",
    "# Fitur .clear()\n",
    "print(\">>> Fitur .clear()\")\n",
    "set_buah = {'Jeruk','Apel','Anggur'}\n",
    "set_buah.clear()\n",
    "print(set_buah)\n",
    "\n",
    "# Fitur .copy()\n",
    "print(\">>> Fitur .copy()\")\n",
    "set_buah1 = {'Jeruk','Apel','Anggur'}\n",
    "set_buah2 = set_buah1\n",
    "set_buah3 = set_buah1.copy()\n",
    "set_buah2.add('Melon')\n",
    "set_buah3.add('Kiwi')\n",
    "print(set_buah1)\n",
    "print(set_buah2)\n",
    "\n",
    "# Fitur .update()\n",
    "print(\">>> Fitur .update()\")\n",
    "parcel1 = {'Anggur','Apel','Jeruk'}\n",
    "parcel2 = {'Apel','Kiwi','Melon'}\n",
    "parcel1.update(parcel2)\n",
    "print(parcel1)\n",
    "\n",
    "# Fitur .pop()\n",
    "print(\">>> Fitur .pop()\")\n",
    "parcel = {'Anggur','Apel','Jeruk'}\n",
    "buah = parcel.pop()\n",
    "print(buah)\n",
    "print(parcel)\n",
    "\n",
    "# Fitur .remove()\n",
    "print(\">>> Fitur .remove()\")\n",
    "parcel = {'Anggur','Apel','Jeruk'}\n",
    "parcel.remove('Apel')\n",
    "print(parcel)"
   ]
  },
  {
   "cell_type": "markdown",
   "id": "2aff421d",
   "metadata": {},
   "source": [
    "### Set Manipulation – Part 2\n",
    "Sedikit berbeda dengan tipe data list dan tuple, pada tipe data set terdapat cukup banyak fitur manipulasi yang bisa aku gunakan."
   ]
  },
  {
   "cell_type": "code",
   "execution_count": 12,
   "id": "80d9e1ca",
   "metadata": {},
   "outputs": [
    {
     "name": "stdout",
     "output_type": "stream",
     "text": [
      ">>> Fitur .union()\n",
      "{'Jeruk', 'Anggur', 'Apel'}\n",
      "{'Anggur', 'Kiwi', 'Melon', 'Apel', 'Jeruk'}\n",
      ">>> Fitur .isdisjoint()\n",
      "True\n",
      "False\n",
      ">>> Fitur .issubset()\n",
      "True\n",
      "False\n",
      ">>> Fitur .issuperset()\n",
      "True\n",
      "False\n",
      ">>> Fitur .intersection()\n",
      "{'Jeruk', 'Apel'}\n",
      ">>> Fitur .difference()\n",
      "{'Anggur', 'Kiwi', 'Melon'}\n",
      ">>> Fitur .symmetric_difference()\n",
      "{'Leci', 'Semangka', 'Anggur', 'Melon'}\n"
     ]
    }
   ],
   "source": [
    "# Fitur .union()\n",
    "# Mengembalikan hasil penggabungan (union) dari dua buah set.\n",
    "print(\">>> Fitur .union()\")\n",
    "parcel1 = {'Anggur','Apel','Jeruk'}\n",
    "parcel2 = {'Apel','Kiwi','Melon'}\n",
    "parcel3 = parcel1.union(parcel2)\n",
    "print(parcel1)\n",
    "print(parcel3)\n",
    "\n",
    "# Fitur .isdisjoint()\n",
    "# Mengembalikan nilai kebenaran apakah suatu set disjoint \n",
    "# (saling lepas/tidak mengandung elemen yang sama) dengan set lainnya.\n",
    "print(\">>> Fitur .isdisjoint()\")\n",
    "parcel1 = {'Anggur','Apel','Jeruk'}\n",
    "parcel2 = {'Kiwi','Melon','Pisang'}\n",
    "parcel3 = {'Apel','Srikaya','Semangka'}\n",
    "parcel1_parcel2_disjoint = parcel1.isdisjoint(parcel2)\n",
    "print(parcel1_parcel2_disjoint)\n",
    "parcel1_parcel3_disjoint = parcel1.isdisjoint(parcel3)\n",
    "print(parcel1_parcel3_disjoint)\n",
    "\n",
    "# Fitur .issubset()\n",
    "# .issubset()\t\n",
    "# Mengembalikan nilai kebenaran apakah sebuah set merupakan subset dari set lainnya. \n",
    "# Sebuah set A merupakan subset dari set B jika seluruh elemen dari set A merupakan bagian dari set B.\n",
    "print(\">>> Fitur .issubset()\")\n",
    "parcel_A = {'Anggur', 'Apel'}\n",
    "parcel_B = {'Durian','Semangka','Apel'}\n",
    "parcel_C = {'Anggur', 'Kiwi', 'Apel', 'Jeruk', 'Melon'}\n",
    "parcel_A_dalam_C = parcel_A.issubset(parcel_C)\n",
    "parcel_B_dalam_C = parcel_B.issubset(parcel_C)\n",
    "print(parcel_A_dalam_C)\n",
    "print(parcel_B_dalam_C)\n",
    "\n",
    "# Fitur .issuperset()\n",
    "# Mengembalikan nilai kebenaran apakah sebuah set merupakan superset dari set lainnya. \n",
    "# Sebuah set A merupakan superset dari set B jika seluruh elemen dari set B terkandung dalam set A.\n",
    "print(\">>> Fitur .issuperset()\")\n",
    "parcel_C_mengandung_A = parcel_C.issuperset(parcel_A)\n",
    "parcel_C_mengandung_B = parcel_C.issuperset(parcel_B)\n",
    "print(parcel_C_mengandung_A)\n",
    "print(parcel_C_mengandung_B)\n",
    "\n",
    "# Fitur .intersection()\n",
    "# Mengembalikan sebuah set yang merupakan intersection dari dua set lainnya.\n",
    "print(\">>> Fitur .intersection()\")\n",
    "parcel_A = {'Anggur', 'Kiwi', 'Apel', 'Jeruk', 'Melon'}\n",
    "parcel_B = {'Apel', 'Jeruk', 'Semangka', 'Durian', 'Tomat'}\n",
    "parcel_C = parcel_A.intersection(parcel_B)\n",
    "print(parcel_C)\n",
    "\n",
    "# Fitur .difference()\n",
    "# Mengembalikan sebuah set yang berisikan difference dari dua set lainnya. \n",
    "# Difference dari sebuah set A berdasarkan set B adalah \n",
    "# setiap elemen yang terdapat di set A tetapi tidak terdapat di set B.\n",
    "print(\">>> Fitur .difference()\")\n",
    "parcel_C = parcel_A.difference(parcel_B)\n",
    "print(parcel_C)\n",
    "\n",
    "# Fitur .symmetric_difference()\n",
    "# Mengembalikan sebuah set yang berisikan symmetric difference dari dua set lainnya. \n",
    "# Symmetric difference dari sebuah set A dan B adalah setiap elemen dari set A yang tidak terdapat di set B \n",
    "# digabungkan dengan (union) setiap elemen dari set B yang tidak terdapat di set A.\n",
    "print(\">>> Fitur .symmetric_difference()\")\n",
    "parcel_A = {'Anggur', 'Apel', 'Jeruk', 'Melon'}\n",
    "parcel_B = {'Apel','Jeruk','Semangka','Leci'}\n",
    "parcel_C = parcel_A.symmetric_difference(parcel_B)\n",
    "print(parcel_C)"
   ]
  },
  {
   "cell_type": "markdown",
   "id": "8bfdc478",
   "metadata": {},
   "source": [
    "### Dictionary Manipulation\n",
    "\n"
   ]
  },
  {
   "cell_type": "code",
   "execution_count": 10,
   "id": "1ade1672",
   "metadata": {},
   "outputs": [
    {
     "name": "stdout",
     "output_type": "stream",
     "text": [
      ">>> Fitur .clear()\n",
      "{}\n",
      ">>> Fitur .copy()\n",
      "{'nama': 'Aksara', 'nik': '1211011', 'pekerjaan': 'Data Analyst'}\n",
      "{'nama': 'Senja', 'nik': '1211056', 'pekerjaan': 'Data Analyst'}\n",
      ">>> Fitur .keys()\n",
      "['nama', 'nik', 'pekerjaan']\n",
      ">>> Fitur .values()\n",
      "['Aksara', '1211011', 'Data Analyst']\n",
      ">>> Fitur .update()\n",
      "{'nama': 'Aksara', 'nik': '1211011', 'pekerjaan': 'Data Analyst', 'skillset': ['Python', 'R']}\n"
     ]
    }
   ],
   "source": [
    "# Fitur .clear()\n",
    "# Menghapus seluruh elemen dalam sebuah dictionary\n",
    "print(\">>> Fitur .clear()\")\n",
    "info_karyawan = {'nama' : 'Aksara',\n",
    "                 'nik' : '1211011',\n",
    "                 'pekerjaan' : 'Data Analyst'}\n",
    "info_karyawan.clear()\n",
    "print(info_karyawan)\n",
    "\n",
    "# Fitur .copy()\n",
    "# Mengembalikan copy dari setiap elemen dalam set. \n",
    "# Serupa dengan fitur copy() pada tipe data collections lainnya, \n",
    "# fitur copy() tidak akan mengubah nilai dari elemen asal seperti fungsi assignment.\n",
    "print(\">>> Fitur .copy()\")\n",
    "info_karyawan1 = {'nama' : 'Aksara',\n",
    "                  'nik' : '1211011',\n",
    "                  'pekerjaan' : 'Data Analyst'}\n",
    "info_karyawan2 = info_karyawan1.copy()\n",
    "info_karyawan2['nama'] = 'Senja'\n",
    "info_karyawan2['nik'] = '1211056'\n",
    "print(info_karyawan1)\n",
    "print(info_karyawan2)\n",
    "\n",
    "# Fitur .keys()\n",
    "# Mengembalikan list dari seluruh kunci akses (\"key\") dari setiap elemen dalam sebuah dictionary.\n",
    "print(\">>> Fitur .keys()\")\n",
    "info_karyawan = {'nama' : 'Aksara',\n",
    "                 'nik' : '1211011',\n",
    "                 'pekerjaan' : 'Data Analyst'}\n",
    "kunci_akses = list(info_karyawan.keys())\n",
    "print(kunci_akses)\n",
    "\n",
    "# Fitur .values()\n",
    "# Mengembalikan list dari seluruh nilai (\"value\") dari setiap elemen dalam sebuah dictionary\n",
    "print(\">>> Fitur .values()\")\n",
    "value_dict = list(info_karyawan.values())\n",
    "print(value_dict)\n",
    "\n",
    "# Fitur .update()\n",
    "# Menambahkan kunci akses (\"key\") dan nilai baru (\"value\") ke dalam sebuah dictionary.\n",
    "print(\">>> Fitur .update()\")\n",
    "info_karyawan.update({'skillset':['Python', 'R']})\n",
    "print(info_karyawan)\n"
   ]
  },
  {
   "cell_type": "markdown",
   "id": "f2514bff",
   "metadata": {},
   "source": [
    "### Useful Tips and Tricks"
   ]
  },
  {
   "cell_type": "code",
   "execution_count": 13,
   "id": "c1ded4ba",
   "metadata": {},
   "outputs": [
    {
     "name": "stdout",
     "output_type": "stream",
     "text": [
      ">>> Tuple\n",
      "4\n",
      ">>> List\n",
      "4\n",
      ">>> Konversi tipe data\n",
      "{'Jeruk', 'Markisa', 'Apel'}\n",
      "['Apel', 'Jeruk', 'Markisa']\n"
     ]
    }
   ],
   "source": [
    "# Tuple\n",
    "print(\">>> Tuple\")\n",
    "tuple_menu = ('Gado-gado','Ayam Goreng','Rendang','Ketoprak')\n",
    "jumlah_menu = len(tuple_menu)\n",
    "print(jumlah_menu)\n",
    "\n",
    "# List\n",
    "print(\">>> List\")\n",
    "list_menu = ['Gado-gado','Ayam Goreng','Rendang','Ketoprak']\n",
    "jumlah_menu = len(list_menu)\n",
    "print(jumlah_menu)\n",
    "\n",
    "# Konversi tipe data\n",
    "print(\">>> Konversi tipe data\")\n",
    "list_buah = ['Apel', 'Apel', 'Jeruk', 'Markisa', 'Jeruk', 'Markisa', 'Apel']\n",
    "set_buah = set(list_buah)\n",
    "print(set_buah)\n",
    "list_buah = list(set_buah)\n",
    "list_buah.sort()\n",
    "print(list_buah)"
   ]
  },
  {
   "cell_type": "markdown",
   "id": "ffda8fca",
   "metadata": {},
   "source": [
    "### Tugas Praktek\n"
   ]
  },
  {
   "cell_type": "code",
   "execution_count": 14,
   "id": "d25aeadd",
   "metadata": {},
   "outputs": [
    {
     "name": "stdout",
     "output_type": "stream",
     "text": [
      "2.8277777777777775\n",
      "7.8999999999999995\n"
     ]
    }
   ],
   "source": [
    "# Data keuangan\n",
    "keuangan = {\n",
    "'pengeluaran': [2, 2.5, 2.25, 2.5, 3.2, 2.5, 3.5, 4, 3],\n",
    "'pemasukan': [7.8, 7.5, 9, 7.6, 7.2, 7.5, 7, 10, 7.5]\n",
    "}\n",
    "# Perhitungan rata-rata pemasukan dan rata-rata pengeluaran\n",
    "total_pengeluaran = 0\n",
    "total_pemasukan = 0\n",
    "for biaya in keuangan['pengeluaran']: \n",
    "    total_pengeluaran += biaya\n",
    "for biaya in keuangan['pemasukan']: \n",
    "    total_pemasukan += biaya\n",
    "rata_rata_pengeluaran = total_pengeluaran/len(keuangan['pengeluaran']) \n",
    "rata_rata_pemasukan = total_pemasukan/len(keuangan['pemasukan'])\n",
    "print(rata_rata_pengeluaran) \n",
    "print(rata_rata_pemasukan)"
   ]
  },
  {
   "cell_type": "markdown",
   "id": "1b763074",
   "metadata": {},
   "source": [
    "### Apa itu String Manipulation?\n",
    "Aku belajar bahwa String Manipulation adalah teknik yang digunakan dalam memanipulasi data yang disimpan dalam tipe data str. Pada bahasa Python, untuk mempermudah proses pengolahan data, tipe data string dapat diperlakukan layaknya seperti tipe data list."
   ]
  },
  {
   "cell_type": "code",
   "execution_count": 15,
   "id": "77261a0c",
   "metadata": {},
   "outputs": [
    {
     "name": "stdout",
     "output_type": "stream",
     "text": [
      "SePatu NiKo\n",
      "SePatu \n",
      "NiKo\n",
      "11\n"
     ]
    }
   ],
   "source": [
    "nama_produk = \"Sepatu Niko\"\n",
    "nama_produk = nama_produk[:2] + \"P\" + nama_produk[3:9] + \"K\" + nama_produk[-1]\n",
    "print(nama_produk)\n",
    "print(nama_produk[:7])\n",
    "print(nama_produk[7:])\n",
    "print(len(nama_produk))"
   ]
  },
  {
   "cell_type": "markdown",
   "id": "b6ca552d",
   "metadata": {},
   "source": [
    "### Operator “+” untuk Tipe Data String\n",
    "Setelah aku mempelajari String Manipulation, sekarang aku beralih ke Operator +. Operator + pada dua string akan secara otomatis menggabungkan kedua string tersebut. Operator + juga dapat digunakan untuk menambahkan beberapa string secara bersamaan."
   ]
  },
  {
   "cell_type": "code",
   "execution_count": 16,
   "id": "f3ed2e8a",
   "metadata": {},
   "outputs": [
    {
     "name": "stdout",
     "output_type": "stream",
     "text": [
      "John Doee\n",
      "Hi, saya John Doee umur 27 tahun ,tinggal di Jl. Anggrek No. 100.\n"
     ]
    }
   ],
   "source": [
    "nama_depan = 'John'\n",
    "nama_belakang = 'Doee'\n",
    "nama_lengkap = nama_depan + ' ' + nama_belakang\n",
    "print(nama_lengkap)\n",
    "umur = '27 tahun'\n",
    "alamat = 'Jl. Anggrek No. 100'\n",
    "nama_umur_alamat = 'Hi, saya ' + nama_lengkap + ' umur ' + umur + ' ,tinggal di ' + alamat + '.'\n",
    "print(nama_umur_alamat)"
   ]
  },
  {
   "cell_type": "markdown",
   "id": "f69eb741",
   "metadata": {},
   "source": [
    "### Menghilangkan Spasi di Awal dan/atau di Akhir\n",
    "Sekarang aku akan mempelajari bagaimana menghilangkan kelebihan spasi yang dimiliki di awal dan/atau di akhir variabel string. Pertama, aku melihat fitur yang diberikan pada tabel contoh."
   ]
  },
  {
   "cell_type": "code",
   "execution_count": 17,
   "id": "5281611c",
   "metadata": {},
   "outputs": [
    {
     "name": "stdout",
     "output_type": "stream",
     "text": [
      ">>> Fitur .strip()\n",
      "halo, selamat siang!\n",
      ">>> Fitur .lstrip()\n",
      "halo, selamat siang! \n",
      ">>> Fitur .rstrip()\n",
      " halo, selamat siang!\n"
     ]
    }
   ],
   "source": [
    "# Fitur .strip()\n",
    "# Menghilangkan kelebihan spasi pada awal dan akhir string.\n",
    "print(\">>> Fitur .strip()\")\n",
    "kata_sambutan = ' halo, selamat siang! '\n",
    "kata_sambutan = kata_sambutan.strip()\n",
    "print(kata_sambutan)\n",
    "\n",
    "# Fitur .lstrip()\n",
    "# Menghilangkan kelebihan spasi pada awal string.\n",
    "print(\">>> Fitur .lstrip()\")\n",
    "kata_sambutan = ' halo, selamat siang! '\n",
    "kata_sambutan = kata_sambutan.lstrip()\n",
    "print(kata_sambutan)\n",
    "\n",
    "# Fitur .rstrip()\n",
    "# Menghilangkan kelebihan spasi pada akhir string.\n",
    "print(\">>> Fitur .rstrip()\")\n",
    "kata_sambutan = ' halo, selamat siang! '\n",
    "kata_sambutan = kata_sambutan.rstrip()\n",
    "print(kata_sambutan)"
   ]
  },
  {
   "cell_type": "markdown",
   "id": "3470d6f8",
   "metadata": {},
   "source": [
    "### Merubah Caps pada String\n",
    "Pada bagian ini, aku akan mempelajari cara merubah caps **(penggunaan huruf besar dan kecil)**. Jika diawal kalimat pada suatu string yang dimiliki belum berupa huruf kapital, maka dengan menggunakan **fitur .capitalize()** kita dengan mudah mengubah string tersebut menjadi kalimat yang benar secara bahasa."
   ]
  },
  {
   "cell_type": "code",
   "execution_count": 18,
   "id": "1866bd57",
   "metadata": {},
   "outputs": [
    {
     "name": "stdout",
     "output_type": "stream",
     "text": [
      ">>> Fitur .capitalize()\n",
      "Belajar bahasa python\n",
      ">>> Fitur .lower()\n",
      "belajar bahasa python.\n",
      ">>> Fitur .upper()\n",
      "BELAJAR BAHASA PYTHON.\n"
     ]
    }
   ],
   "source": [
    "# Fitur .capitalize()\n",
    "# Mengubah elemen pertama dari string menjadi huruf kapital.\n",
    "print(\">>> Fitur .capitalize()\")\n",
    "judul_buku = 'belajar bahasa Python'\n",
    "print(judul_buku.capitalize())\n",
    "\n",
    "# Fitur .lower()\n",
    "# Mengubah seluruh huruf dalam teks (string) menjadi huruf kecil\n",
    "print(\">>> Fitur .lower()\")\n",
    "judul_buku = 'Belajar Bahasa PYTHON.'\n",
    "print(judul_buku.lower())\n",
    "\n",
    "# Fitur .upper()\n",
    "# Mengubah seluruh huruf dalam teks (string) menjadi huruf besar\n",
    "print(\">>> Fitur .upper()\")\n",
    "judul_buku = 'Belajar Bahasa PYTHON.'\n",
    "print(judul_buku.upper())"
   ]
  },
  {
   "cell_type": "markdown",
   "id": "dc9ed6bc",
   "metadata": {},
   "source": [
    "### Pemecahan, Penggabungan, dan Penggantian String\n",
    "\n",
    "Pada bagian ini, aku akan mempelajari bagaimana cara memecah suatu string dengan kondisi tertentu sehingga menghasilkan list of string. Kemudian, akan dipelajari bagaimana cara menggabungkan beberapa list of string menjadi string saja. Akhirnya, aku akan mengganti sub-string tertentu dengan sub-string lainnya sehingga mengubah string awalnya."
   ]
  },
  {
   "cell_type": "code",
   "execution_count": 19,
   "id": "355b6645",
   "metadata": {},
   "outputs": [
    {
     "name": "stdout",
     "output_type": "stream",
     "text": [
      ">>> Fitur .split()\n",
      "['ani ', ' budi ', ' wati ', ' johan']\n",
      "['ani', 'dan', 'budi', 'dan', 'wati', 'dan', 'johan']\n",
      ">>> Fitur .join()\n",
      "Ricky dan Peter dan Jordan\n",
      "Ricky Peter Jordan\n",
      ">>> Fitur .replace()\n",
      "jeruk malang jeruk yang paling segar, jeruk sehat, jeruk nikmat\n"
     ]
    }
   ],
   "source": [
    "# Fitur .split()\n",
    "# Memecah sebuah string berdasarkan string lainnya ke dalam sebuah list.\n",
    "print(\">>> Fitur .split()\")\n",
    "frasa = \"ani dan budi dan wati dan johan\"\n",
    "karakter = frasa.split(\"dan\")\n",
    "print(karakter)\n",
    "kata = frasa.split(\" \")\n",
    "print(kata)\n",
    "\n",
    "# Fitur .join()\n",
    "# Menggabungkan sebuah list yang berisikan string berdasarkan sebuah string yang telah didefinisikan.\n",
    "print(\">>> Fitur .join()\")\n",
    "pemisah = \" dan \"\n",
    "karakter = [\"Ricky\", \"Peter\", \"Jordan\"]\n",
    "frasa = pemisah.join(karakter)\n",
    "print(frasa)\n",
    "frasa = \" \".join(karakter)\n",
    "print(frasa)\n",
    "\n",
    "# Fitur .replace()\n",
    "# Menggantikan kemunculan suatu string tertentu dengan string lainnya dalam sebuah string.\n",
    "print(\">>> Fitur .replace()\")\n",
    "frasa = \"apel malang apel yang paling segar, apel sehat, apel nikmat\"\n",
    "frasa = frasa.replace(\"apel\",\"jeruk\")\n",
    "print(frasa)"
   ]
  },
  {
   "cell_type": "markdown",
   "id": "1560b36a",
   "metadata": {},
   "source": [
    "### Menentukan Posisi dan Jumlah Sub-string pada String\n",
    "Pada bagian ini, aku akan mempelajari bagaimana cara menentukan posisi awal suatu sub-string dan jumlah kemunculan sub-string tersebut pada suatu string agar lebih memahami bagaimana penerapannya pada Python."
   ]
  },
  {
   "cell_type": "code",
   "execution_count": 20,
   "id": "ab875e04",
   "metadata": {},
   "outputs": [
    {
     "name": "stdout",
     "output_type": "stream",
     "text": [
      ">>> Fitur .find()\n",
      "0\n",
      "5\n",
      ">>> Fitur .count()\n",
      "3\n"
     ]
    }
   ],
   "source": [
    "teks = \"Apel malang adalah apel termanis dibanding apel-apel lainnya\"\n",
    "# Fitur .find()\n",
    "# Mengembalikan posisi dari sebuah teks (sub-string) lainnya dalam sebuah string.\n",
    "print(\">>> Fitur .find()\")\n",
    "print(teks.find(\"Apel\"))\n",
    "print(teks.find(\"malang\"))\n",
    "\n",
    "# Fitur .count()\n",
    "# Menghitung jumlah kemunculan sebuah teks (string) lainnya dalam suatu string\n",
    "# (string yang dicari bersifat case sensitive).\n",
    "print(\">>> Fitur .count()\")\n",
    "kemunculan_kata_apel = teks.count(\"apel\")\n",
    "print(kemunculan_kata_apel)"
   ]
  },
  {
   "cell_type": "markdown",
   "id": "97289362",
   "metadata": {},
   "source": [
    "### Menentukan String Apakah Diawali/Diakhiri oleh Sub-string\n",
    "Pada bagian ini, aku akan mempelajari bagaimana menentukan apakah suatu string diawali atau diakhiri dengan suatu substring (teks) tertentu."
   ]
  },
  {
   "cell_type": "code",
   "execution_count": 21,
   "id": "1d6fb62d",
   "metadata": {},
   "outputs": [
    {
     "name": "stdout",
     "output_type": "stream",
     "text": [
      ">>> Fitur .startswith()\n",
      "True\n",
      "False\n",
      ">>> Fitur .endswith()\n",
      "True\n",
      "False\n"
     ]
    }
   ],
   "source": [
    "# Fitur .startswith()\n",
    "# Mengembalikan nilai kebenaran True ketika sebuah teks (string) diawali dengan sebuah teks lainnya.\n",
    "print(\">>> Fitur .startswith()\")\n",
    "teks = \"Apel malang adalah apel termanis dibanding apel-apel lainnya\"\n",
    "print(teks.startswith(\"Apel\"))\n",
    "print(teks.startswith(\"apel\"))\n",
    "\n",
    "# Fitur .endswith()\n",
    "# Mengembalikan nilai kebenaran True ketika sebuah teks (string) diakhiri dengan sebuah teks lainnya.\n",
    "print(\">>> Fitur .endswith()\")\n",
    "print(teks.endswith(\"lainnya\"))\n",
    "print(teks.endswith(\"apel\"))"
   ]
  },
  {
   "cell_type": "markdown",
   "id": "b8fc0d7d",
   "metadata": {},
   "source": [
    "### Tugas Praktek"
   ]
  },
  {
   "cell_type": "code",
   "execution_count": 23,
   "id": "c34f59c8",
   "metadata": {},
   "outputs": [
    {
     "name": "stdout",
     "output_type": "stream",
     "text": [
      "Jumlah artikel \"jeruk\" :  10\n",
      "Jumlah artikel \"salak\" :  11\n"
     ]
    }
   ],
   "source": [
    "judul_artikel = [\n",
    "\"Buah Salak Baik untuk Mata\", \"Buah Salak Kaya Potasium\", \n",
    "\"Buah Jeruk Kaya Vitamin C\", \"Buah Salak Kaya Manfaat\", \n",
    "\"Salak Baik untuk Jantung\", \"Jeruk dapat Memperkuat Tulang\", \n",
    "\"Jeruk Mencegah Penyakit Asma\", \"Jeruk Memperkuat Gigi\", \n",
    "\"Jeruk Mencegah Kolesterol Jahat\", \"Salak Mencegah Diabetes\", \n",
    "\"Salak Memperkuat Dinding Usus\", \"Salak Baik untuk Darah\",\n",
    "\"Jeruk Kaya Manfaat untuk Jantung\", \"Salak si Kecil yang Baik\", \n",
    "\"Jeruk dan Salak Buah Kaya Manfaat\", \"Buah Jeruk Enak\",\n",
    "\"Tips Panen Jeruk Ribuan Kilo\", \"Tips Bertanam Salak\", \n",
    "\"Salak Manis untuk Berbuka\", \"Jeruk Baik untuk Wajah\"\n",
    "]\n",
    "jumlah_artikel_jeruk = 0\n",
    "jumlah_artikel_salak = 0\n",
    "\n",
    "for judul in judul_artikel:\n",
    "    if judul.count(\"Jeruk\") > 0: \n",
    "        jumlah_artikel_jeruk += 1\n",
    "    if judul.count(\"Salak\") > 0:\n",
    "        jumlah_artikel_salak += 1\n",
    "\t\t\n",
    "print('Jumlah artikel \"jeruk\" : ', jumlah_artikel_jeruk) \n",
    "print('Jumlah artikel \"salak\" : ',jumlah_artikel_salak)"
   ]
  },
  {
   "cell_type": "markdown",
   "id": "f59dbe4e",
   "metadata": {},
   "source": [
    "### Tugas Praktek\n",
    "Setelah selesai menghitung jumlah kemunculan kata, aku mencoba berpikir dari sudut pandang si pemilik majalah. Kalau aku jadi mereka, tentunya aku juga ingin tahu apakah kata yang muncul itu bermuatan positif atau tidak. Nah ini!\n",
    "\n",
    "Tugas:\n",
    "Dengan cepat, aku mendeklarasikan daftar bernama kata_positif yang berisi nuansa kata positif untuk menghitung jumlah kemunculan **kata_positif** bagi tiap artikel jeruk dan salak, seperti ini:"
   ]
  },
  {
   "cell_type": "code",
   "execution_count": 25,
   "id": "7c679755",
   "metadata": {},
   "outputs": [
    {
     "name": "stdout",
     "output_type": "stream",
     "text": [
      "Jumlah kata positif \"jeruk\" :  8\n",
      "Jumlah kata positif \"salaj\" :  9\n"
     ]
    }
   ],
   "source": [
    "judul_artikel = [\n",
    "\"Buah Salak Baik untuk Mata\", \"Buah Salak Kaya Potasium\", \n",
    "\"Buah Jeruk Kaya Vitamin C\", \"Buah Salak Kaya Manfaat\", \n",
    "\"Salak Baik untuk Jantung\", \"Jeruk dapat Memperkuat Tulang\", \n",
    "\"Jeruk Mencegah Penyakit Asma\", \"Jeruk Memperkuat Gigi\", \n",
    "\"Jeruk Mencegah Kolesterol Jahat\", \"Salak Mencegah Diabetes\", \n",
    "\"Salak Memperkuat Dinding Usus\", \"Salak Baik untuk Darah\",\n",
    "\"Jeruk Kaya Manfaat untuk Jantung\", \"Salak si Kecil yang Baik\", \n",
    "\"Jeruk dan Salak Buah Kaya Manfaat\", \"Buah Jeruk Enak\",\n",
    "\"Tips Panen Jeruk Ribuan Kilo\", \"Tips Bertanam Salak\", \n",
    "\"Salak Manis untuk Berbuka\", \"Jeruk Baik untuk Wajah\"\n",
    "]\n",
    "kata_positif = [\"Kaya\", \"Baik\", \"Mencegah\", \"Memperkuat\"]\n",
    "kata_positif_jeruk = 0\n",
    "kata_positif_salak = 0\n",
    "\n",
    "for judul in judul_artikel: \n",
    "    for kata in kata_positif:\n",
    "        if judul.count(\"Jeruk\") > 0 and judul.count(kata)>0: \n",
    "            kata_positif_jeruk += 1\n",
    "        if judul.count(\"Salak\") > 0 and judul.count(kata)>0:\n",
    "            kata_positif_salak += 1\n",
    "\t\t\t\n",
    "print('Jumlah kata positif \"jeruk\" : ',kata_positif_jeruk) \n",
    "print('Jumlah kata positif \"salaj\" : ',kata_positif_salak)"
   ]
  },
  {
   "cell_type": "markdown",
   "id": "f3618d7d",
   "metadata": {},
   "source": [
    "## Apa itu Functions?\n",
    "Function adalah **sebuah blok statemen yang hanya akan dijalankan saat ia dipanggil**. Secara tidak sadar, selama proses belajar ini, aku telah mencoba menggunakan fungsi-fungsi dalam bahasa pemrograman Python.\n",
    "\n",
    "**Fungsi len()** untuk mengukur jumlah elemen dalam sebuah list dan **fungsi print()** untuk menampilkan pesan pada layar konsol merupakan contoh dari bentuk fungsi yang telah disediakan oleh bahasa pemrograman Python, atau dengan kata lain **built-in functions**.\n",
    "\n",
    "Selain fungsi yang telah disediakan oleh Python, Python mengizinkan aku untuk mendeklarasikan fungsi dalam kode yang aku tuliskan yang dikenal dengan **user defined function**.\n",
    "\n",
    "     def nama_fungsi(argument):\n",
    "         statement_1\n",
    "         …\n",
    "         statement_n\n",
    "         return returned_value\n",
    "     \n",
    "Aku menuliskan dalam catatanku:\n",
    "\n",
    "1. nama_fungsi adalah nama untuk fungsi yang kita definisikan, memiliki aturan seperti penamaan variabel\n",
    "2. argument adalah variabel masukan ke fungsi, bisa tanpa variabel, satu variabel atau lebih\n",
    "3. statement_1 … statement_n adalah algoritma yang telah kita transfer dalam bahasa Python. Ini merupakan inti dari fungsi yang kita definisikan. Seluruh statement adalah menjorok (indent) ke dalam seperti yang pernah dipelajari pada conditioning dan looping\n",
    "4. return_value adalah variabel output dari fungsi kita. Bisa tanpa variabel, satu variabel, atau lebih."
   ]
  },
  {
   "cell_type": "markdown",
   "id": "54bfff37",
   "metadata": {},
   "source": [
    "### Fungsi Pertama\n",
    "**contoh_fungsi** merupakan nama dari fungsi yang aku deklarasikan dan statemen-statemen di dalamnya disebut sebagai isi **(body)** dari fungsi."
   ]
  },
  {
   "cell_type": "code",
   "execution_count": 26,
   "id": "44ce6280",
   "metadata": {},
   "outputs": [
    {
     "name": "stdout",
     "output_type": "stream",
     "text": [
      "Halo Dunia\n",
      "Aku sedang belajar bahasa Python\n"
     ]
    }
   ],
   "source": [
    "# Definisikan fungsi\n",
    "def contoh_fungsi():\n",
    "    print(\"Halo Dunia\")\n",
    "    print(\"Aku sedang belajar bahasa Python\")\n",
    "\t\n",
    "# Panggil fungsi yang telah didefinisikan\n",
    "contoh_fungsi()"
   ]
  },
  {
   "cell_type": "markdown",
   "id": "0ce599ff",
   "metadata": {},
   "source": [
    "### Fungsi Kedua\n",
    "Sebuah fungsi dapat menerima serangkaian argumen pada bagian dalam kurung setelah nama fungsi telah aku definisikan.\n",
    "\n",
    "**fungsi_dengan_argumen** membutuhkan dua argumen **(nama_depan, nama_belakang)**.\n",
    "Python akan menjalankan sebuah fungsi hanya ketika aku telah mensuplai jumlah argumen yang sesuai saat fungsi didefinisikan."
   ]
  },
  {
   "cell_type": "code",
   "execution_count": 27,
   "id": "68b6dc39",
   "metadata": {},
   "outputs": [
    {
     "name": "stdout",
     "output_type": "stream",
     "text": [
      "John Doe\n"
     ]
    }
   ],
   "source": [
    "# Definsikan fungsi \n",
    "def fungsi_dengan_argumen(nama_depan, nama_belakang):\n",
    "    print(nama_depan+ \" \" +nama_belakang)\n",
    "    \n",
    "# Panggil fungsi dengan memasukkan argumen\n",
    "# nama_depan yaitu \"John\" dan nama_belakang \"Doe\"\n",
    "fungsi_dengan_argumen(\"John\", \"Doe\")"
   ]
  },
  {
   "cell_type": "markdown",
   "id": "f6ea878e",
   "metadata": {},
   "source": [
    "### Fungsi Ketiga\n",
    "Saat aku melakukan pemanggilan fungsi dengan jumlah argumen yang tidak sesuai, Python akan mengembalikan pesan error yang menyatakan bahwa terdapat argumen yang belum disuplai agar fungsi dapat dijalankan dengan baik.\n",
    "\n",
    "Berikut ini adalah contoh pesan error yang akan dikembalikan oleh Python saat aku hanya menyuplai satu argumen saja untuk **fungsi_dengan_argumen**:\n",
    "\n",
    "    Type Error: function fungsi_dengan_argumen() missing 1 required positional argument: nama_belakang\n",
    " \n",
    "\n",
    "Bahasa Python mengizinkan aku untuk memberikan suatu nilai default terkait dengan sebuah argumen dalam sebuah fungsi. Melalui fitur ini, suatu argumen dalam sebuah fungsi akan bersifat opsional."
   ]
  },
  {
   "cell_type": "code",
   "execution_count": 29,
   "id": "cc30baf0",
   "metadata": {},
   "outputs": [
    {
     "name": "stdout",
     "output_type": "stream",
     "text": [
      "John \n",
      "John Doe\n"
     ]
    }
   ],
   "source": [
    "# Definsikan fungsi dengan nilai default argument kedua adalah \"\".\n",
    "def fungsi_dengan_argumen(nama_depan, nama_belakang = \"\"):\n",
    "\tprint(nama_depan+ \" \" +nama_belakang)\n",
    "    \n",
    "# Panggil fungsi dengan memasukkan argumen nama_depan \"John\"\n",
    "fungsi_dengan_argumen(\"John\")\n",
    "\n",
    "# Panggil fungsi dengan memasukkan argumen\n",
    "# nama_depan yaitu \"John\" dan nama_belakang \"Doe\"\n",
    "fungsi_dengan_argumen(\"John\", \"Doe\")\n",
    "\n"
   ]
  },
  {
   "cell_type": "code",
   "execution_count": 33,
   "id": "ca161578",
   "metadata": {},
   "outputs": [
    {
     "name": "stdout",
     "output_type": "stream",
     "text": [
      "Rata-rata data1: 105.0\n",
      "Rata-rata data2: 73.0\n"
     ]
    }
   ],
   "source": [
    "# Tugas Praktek\n",
    "\n",
    "# Dua buah data yang tersimpan dalam tipe list\n",
    "data1 = [70, 70, 70, 100, 100, 100, 120, 120, 150, 150]\n",
    "data2 = [50, 60, 60, 50, 70, 70, 100, 80, 100, 90]\n",
    "\n",
    "# Definisikan fungsi hitng_rata_rata\n",
    "def hitung_rata_rata(data):\n",
    "    jumlah = 0\n",
    "    for item in data:\n",
    "        jumlah += item\n",
    "    rata_rata = jumlah / len(data)\n",
    "    return rata_rata\n",
    "\n",
    "# Hitung nilai rata-rata dari kedua data yang dimiliki\n",
    "print('Rata-rata data1:', hitung_rata_rata(data1))\n",
    "print('Rata-rata data2:', hitung_rata_rata(data2))\n"
   ]
  },
  {
   "cell_type": "markdown",
   "id": "78f12650",
   "metadata": {},
   "source": [
    "### Tugas Praktek\n",
    "\n",
    "Tugas:\n",
    "Tolong buat satu **fungsi untuk menghitung standar deviasi data** dari data yang sudah saya berikan tadi (data dalam list of numeric bertipe int atau float).\n",
    "\n",
    "data1 = [70, 70, 70, 100, 100, 100, 120, 120, 150, 150]\n",
    "\n",
    "dan\n",
    "\n",
    "data2 = [50, 60, 60, 50, 70, 70, 100, 80, 100, 90]\n",
    " \n",
    "definisi matematis dari perhitungan standar deviasi, yaitu :\n",
    "\n",
    "    std = ( (sigma i=1 sd N (Xi - X_rata2)**2)/N )**1/2\n",
    "\n",
    "\n",
    "dengan **N** adalah jumlah data, **Xi** merupakan data ke-i dan **X_rata2** merupakan nilai rata-rata dari data.\n",
    "\n",
    " \n",
    "\n",
    "\n",
    "\n",
    " \n",
    "\n"
   ]
  },
  {
   "cell_type": "code",
   "execution_count": 35,
   "id": "eff4ff0d",
   "metadata": {},
   "outputs": [
    {
     "name": "stdout",
     "output_type": "stream",
     "text": [
      "Standar deviasi data1: 28.722813232690143\n",
      "Standar deviasi data2: 17.916472867168917\n"
     ]
    }
   ],
   "source": [
    "# Dua buah data yang tersimpan dalam tipe list\n",
    "data1 = [70, 70, 70, 100, 100, 100, 120, 120, 150, 150]\n",
    "data2 = [50, 60, 60, 50, 70, 70, 100, 80, 100, 90]\n",
    "\n",
    "# Fungsi rata-rata data\n",
    "def hitung_rata_rata(data):\n",
    "    jumlah = 0\n",
    "    for item in data:\n",
    "        jumlah += item\n",
    "    rata_rata = jumlah/len(data)\n",
    "    return rata_rata\n",
    "\n",
    "# Definisikan fungsi hitung_standar_deviasi\n",
    "def hitung_standar_deviasi(data):\n",
    "    rata_rata_data = hitung_rata_rata(data)\n",
    "    varians = 0\n",
    "    for item in data:\n",
    "        varians += (item - rata_rata_data) ** 2\n",
    "    varians /= len(data)\n",
    "    standar_deviasi = varians ** (1/2)\n",
    "    return standar_deviasi\n",
    "\n",
    "# Hitung nilai standar deviasi dari kedua data yang dimiliki\n",
    "print('Standar deviasi data1:', hitung_standar_deviasi(data1))\n",
    "print('Standar deviasi data2:', hitung_standar_deviasi(data2))\n"
   ]
  },
  {
   "cell_type": "markdown",
   "id": "45d80025",
   "metadata": {},
   "source": [
    "### Tugas Praktek\n",
    "\n",
    "\n",
    "    Luas Tanah (dalam m2)   Luas Bangunan (dalam m2)    Jarak ke Pusat Kota (dalam km)    Harga (dalam ratus juta)\n",
    "            70                        50                           15                              500\n",
    "            70                        60                           30                              400\n",
    "            70                        60                           55                              300\n",
    "            100                       50                           30                              700\n",
    "            100                       70                           25                              1000\n",
    "            100                       70                           50                              650\n",
    "            120                       100                          20                              2000\n",
    "            120                       80                           50                              1200\n",
    "            150                       100                          50                              1800\n",
    "            150                       90                           15                              3000\n",
    "\n",
    " \n",
    "\n",
    "Tugas:\n",
    "Dari data ini, berarti aku harus menjalankan fungsi baru dengan **nama variabel deksripsi_properti**. Aku pun \n",
    "\n",
    "Setelah kupelajari kembali, data ini sebenarnya telah direpresentasikan ke dalam **dict dengan nama tabel_properti**. \n",
    "\n",
    " "
   ]
  },
  {
   "cell_type": "code",
   "execution_count": 36,
   "id": "298438ad",
   "metadata": {},
   "outputs": [
    {
     "name": "stdout",
     "output_type": "stream",
     "text": [
      "Rata-rata luas_tanah:\n",
      "105.0\n",
      "Standar deviasi luas_tanah:\n",
      "28.722813232690143\n",
      "\n",
      "Rata-rata luas_bangunan:\n",
      "73.0\n",
      "Standar deviasi luas_bangunan:\n",
      "17.916472867168917\n",
      "\n",
      "Rata-rata jarak:\n",
      "34.0\n",
      "Standar deviasi jarak:\n",
      "14.966629547095765\n",
      "\n",
      "Rata-rata harga:\n",
      "1155.0\n",
      "Standar deviasi harga:\n",
      "821.7207554881403\n",
      "\n"
     ]
    }
   ],
   "source": [
    "# Data properti\n",
    "tabel_properti = {\n",
    "'luas_tanah': [70, 70, 70, 100, 100, 100, 120, 120, 150, 150],\n",
    "'luas_bangunan': [50, 60, 60, 50, 70, 70, 100, 80, 100, 90],\n",
    "'jarak': [15, 30, 55, 30, 25, 50, 20, 50, 50, 15],\n",
    "'harga': [500, 400, 300, 700, 1000, 650, 2000, 1200, 1800, 3000]\n",
    "}\n",
    "\n",
    "# Fungsi rata-rata data\n",
    "def hitung_rata_rata(data):\n",
    "    jumlah = 0\n",
    "    for item in data:\n",
    "        jumlah += item\n",
    "    rata_rata = jumlah/len(data)\n",
    "    return rata_rata\n",
    "\n",
    "# Fungsi hitung_standar_deviasi\n",
    "def hitung_standar_deviasi(data):\n",
    "    rata_rata_data = hitung_rata_rata(data)\n",
    "    varians = 0\n",
    "    for item in data:\n",
    "        varians += (item - rata_rata_data) ** 2\n",
    "    varians /= len(data)\n",
    "    standar_deviasi = varians ** (1/2)\n",
    "    return standar_deviasi\n",
    "\n",
    "# Definisikan fungsi untuk menghitung rata-rata dan standar deviasi\n",
    "# setiap kolom pada tabel_properti yang diberikan oleh key dict.\n",
    "def deskripsi_properti(tabel):\n",
    "    for key in tabel.keys():\n",
    "        print('Rata-rata ' + key + ':')\n",
    "        print(hitung_rata_rata(tabel[key])) \n",
    "        print('Standar deviasi ' + key + ':')\n",
    "        print(hitung_standar_deviasi(tabel[key]))\n",
    "        print('')\n",
    "\t\t\n",
    "# Panggil fungsi deskripsi_properti untuk menghitung rata-rata \n",
    "# dan standar deviasi setiap kolom pada tabel_properti\n",
    "deskripsi_properti(tabel_properti)"
   ]
  },
  {
   "cell_type": "markdown",
   "id": "7cc263e0",
   "metadata": {},
   "source": [
    "## Manipulasi Berkas Teks\n",
    "\n",
    "### 1. Membaca file di local computer\n",
    "Pengolahan berkas teks pada Python tidak membutuhkan proses import dependencies lainnya seperti pada bahasa-bahasa pemrograman lainnya. Untuk memanipulasi berkas teks pada bahasa pemrograman Python, mula-mula aku harus membuka/membuat berkas teks yang aku inginkan dengan menggunakan **fungsi open()**. Fungsi open() menerima 2 parameter, di mana parameter pertama merupakan nama dari file yang ingin dibuka/dibuat dan mode yang berkaitan dengan aksi yang ingin dilakukan terhadap file yang telah terbuka. Sebagai contoh:\n",
    "\n",
    "    file = open(\"hello.txt\", \"r\")\n",
    "**Argumen/parameter \"r\"** mengartikan bahwa file yang akan dibuka berada dalam mode “read” sehingga nantinya aku tidak dapat menambahkan/ menuliskan ulang isi tulisan dari file \"hello.txt\".\n",
    "\n",
    "Perintah ini dapat digunakan untuk menutup file yang telah aku buka.\n",
    "\n",
    "    file.close()\n",
    " \n",
    "\n",
    "Aku juga belajar bahwa selain **mode \"r\" yang hanya digunakan untuk membaca file**, terdapat juga mode lainnya seperti:\n",
    "\n",
    "1. w: write, mode ini dapat aku gunakan untuk menulis ke dalam sebuah berkas teks. Jika berkas tidak tersedia, maka Python akan secara otomatis membuat sebuah berkas baru dengan nama yang telah di spesifikasikan. Saat menulis dengan menggunakan mode ini, jika file semula tidak kosong, maka isi yang sebelumnya terdapat di dalam berkas akan terhapus.\n",
    "2. a: append, mode ini dapat aku gunakan untuk menambahkan isi dari sebuah berkas teks. Mode ini juga akan membuat sebuah berkas teks baru dengan nama yang telah kita spesifikasikan jika berkas teks tidak tersedia.\n",
    "3. w+: write+, mode ini dapat aku gunakan untuk membaca ataupun menuliskan isi dari sebuah berkas teks.\n",
    "4. a+: append+, mode ini dapat aku gunakan untuk membaca ataupun menambahkan isi dari sebuah berkas teks.\n",
    " \n",
    "\n",
    "### 2. Membaca file dari url\n",
    "Berkas teks yang berada di suatu alamat di internet dapat dibaca berdasarkan url-nya. Untuk membacanya aku perlu menggunakan **library requests**. File hello.txt yang aku temui di local komputer ku juga ada di url berikut https://storage.googleapis.com/dqlab-dataset/hello.txt. \n",
    "\n",
    "Akhirnya, aku dapat menggunakan kode berikut\n",
    "\n",
    "    import requests\n",
    "    url = \"https://storage.googleapis.com/dqlab-dataset/hello.txt\"\n",
    "    response = requests.get(url)\n"
   ]
  },
  {
   "cell_type": "markdown",
   "id": "e37ee5b8",
   "metadata": {},
   "source": [
    "### Membaca Berkas Teks – Part 1\n",
    "Setelah mempelajari bagaimana membuka/membuat sebuah berkas teks dalam Python, aku akan mempelajari sintaks untuk dapat membaca isi dari sebuah berkas. Untuk membaca isi dari sebuah teks aku dapat menggunakan potongan kode berikut.\n",
    "\n",
    "Aku akan mengasumsikan baris-baris di bawah comment merupakan isi dari “hello.txt”.\n",
    "\n",
    "    Kita sedang belajar Python\n",
    "    Tepatnya belajar memanipulasi berkas teks\n",
    "    Memanipulasi berkas dengan Python sangatlah mudah!\n",
    "    \n",
    "**Note:** Karena ada perubahan hosting file hello.txt yang tidak ditempatkan di direktori lokal sistem DQLab kamu dapat mempraktikkan bagian A1 dan A2 pada komputer kamu. Untuk itu file hello.txt dapat kamu unduh melalui https://storage.googleapis.com/dqlab-dataset/hello.txt. \n",
    "\n",
    "#### A1. Membaca file hello.txt dengan fungsi read() dan menutup file\n",
    "    #membaca file hello.txt dengan fungsi read() \n",
    "    print(\">>membaca file hello.txt dengan fungsi read()\")\n",
    "    file = open(\"hello.txt\",\"r\")\n",
    "    content = file.read()\n",
    "    \n",
    "Perintah ini aku gunakan untuk menutup berkas setelah selesai digunakan :\n",
    "    \n",
    "    file.close()\n",
    "    print(content)\n",
    "    \n",
    "Akan menghasilkan output:\n",
    "    \n",
    "    Kita sedang belajar Python\n",
    "    Tepatnya belajar memanipulasi berkas teks\n",
    "    Memanipulasi berkas dengan Python sangatlah mudah!\n",
    "    \n",
    "Selain dapat membaca dan menampung isi dari sebuah berkas secara sekaligus menggunakan **fungsi read()**, aku juga dapat menggunakan **fungsi readline() ataupun readlines()** untuk membaca isi dari suatu berkas teks. Dengan menggunakan fungsi readline(), Python akan membaca konten dari sebuah berkas secara baris per baris, dimulai dari baris paling awal.\n",
    "\n",
    "#### A2. Membaca file hello.txt dengan fungsi readline()\n",
    "    #membaca file hello.txt dengan fungsi readline() \n",
    "    print(\">>membaca file hello.txt dengan fungsi readline()\")\n",
    "    file = open(\"hello.txt\",\"r\")\n",
    "    \n",
    "dengan menggunakan **fungsi readline()** dapat aku gunakan untuk membaca isi dari file secara tersedia dalam berkas “hello.txt” baris per baris  \n",
    "\n",
    "    first_line = file.readline()\n",
    "    second_line = file.readline()\n",
    "    \n",
    "perintah ini aku gunakan untuk menutup berkas setelah selesai digunakan \n",
    "\n",
    "    file.close()\n",
    "    print(first_line)\n",
    "    print(second_line)\n",
    "    \n",
    "akan menghasilkan output:\n",
    "\n",
    "    Kita sedang belajar Python\n",
    "    Tepatnya belajar memanipulasi berkas teks\n",
    "    \n",
    "    \n",
    "    "
   ]
  },
  {
   "cell_type": "markdown",
   "id": "e1320117",
   "metadata": {},
   "source": [
    "### Tugas Praktik:\n",
    "Well, aku sudah mempraktikkan membaca berkas teks secara lokal di komputer ku. Sekarang aku akan mencoba membaca berkas teks yang sama yang berada di url https://storage.googleapis.com/dqlab-dataset/hello.txt. Di code editor akupun mengetikkan perintah berikut\n",
    "\n",
    "    import requests\n",
    "    url = \"https://storage.googleapis.com/dqlab-dataset/hello.txt\"\n",
    "    response = requests.get(url)\n",
    "    \n",
    "Aku akan mengecek apakah permintaan yang dilakukan melalui url dapat dipenuhi. Selanjutnya aku mengetikkan kode berikut\n",
    "\n",
    "    # Cetak kode status dari response\n",
    "    print(response)\n",
    "    \n",
    "yang kemudian aku dapati hasil berikut di console\n",
    "    \n",
    "    <response [200]>\n",
    "    \n",
    "Ini apa ya? Akupun mencarinya melalui mesin pencari google dan melalui tautan https://en.wikipedia.org/wiki/List_of_HTTP_status_codes saya dapatkan informasi bahwa kode status **HTTP 200** adalah response OK dari url di mana file hello.txt disimpan.\n",
    "\n",
    "Untuk mencetak isi berkas hello.txt yang telah dibaca dapat aku lakukan melalui potongan kode yang ditunjukkan berikut ini\n",
    "\n",
    "    # Cetak isi file hello.txt menggunakan method response.iter_lines()\n",
    "    print(\"\\n>> Cetak isi file hello.txt menggunakan method response.iter_lines():\")\n",
    "    for baris in response.iter_lines():\n",
    "        print(baris)\n",
    "        \n",
    "Ketika aku jalankan maka aku memperoleh hasil di console seperti berikut ini\n",
    "\n",
    "    >> Cetak isi file hello.txt menggunakan method response.iter_lines():\n",
    "    b'Kita sedang belajar Python'\n",
    "    b'Tepatnya belajar memanipulasi berkas teks'\n",
    "    b'Memanipulasi berkas dengan Python sangatlah mudah!'\n",
    "    \n",
    "Sayangnya setelah aku amati terlihat bahwa hasilnya tidak sama dengan isi berkas hello.txt."
   ]
  },
  {
   "cell_type": "code",
   "execution_count": 37,
   "id": "314bf8c0",
   "metadata": {},
   "outputs": [
    {
     "name": "stdout",
     "output_type": "stream",
     "text": [
      "<Response [200]>\n",
      "\n",
      ">> Cetak isi file hello.txt menggunakan method response.iter_lines():\n",
      "b'Kita sedang belajar Python'\n",
      "b'Tepatnya belajar memanipulasi berkas teks'\n",
      "b'Memanipulasi berkas dengan Python sangatlah mudah!'\n"
     ]
    }
   ],
   "source": [
    "import requests\n",
    "url = \"https://storage.googleapis.com/dqlab-dataset/hello.txt\"\n",
    "response = requests.get(url)\n",
    "# Cetak kode status dari response\n",
    "print(response)\n",
    "# Cetak isi file hello.txt menggunakan method response.iter_lines()\n",
    "print(\"\\n>> Cetak isi file hello.txt menggunakan method response.iter_lines():\")\n",
    "for baris in response.iter_lines():\n",
    "\tprint(baris)"
   ]
  },
  {
   "cell_type": "markdown",
   "id": "517dc5a2",
   "metadata": {},
   "source": [
    "### Membaca Berkas Teks – Part 2\n",
    "**Fungsi readlines()** akan mengembalikan sebuah list yang setiap elemennya merupakan setiap baris dalam sebuah berkas teks.\n",
    "\n",
    "**Note:** Karena ada perubahan hosting file hello.txt yang tidak ditempatkan di direktori lokal sistem DQLab kamu dapat mempraktikkan bagian A1 dan A2 pada komputer kamu. Untuk itu file hello.txt dapat kamu unduh melalui https://storage.googleapis.com/dqlab-dataset/hello.txt. \n",
    "\n",
    "#### A1. Membaca file hello.txt dengan fungsi readlines()\n",
    "Aku membuka kembali file “hello.txt”\n",
    "\n",
    "    #membaca file hello.txt dengan fungsi readlines() \n",
    "    print(\">>membaca file hello.txt dengan fungsi readlines()\")\n",
    "    file = open(\"hello.txt\",\"r\")\n",
    "    \n",
    "Dan membaca dengan **fungsi readlines()**\n",
    "\n",
    "    all_lines = file.readlines()\n",
    "    file.close()\n",
    "    print(all_lines)\n",
    "    \n",
    "Syntax ini akan menghasilkan output:\n",
    "\n",
    "    [“Kita sedang belajar Python”, “Tepatnya belajar memanipulasi berkas teks”, \n",
    "    “Memanipulasi berkas dengan Python sangatlah mudah!”]\n",
    "    \n",
    "#### A2. Membaca file hello.txt dengan menerapkan looping\n",
    "Selain menggunakan fungsi-fungsi standar yang telah disediakan oleh Python, aku juga dapat membaca isi dari sebuah file secara baris per baris dengan menggunakan for loops. Simaklah contoh berikut ini dengan tetap membaca file dari “hello.txt”\n",
    "\n",
    "    #membaca file hello.txt dengan menerapkan Looping\n",
    "    print(\"Membaca file hello.txt dengan menerapkan Looping\")\n",
    "    file = open(\"hello.txt\",\"r\")\n",
    "    \n",
    "untuk setiap baris sebagai variabel line dalam berkas dengan nama variabel file\n",
    "\n",
    "    for line in file :\n",
    "        print(line)\n",
    "    file.close()\n",
    "    \n",
    "Akan menghasilkan output:\n",
    "\n",
    "    Kita sedang belajar Python\n",
    "    Tepatnya belajar memanipulasi berkas teks\n",
    "    Memanipulasi berkas dengan Python sangatlah mudah!"
   ]
  },
  {
   "cell_type": "markdown",
   "id": "346c242a",
   "metadata": {},
   "source": [
    "### Tugas Praktik:\n",
    "Aku menjadi penasaran dengan hasil yang telah aku dapatkan sebelumnya. Apakah ada method/attribut lain gak ya untuk mencetak isi dari berkas hello.txt di https://storage.googleapis.com/dqlab-dataset/hello.txt.\n",
    "\n",
    "Akupun mencoba mengunakan atribut .text dari variabel response, seperti yang ditampilkan pada baris kedelapan.\n",
    "\n",
    "    import requests\n",
    "    url = \"https://storage.googleapis.com/dqlab-dataset/hello.txt\"\n",
    "    response = requests.get(url)\n",
    "    # Cetak kode status dari response\n",
    "    print(response)\n",
    "    # Cetak isi file hello.txt menggunakan atribut response.text\n",
    "    print(\"\\n>> Cetak isi file hello.txt menggunakan atribut response.text:\")\n",
    "    print(response.text)\n",
    "    \n",
    "Hasil dari perintah ini di console adalah :\n",
    "\n",
    "    <Response [200]>\n",
    "\n",
    "    >> Cetak isi file hello.txt menggunakan atribut response.text:\n",
    "    Kita sedang belajar Python\n",
    "    Tepatnya belajar memanipulasi berkas teks\n",
    "    Memanipulasi berkas dengan Python sangatlah mudah!\n",
    "    \n",
    "Waaw.... Penggunaan **atribut .text** menghasilkan isi berkas **hello.txt** sesuai dengan isi yang seharusnya.\n",
    "\n",
    "##### Tips: Trik ini efektif digunakan ketika mengambil data melalui web scrapping. "
   ]
  },
  {
   "cell_type": "code",
   "execution_count": 38,
   "id": "8d9dfab9",
   "metadata": {},
   "outputs": [
    {
     "name": "stdout",
     "output_type": "stream",
     "text": [
      "<Response [200]>\n",
      "\n",
      ">> Cetak isi file hello.txt menggunakan atribut response.text:\n",
      "Kita sedang belajar Python\r\n",
      "Tepatnya belajar memanipulasi berkas teks\r\n",
      "Memanipulasi berkas dengan Python sangatlah mudah!\n"
     ]
    }
   ],
   "source": [
    "import requests\n",
    "url = \"https://storage.googleapis.com/dqlab-dataset/hello.txt\"\n",
    "response = requests.get(url)\n",
    "# Cetak kode status dari response\n",
    "print(response)\n",
    "# Cetak isi file hello.txt menggunakan atribut response.text\n",
    "print(\"\\n>> Cetak isi file hello.txt menggunakan atribut response.text:\")\n",
    "print(response.text)"
   ]
  },
  {
   "cell_type": "markdown",
   "id": "fb5421e9",
   "metadata": {},
   "source": [
    "### Menulis Berkas Teks – Part 1\n",
    "Untuk menuliskan isi dari suatu berkas, aku dapat menggunakan **fungsi write() atau writelines()** yang telah disediakan oleh Python. Sebelum masuk ke dalam contoh penggunaan **fungsi write() atau writelines()**, penting bagiku untuk mengingat bahwa mode yang aku spesifikasikan pada **fungsi open()** akan mempengaruhi bagaimana Python menuliskan isi ke dalam berkas teks. Jika aku menggunakan **mode w**, maka Python akan menghapus seluruh isi dalam berkas sebelum menuliskan konten yang aku spesifikasikan.\n",
    "\n",
    "Asumsikan baris-baris di bawah comment ini merupakan isi dari “hello.txt”\n",
    "\n",
    "    Kita sedang belajar Python\n",
    "    Tepatnya belajar memanipulasi berkas teks\n",
    "    Memanipulasi berkas dengan Python sangatlah mudah!\n",
    "    \n",
    "    # Menulis ke file hello.txt\n",
    "    file = open(\"hello.txt\", \"w\")\n",
    "    file.write(\"Sekarang kita belajar menulis dengan menggunakan Python\")\n",
    "    file.write(\"Menulis konten file dengan mode w (write).\")\n",
    "    file.close()\n",
    "    \n",
    "Seusai program selesai dijalankan, baris-baris di bawah comment ini merupakan isi dari \"hello.txt\"\n",
    "\n",
    "    Sekarang kita belajar menulis dengan menggunakan Python\n",
    "    Menulis konten file dengan mode w (write)."
   ]
  },
  {
   "cell_type": "code",
   "execution_count": 39,
   "id": "8846dc7d",
   "metadata": {},
   "outputs": [],
   "source": [
    "# Menulis ke file hello.txt\n",
    "file = open(\"hello.txt\", \"w\")\n",
    "file.write(\"Sekarang kita belajar menulis dengan menggunakan Python\")\n",
    "file.write(\"Menulis konten file dengan mode w (write).\")\n",
    "file.close()"
   ]
  },
  {
   "cell_type": "markdown",
   "id": "5b806e24",
   "metadata": {},
   "source": [
    "### Menulis Berkas Teks – Part 2\n",
    "Ketika aku menulis pada berkas teks menggunakan **mode a**, Python tidak akan menghapus isi dalam berkas dan hanya akan menambahkan konten. Aku mempelajari contoh berikut untuk memahami penggunaan **fungsi write() dan writelines()\n",
    "\n",
    "**Tugas:**\n",
    "Pertama, aku mengasumsikan baris-baris di bawah comment ini merupakan isi dari “hello.txt”\n",
    "\n",
    "    Kita sedang belajar Python\n",
    "    Tepatnya belajar memanipulasi berkas teks\n",
    "    Memanipulasi berkas dengan Python sangatlah mudah! \n",
    "    Perintah ini aku gunakan untuk membuka/membuat sebuah berkas teks dengan menggunakan mode “a”, untuk menambahkan beberapa baris pada berkas teks setelah isi dari berkas awalnya\n",
    "    \n",
    "    # Menulis ke file dengan mode append\n",
    "    file = open(\"hello.txt\", \"a\")\n",
    "    file.writelines([\n",
    "    \"Sekarang kita belajar menulis dengan menggunakan Python\", \n",
    "    \"Menulis konten file dengan mode a (append).\"\n",
    "    ])\n",
    "    file.close()"
   ]
  },
  {
   "cell_type": "markdown",
   "id": "074ace58",
   "metadata": {},
   "source": [
    "### Library Matematika pada Python\n",
    "Salah satu keunikan Python adalah library yang dimilikinya karena dapat di-extend dengan library yang didefinisikan oleh pengguna Python, selain dari library bawaan (built-in) yang dimilikinya. Untuk membuat library yang didefinisikan oleh pengguna umumnya dilakukan dengan menggunakan teknik pemrograman berorientasi obyek (object oriented programming).\n",
    "\n",
    "Tentunya secara dasar, Python tidak dapat digunakan untuk pengolahan data, komputasi saintifik, machine learning dan bahkan sistem cerdas. Melalui pengembang library tentunya aku memiliki akses ke keperluan atau bidang tersebut. Library ini dapat diinstal melalui command pip yang bersumber dari web python package index.\n",
    "\n",
    "Bagi yang pernah menggunakan Matlab pasti tahu ada toolbox tertentu misal untuk optimasi, pengolahan sinyal, dll. Jadi, toolbox di Matlab itu ekuivalen dengan library pada Python. Bahasa pemrograman lain seperti R, PHP, GO, Java, dsb tentu juga memiliki hal yang serupa.\n",
    "\n",
    "Untuk memanggil library pada python, aku dapat menggunakan syntax:\n",
    "\n",
    "    import\n",
    "    \n",
    "adalah nama library yang akan diimport untuk dapat digunakan dalam kode program yang disusun, baik library bawaan (built-in), library yang tersedia ada di web python package index atau dikembangkan sendiri.\n",
    "\n",
    "Python adalah salah satu bahasa yang paling diminati untuk pengolahan data secara matematis. Untuk menggunakan fungsi-fungsi matematis yang telah disediakan oleh bahasa Python, aku dapat melakukan proses import library math seperti pada potongan kode berikut:\n",
    "\n",
    "    import math\n",
    " "
   ]
  },
  {
   "cell_type": "markdown",
   "id": "1c350ab0",
   "metadata": {},
   "source": [
    "### Fungsi dalam Library Matematika – Part 1\n",
    "Di dalam library math aku mempelajari berbagai fungsi, beberapa diantaranya dapat dilihat pada tabel di bawah ini."
   ]
  },
  {
   "cell_type": "code",
   "execution_count": 40,
   "id": "f6d381c5",
   "metadata": {},
   "outputs": [
    {
     "name": "stdout",
     "output_type": "stream",
     "text": [
      ">>> Fungsi math.ceil()\n",
      "11\n",
      "14\n",
      ">>> Fungsi math.floor()\n",
      "10\n",
      "13\n",
      ">>> Fungsi math.fabs()\n",
      "10.32\n",
      "13.87\n",
      ">>> Fungsi math.factorial()\n",
      "120\n",
      ">>> Fungsi math.fsum()\n",
      "6.0\n"
     ]
    }
   ],
   "source": [
    "# Import library math\n",
    "import math\n",
    "\n",
    "# Fungsi math.ceil()\n",
    "# Menerima input berupa bilangan dan mengembalikan pembulatan ke atas untuk bilangan input.\n",
    "print(\">>> Fungsi math.ceil()\")\n",
    "x = 10.32\n",
    "y = 13.87\n",
    "x_ceil = math.ceil(x)\n",
    "y_ceil = math.ceil(y)\n",
    "print(x_ceil)\n",
    "print(y_ceil)\n",
    "\n",
    "# Fungsi math.floor()\n",
    "# Menerima input berupa bilangan dan mengembalikan hasil pembulatan ke bawah untuk bilangan input.\n",
    "print(\">>> Fungsi math.floor()\")\n",
    "x_floor = math.floor(x)\n",
    "y_floor = math.floor(y)\n",
    "print(x_floor)\n",
    "print(y_floor)\n",
    "\n",
    "# Fungsi math.fabs()\n",
    "# Menerima input berupa bilangan dan mengembalikan hasil absolut dari bilangan input.\n",
    "print(\">>> Fungsi math.fabs()\")\n",
    "x = 10.32\n",
    "y = -13.87\n",
    "x = math.fabs(x)\n",
    "y = math.fabs(y)\n",
    "print(x)\n",
    "print(y)\n",
    "\n",
    "# Fungsi math.factorial()\n",
    "# Menerima input berupa bilangan dan mengembalikan hasil faktorial dari bilangan input\n",
    "print(\">>> Fungsi math.factorial()\")\n",
    "x_factorial = math.factorial(5)\n",
    "print(x_factorial)\n",
    "\n",
    "# Fungsi math.fsum()\n",
    "# Menerima input berupa tipe data collection (tuple, list, etc.) dan mengembalikan hasil penjumlahan setiap elemennya.\n",
    "print(\">>> Fungsi math.fsum()\")\n",
    "x = [1, 2, 3, 4, 5, 6, -6, -5, -4]\n",
    "total = math.fsum(x)\n",
    "print(total)"
   ]
  },
  {
   "cell_type": "markdown",
   "id": "1caf578b",
   "metadata": {},
   "source": [
    "### Fungsi dalam Library Matematika – Part 2\n",
    "Aku masih melanjutkan bagian terakhir dari (bulit-in) library matematika pada Python yang dapat digunakan untuk perhitungan matematis."
   ]
  },
  {
   "cell_type": "code",
   "execution_count": 41,
   "id": "f9f7f15c",
   "metadata": {},
   "outputs": [
    {
     "name": "stdout",
     "output_type": "stream",
     "text": [
      ">>> Fungsi math.log()\n",
      "3.0\n",
      "4.0\n",
      "4.0\n",
      ">>> Fungsi math.sqrt()\n",
      "10.0\n",
      "1.4142135623730951\n",
      ">>> Fungsi math.copysign()\n",
      "-10.32\n",
      "-13.87\n",
      "15.0\n"
     ]
    }
   ],
   "source": [
    "# Import library math\n",
    "import math\n",
    "\n",
    "# Fungsi math.log()\n",
    "# Menerima input berupa dua buah bilangan (asumsikan x dan y) dan mengembalikan sebuah bilangan (z) \n",
    "# di mana z merupakan hasil log basis y dari x (atau dengan kata lain x merupakan hasil pemangkatan dari z terhadap y)\n",
    "print(\">>> Fungsi math.log()\")\n",
    "# x = log basis 2 dari 8\n",
    "x = math.log(8,2)\n",
    "# y = log basis 3 dari 81\n",
    "y = math.log(81,3)\n",
    "# z = log basis 10 dari 10000\n",
    "z = math.log(10000,10)\n",
    "print(x)\n",
    "print(y)\n",
    "print(z)\n",
    "\n",
    "# Fungsi math.sqrt()\n",
    "# Menerima input berupa sebuah bilangan dan mengembalikan hasil akar pangkat dua (akar kuadrat) \n",
    "# dari bilangan tersebut\n",
    "print(\">>> Fungsi math.sqrt()\")\n",
    "# akar kuadrat dari 100\n",
    "x = math.sqrt(100)\n",
    "print(x)\n",
    "# akar kuadrat dari 2\n",
    "y = math.sqrt(2)\n",
    "print(y)\n",
    "\n",
    "# Fungsi math.copysign()\n",
    "# Menerima input berupa dua buah bilangan dan mengembalikan bilangan pertama \n",
    "# sesuai dengan tanda yang dimiliki oleh bilangan kedua\n",
    "print(\">>> Fungsi math.copysign()\")\n",
    "x = 10.32\n",
    "y = -13.87\n",
    "z = -15\n",
    "x = math.copysign(x,z)\n",
    "y = math.copysign(y,z)\n",
    "z = math.copysign(z,10)\n",
    "print(x)\n",
    "print(y)\n",
    "print(z)"
   ]
  },
  {
   "cell_type": "markdown",
   "id": "1f22dc29",
   "metadata": {},
   "source": [
    "### Pendahuluan Mini Quiz\n",
    "Pada mini project dalam modul \"Basic Python for Data Professional Beginner - Part 2\", aku akan diuji oleh Senja cara memprediksi harga rumah di Tangerang berdasarkan luas tanah, luas bangunan, serta kedekatan lokasi dengan pusat kota.\n",
    "\n",
    "Data yang tersedia dalam format teks harus dibaca terlebih dahulu dan kemudian mengubahnya ke dalam list of dict. Data yang berupa list of dict ini akan digunakan untuk memprediksi harga rumah di Tangerang."
   ]
  },
  {
   "cell_type": "markdown",
   "id": "43cd95bf",
   "metadata": {},
   "source": [
    "### Harga Rumah di Tangerang\n",
    "\n",
    "Kita diminta untuk mengembangkan model prediksi harga rumah di di Tangerang berdasarkan luas tanah, luas bangunan serta kedekatan lokasi dengan pusat kota. Untuk mengembangkan model prediksi ini, saya telah mengumpulkan beberapa data yang diperlukan.\n",
    "\n",
    "Berarti aku akan memprediksi harga rumah ini berdasarkan kemiripan atribut dari data yang telah ada.\n",
    " \n",
    "Aku pun segera menempatkan data tersebut ke dalam file harga_rumah.txt seperti berikut ini:\n",
    "\n",
    "    Luas Tanah (dalam m2)   Luas Bangunan (dalam m2)    Jarak ke Pusat Kota (dalam km)    Harga (dalam ratus juta)\n",
    "            70                        50                           15                              500\n",
    "            70                        60                           30                              400\n",
    "            70                        60                           55                              300\n",
    "            100                       50                           30                              700\n",
    "            100                       70                           25                              1000\n",
    "            100                       70                           50                              650\n",
    "            120                       100                          20                              2000\n",
    "            120                       80                           50                              1200\n",
    "            150                       100                          50                              1800\n",
    "            150                       90                           15                              3000\n",
    "\n",
    "\n",
    " \n",
    "\n",
    "**Tugas 1**\n",
    "Aku pun melanjutkan prosesnya dengan membaca file **harga_rumah.txt** dan merepresentasikan setiap data ke dalam tipe data dictionary dan menampung keseluruhan data dalam sebuah list bernama **harga_rumah**:\n",
    "\n",
    "    harga_rumah =\n",
    "    [{'tanah': '70', 'jarak_ke_pusat': '15', 'bangunan': '50', 'harga': '500'}, \n",
    "     {'tanah': '70', 'jarak_ke_pusat': '30', 'bangunan': '60', 'harga': '400'}, \n",
    "     {'tanah': '70', 'jarak_ke_pusat': '55', 'bangunan': '60', 'harga': '300'}, \n",
    "     {'tanah': '100', 'jarak_ke_pusat': '30', 'bangunan': '50', 'harga': '700'}, \n",
    "     {'tanah': '100', 'jarak_ke_pusat': '25', 'bangunan': '70', 'harga': '1000'}, \n",
    "     {'tanah': '100', 'jarak_ke_pusat': '50', 'bangunan': '70', 'harga': '650'}, \n",
    "     {'tanah': '120', 'jarak_ke_pusat': '20', 'bangunan': '100', 'harga': '2000'}, \n",
    "     {'tanah': '120', 'jarak_ke_pusat': '50', 'bangunan': '80', 'harga': '1200'}, \n",
    "     {'tanah': '150', 'jarak_ke_pusat': '50', 'bangunan': '100', 'harga': '1800'}, \n",
    "     {'tanah': '150', 'jarak_ke_pusat': '15', 'bangunan': '90', 'harga': '3000'}]\n",
    "\n",
    "\n",
    "Setelah selesai memasukkan data dan menemukan jika nilai dari setiap atribut **(tanah, bangunan, jarak_ke_pusat)** tidak setara, aku mulai agak bingung. Tapi, harus tenang dan jangan panik!\n",
    "\n",
    "Aku kembali mengecekanya dan memutuskan utnuk melakukan proses transformasi data. Transformasi data dilakukan dengan mengurangi setiap nilai atribut dalam data dengan nilai atribut minimum dan membaginya dengan nilai atribut maksimum yang dikurangi dengan nilai atribut minimum, seperti ini:\n",
    "\n",
    "1. Untuk atribut tanah, nilai maksimum adalah 150 dan nilai minimum adalah 70.\n",
    "2. Saat nilai atribut tanah 100, proses transformasi akan mengubah nilai atribut ini menjadi 0,375\n",
    "\n",
    "        nilai_transformasi = 100 - 70 / (150 - 70)\n",
    "        \n",
    "Aku mulai mendapat solusi untuk mempermudah proses transformasi data.\n",
    "\n",
    "**Tugas 2**\n",
    "Mula-mula,  aku akan membuat sebuah fungsi bernama **get_all_specified_attribute** yang menerima parameter **list_of_dictionary** (tipe data list yang berisikan sekumpulan tipe data dictionary) dan **specified_key** (tipe data string). Fungsi akan mengembalikan sebuah list yang berisikan seluruh atribut dengan kunci (key) specified_key.\n",
    "\n",
    "**Tugas 3**\n",
    "Kemudian, setelah berhasil membuat fungsi  tersebut, aku juga membuat fungsi **min_value** yang menerima parameter **list_attributes** (berupa tipe data list) dan mengembalikan nilai terkecil dalam list_attributes dan **max_value** yang menerima parameter list_attributes dan mengembalikan nilai terbesar dalam list_attributes.\n",
    "\n",
    "**Tugas 4**\n",
    "Selanjutnya aku membuat fungsi transform_attribute yang menerima parameter **attr (sebuah bilangan), max_attr (sebuah bilangan) dan min_attr (sebuah bilangan)** yang mengembalikan nilai transformasi dari sebuah attribute.\n",
    "\n",
    "**Tugas 5**\n",
    "“Menurutku kita masih butuh fungsi baru yaitu **fungsi data_transformation** yang menerima parameter list_of_dictionary (sebuah list yang berisikan tipe data dictionary) dan list_attribute_names (sebuah list yang berisikan tipe data string) mengembalikan hasil transformasi data dari list_of_dictionary berdasarkan list_attribute_names telah dispesifikasikan.\n",
    "\n",
    "**Tugas 6**\n",
    "Dari data baru dan attr_info ini, Senja menyuruhku membuat fungsi transform_data yang menerima parameter data dan attr_info dan mengembalikan nilai atribut dari data baru yang telah ditransformasikan.\n",
    "\n",
    "**Tugas 7**\n",
    "Setelah itu, Senja memintaku untuk membuat sistem prediksi harga berdasarkan nilai kemiripan atribut.\n",
    "\n",
    "**Tugas 8**\n",
    "Dan aku menggunakan semua fungsi yang telah aku definisikan dari Step 1 s/d Step 7.\n",
    "\n",
    "1. Hitung harga rumah yang telah ditransformasikan ke dalam variabel harga_rumah berikut dengan atributnya attr_info\n",
    "2. Gunakan variabel data untuk memprediksi harga rumah\n",
    "          data = {'tanah': 110, 'bangunan': 80, 'jarak_ke_pusat': 35}\n",
    "3. transformasikan data tersebut dengan dengan menggunakan attr_info yang telah diperoleh yang kembali disimpan ke variabel data.\n",
    "4. Hitunglah prediksi harga dari variabel data tersebut. "
   ]
  },
  {
   "cell_type": "code",
   "execution_count": 43,
   "id": "af378484",
   "metadata": {},
   "outputs": [
    {
     "name": "stdout",
     "output_type": "stream",
     "text": [
      "[{'tanah': '70', 'bangunan': '50', 'jarak_ke_pusat': '15', 'harga': '500'}, {'tanah': '70', 'bangunan': '60', 'jarak_ke_pusat': '30', 'harga': '400'}, {'tanah': '70', 'bangunan': '60', 'jarak_ke_pusat': '55', 'harga': '300'}, {'tanah': '100', 'bangunan': '50', 'jarak_ke_pusat': '30', 'harga': '700'}, {'tanah': '100', 'bangunan': '70', 'jarak_ke_pusat': '25', 'harga': '1000'}, {'tanah': '100', 'bangunan': '70', 'jarak_ke_pusat': '50', 'harga': '650'}, {'tanah': '120', 'bangunan': '100', 'jarak_ke_pusat': '20', 'harga': '2000'}, {'tanah': '120', 'bangunan': '80', 'jarak_ke_pusat': '50', 'harga': '1200'}, {'tanah': '150', 'bangunan': '100', 'jarak_ke_pusat': '50', 'harga': '1800'}, {'tanah': '150', 'bangunan': '90', 'jarak_ke_pusat': '15', 'harga': '3000'}]\n",
      "\n",
      "Prediksi harga rumah:  1200\n"
     ]
    }
   ],
   "source": [
    "import requests\n",
    "from contextlib import closing\n",
    "import csv\n",
    "# STEP 1: \n",
    "# Baca file \"harga_rumah.txt\"\n",
    "url = \"https://storage.googleapis.com/dqlab-dataset/harga_rumah.txt\"\n",
    "data_harga_rumah = []\n",
    "with closing(requests.get(url, stream=True)) as r:\n",
    "    f = (line.decode('utf-8') for line in r.iter_lines())\n",
    "    data_harga_rumah = [row for row in csv.reader(f)]\n",
    "# Buat list of dict dengan nama harga rumah\n",
    "key_harga_rumah = data_harga_rumah[0]\n",
    "harga_rumah = []\n",
    "for baris_harga_rumah in data_harga_rumah[1:]:\n",
    "\tdict_harga_rumah = dict()\n",
    "\tfor i in range(len(baris_harga_rumah)):\n",
    "\t\tdict_harga_rumah[key_harga_rumah[i]] = baris_harga_rumah[i]\n",
    "\tharga_rumah.append(dict_harga_rumah)\n",
    "print(harga_rumah)\n",
    "# STEP 2:\n",
    "# Buat fungsi  get_all_specified_attribute yang menerima parameter list_of_dictionary \n",
    "# (tipe data list yang berisikan sekumpulan tipe data dictionary) dan specified_key \n",
    "# (tipe data string). Fungsi akan mengembalikan sebuah list yang berisikan seluruh \n",
    "# atribut dengan kunci (key) specified_key. \n",
    "def get_all_specified_attributes(list_of_dictionary, specified_key):\n",
    "\tlist_attributes = []\n",
    "\tfor data in list_of_dictionary:\n",
    "\t\tattribute = data[specified_key]\n",
    "\t\tlist_attributes.append(attribute)\n",
    "\treturn list_attributes\n",
    "# STEP 3: \n",
    "# Buat fungsi fungsi min_value yang menerima parameter list_attributes (berupa \n",
    "# tipe data list) dan mengembalikan nilai terkecil dalam list_attributes \n",
    "def min_value(list_attributes):\n",
    "\tmin_attribute = 9999\n",
    "\tfor attr in list_attributes:\n",
    "\t\tif int(attr) < min_attribute:\n",
    "\t\t\tmin_attribute = int(attr)\n",
    "\treturn min_attribute\n",
    "# Buat fungsi dan max_value yang menerima parameter list_attribute dan \n",
    "# mengembalikan nilai terbesar dalam list_attributes.\t\n",
    "def max_value(list_attributes):\n",
    "\tmax_attribute = -9999\n",
    "\tfor attr in list_attributes:\n",
    "\t\tif int(attr) > max_attribute:\n",
    "\t\t\tmax_attribute = int(attr)\n",
    "\treturn max_attribute\n",
    "# STEP 4: \n",
    "# Buat fungsi transform_attribute yang menerima parameter attr (sebuah \n",
    "# bilangan), max_attr (sebuah bilangan) dan min_attr (sebuah bilangan) \n",
    "# yang mengembalikan nilai transformasi dari sebuah attribute.\n",
    "def transform_attribute(attr, max_attr, min_attr):\n",
    "\tnilai_transformasi = (attr - min_attr) / (max_attr - min_attr)\n",
    "\treturn nilai_transformasi\n",
    "# STEP 5:\n",
    "# Buat fungsi data_transformation yang menerima parameter list_of_dictionary \n",
    "# (sebuah list yang berisikan tipe data dictionary) dan list_attribute_names \n",
    "# (sebuah list yang berisikan tipe data string) mengembalikan hasil \n",
    "# transformasi data dari list_of_dictionary berdasarkan list_attribute_names \n",
    "# dan attr_info telah dispesifikasikan.\n",
    "def data_transformation(list_of_dictionary, list_attribute_names):\n",
    "\tattr_info = {}\n",
    "\tfor attr_name in list_attribute_names:\n",
    "\t\tspecified_attributes = get_all_specified_attributes(list_of_dictionary, attr_name)\n",
    "\t\tmax_attr = max_value(specified_attributes)\n",
    "\t\tmin_attr = min_value(specified_attributes)\n",
    "\t\tattr_info[attr_name] = {'max': max_attr, 'min': min_attr}\n",
    "\t\tdata_idx = 0\n",
    "\t\twhile(data_idx < len(list_of_dictionary)):\n",
    "\t\t\tlist_of_dictionary[data_idx][attr_name] = transform_attribute(int(list_of_dictionary[data_idx][attr_name]), max_attr, min_attr)\n",
    "\t\t\tdata_idx += 1\n",
    "\treturn list_of_dictionary, attr_info\n",
    "# STEP 6:\n",
    "# Berdasarkan data baru dan attr_info ini, buat fungsi transform_data yang\n",
    "# menerima parameter data dan attr_info dan mengembalikan nilai atribut \n",
    "# dari data baru yang telah ditransformasikan.\n",
    "def transform_data(data, attr_info):\n",
    "\tfor key_name in data.keys():\n",
    "\t\tdata[key_name] = (data[key_name] - attr_info[key_name]['min']) / (\n",
    "\t\t                  attr_info[key_name]['max'] - attr_info[key_name]['min'])\n",
    "\treturn data\n",
    "# STEP 7:\n",
    "# Buat fungsi yang digunakan untuk sistem prediksi harga berdasarkan \n",
    "# nilai kemiripan atribut, yaitu argument input data dan list_of_data!\n",
    "def abs_value(value):\n",
    "\tif value < 0:\n",
    "\t\treturn -value\n",
    "\telse:\n",
    "\t\treturn value\n",
    "def price_based_on_similarity(data, list_of_data):\n",
    "\tprediksi_harga = 0\n",
    "\tperbedaan_terkecil = 999\n",
    "\tfor data_point in list_of_data:\n",
    "\t\tperbedaan= abs_value(data['tanah'] - data_point['tanah'])\n",
    "\t\tperbedaan+= abs_value(data['bangunan'] - data_point['bangunan'])\n",
    "\t\tperbedaan+= abs_value(data['jarak_ke_pusat'] - data_point['jarak_ke_pusat'])\n",
    "\t\tif perbedaan < perbedaan_terkecil:\n",
    "\t\t\tprediksi_harga = data_point['harga']\n",
    "\t\t\tperbedaan_terkecil = perbedaan\n",
    "\treturn prediksi_harga\n",
    "# STEP 8:\n",
    "# Hitung harga rumah yang telah ditransformasikan ke dalam variabel \n",
    "# harga_rumah berikut dengan atributnya attr_info\n",
    "harga_rumah, attr_info = data_transformation(harga_rumah,\n",
    "                                             ['tanah','bangunan','jarak_ke_pusat'])\n",
    "# Gunakan variabel data untuk memprediksi harga rumah\n",
    "data = {'tanah': 110, 'bangunan': 80, 'jarak_ke_pusat': 35}\n",
    "# Transformasikan data tersebut dengan dengan menggunakan attr_info yang telah \n",
    "# diperoleh yang kembali disimpan ke variabel data.\n",
    "data = transform_data(data, attr_info)\n",
    "# Hitunglah prediksi harga dari variabel data tersebut.\n",
    "harga = price_based_on_similarity(data, harga_rumah)\n",
    "print()\n",
    "print(\"Prediksi harga rumah: \", harga)\n"
   ]
  },
  {
   "cell_type": "markdown",
   "id": "147785c9",
   "metadata": {},
   "source": [
    "### Hasil Belajarku\n",
    "Tidak terasa, aku berhasil menyelesaikan modul Python for Data Professional Beginner - Part 2. Dari materi yang telah aku pelajari dan praktekkan dalam module ini, aku telah mampu:\n",
    "\n",
    "1. Memahami & mempraktikkan penggunaan collection manipulations (list, tuple, set dan dictionary) pada Python.\n",
    "2. Memahami & mempraktikkan penggunaan string manipulation pada Python.\n",
    "3. Memahami & mempraktikkan pembuatan fungsi yang didefinisikan sendiri untuk kebutuhan tertentu dengan menggunakan Python.\n",
    "4. Memahami & mempraktikkan cara membaca data dari file menggunakan Python\n",
    "5. Mengerjakan latihan dalam membuat program Python untuk penyelesaian kasus bisnis sederhana."
   ]
  },
  {
   "cell_type": "code",
   "execution_count": null,
   "id": "0942831e",
   "metadata": {},
   "outputs": [],
   "source": []
  }
 ],
 "metadata": {
  "kernelspec": {
   "display_name": "Python 3 (ipykernel)",
   "language": "python",
   "name": "python3"
  },
  "language_info": {
   "codemirror_mode": {
    "name": "ipython",
    "version": 3
   },
   "file_extension": ".py",
   "mimetype": "text/x-python",
   "name": "python",
   "nbconvert_exporter": "python",
   "pygments_lexer": "ipython3",
   "version": "3.9.12"
  }
 },
 "nbformat": 4,
 "nbformat_minor": 5
}
