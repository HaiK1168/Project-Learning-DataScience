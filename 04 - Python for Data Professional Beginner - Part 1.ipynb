{
 "cells": [
  {
   "cell_type": "markdown",
   "id": "dca5ce8a",
   "metadata": {},
   "source": [
    "## Apa dan Kenapa Python – Part 2?\n",
    "Bahasa pemrograman Python bersifat dynamically typed (Python akan secara otomatis mengubah masukan dari pengguna) dan mendukung berbagai paradigma pemrograman baik pemrograman secara prosedural, berbasis objek (Object-Oriented), ataupun fungsional.\n",
    "\n",
    "Selain alasan di atas terdapat beberapa alasan lain untuk menggunakan bahasa pemrograman Python:\n",
    "\n",
    "    1. Python dikembangkan untuk bersifat extendible yang mengartikan bahwa Python dapat dikembangkan untuk berbagai macam tugas baik untuk pembuatan aplikasi web ataupun desktop, proses analisis data, dll.\n",
    "    \n",
    "    2. Python memiliki komunitas yang besar yang secara aktif berkontribusi untuk menyediakan berbagai macam fungsionalitas (third-party libraries). Third-party libraries yang tersedia dalam bahasa pemrograman Python memungkinkan para pengembang untuk dapat fokus menyelesaikan permasalahan yang ada. Per Januari 2020, terdapat 214,922 modul third-party yang dapat kita gunakan secara cuma-cuma.\n",
    "    \n",
    "    3. Python terintegrasi dengan baik dengan berbagai macam bahasa pemrograman dan layanan enterprise. Untuk bagian-bagian yang melibatkan sumber daya komputasi yang besar, pengembang dapat menggunakan fungsionalitas dalam bahasa pemrograman lainnya yang bersifat low-level yang telah dikemas ke dalam fungsionalitas Python."
   ]
  },
  {
   "cell_type": "markdown",
   "id": "1aea5456",
   "metadata": {},
   "source": [
    "## Program pertama: \"Hello World\"\n",
    "Setelah memahami teori-teori fundamental terkait dengan \"Apa dan Mengapa Python?\"\n",
    "aku diminta membuat sebuah program sederhana dengan Python.\n",
    "\n",
    "Fungsi Python yang akan pertama kali aku pelajari adalah fungsi print().\n",
    "Dengan fungsi print(), aku dapat menampilkan pesan ke layar pengguna."
   ]
  },
  {
   "cell_type": "code",
   "execution_count": 1,
   "id": "2045f9f9",
   "metadata": {},
   "outputs": [
    {
     "name": "stdout",
     "output_type": "stream",
     "text": [
      "Hello World!\n"
     ]
    }
   ],
   "source": [
    "print(\"Hello World!\")"
   ]
  },
  {
   "cell_type": "markdown",
   "id": "639cabf8",
   "metadata": {},
   "source": [
    "### Struktur Program Python - Part 1\n",
    "Setelah berhasil membuat program sederhana menggunakan Python, aku diminta Senja untuk belajar struktur dari sebuah program Python.\n",
    "\n",
    "Dari situ aku paham sebuah program Python pada umumnya terdiri dari:\n",
    "\n",
    "1. Statements: Instruksi yang diberikan secara baris per baris untuk dijalankan oleh mesin. Contoh:\n",
    "\n",
    "    Statement\n",
    "    \n",
    "    print(\"Belajar Python menyenangkan\") \n",
    "    print(\"Halo Dunia\")\n",
    "    print(\"Hello World!\")\n",
    "\n",
    "\n",
    "2. Variables: Lokasi penyimpanan yang dapat digunakan untuk menampung sebuah data atau informasi. \n",
    "   Contoh: aku mempunyai variabel yang bernama bilangan1, bilangan2, dan kalimat1\n",
    "   \n",
    "    Variables & Literals\n",
    "    \n",
    "    bilangan1 = 5\n",
    "    \n",
    "    bilangan2 = 10\n",
    "    \n",
    "    kalimat1 = \"Belajar Bahasa Python\"\n",
    "\n",
    "\n",
    "3. Literals: Simbol-simbol yang dapat kita gunakan untuk mengisi suatu variabel. Pada kode yang telah dicontohkan di atas, angka 5 dan 10 serta 'Belajar Bahasa Python' disebut sebagai literal.\n",
    "\n",
    "\n",
    "4. Operators: Simbol-simbol yang dapat digunakan untuk mengubah nilai dari satu variabel dengan melibatkan satu atau lebih variabel dan literal. Contoh: Tanda + merupakan salah satu contoh operator. Dengan menggunakan tanda +, aku berhasil menambahkan isi dari bilangan1 dan bilangan2!\n",
    "\n",
    "    Operators\n",
    "    \n",
    "    print(bilangan1 + bilangan2)\n",
    "\n",
    "\n",
    "Adapun operator yang lain selain operator + adalah sebagai berikut.\n",
    "1. Operator - yang berfungsi sebagai operator pengurangan,\n",
    "2. Operator * yang berfungsi sebagai operator perkalian, dan\n",
    "3. Operator ** untuk pemangkatan"
   ]
  },
  {
   "cell_type": "markdown",
   "id": "c9228d0b",
   "metadata": {},
   "source": [
    "### Struktur Program Python - Part 2\n",
    "Setelah mengerjakan tugas yang diberikan Senja, aku kembali lanjut belajar. Berikut adalah hal-hal baru yang aku pelajari mengenai Python:\n",
    "\n",
    "1. Reserved Words: Kumpulan kata-kata yang memiliki makna khusus dalam bahasa pemrograman Python. Kata False, return, dan for merupakan contoh dari reserved words.\n",
    "\n",
    "Catatan: Ternyata, aku tidak dapat mendeklarasikan variabel dengan menggunakan sebuah reserved word!\n",
    "\n",
    " \n",
    "\n",
    "2. Whitespace: Pada bahasa Python, spasi dan tab memiliki makna khusus untuk menandai serangkaian blok dalam kode Python. Hal ini akan dijelaskan secara lebih lanjut pada bagian struktur pemilihan dan struktur pengulangan pada bahasa Python.\n",
    "\n",
    " \n",
    "\n",
    "3. Comments: Comments merupakan sekumpulan teks yang dituliskan di dalam sebuah program yang tidak akan mempengaruhi hasil dari sebuah program. Walaupun tidak mempengaruhi hasil program, comments merupakan salah satu komponen yang penting dalam pengembangan program. Hal tersebut dikarenakan comments dapat diselipkan di antara sekumpulan statements yang telah dituliskan, untuk berkomunikasi dengan rekan programmer lainnya dalam satu tim. "
   ]
  },
  {
   "cell_type": "markdown",
   "id": "83e1b58d",
   "metadata": {},
   "source": [
    "### Aturan Penamaan Python Variables\n",
    "Penamaan suatu variabel pada python dapat dikatakan valid selama memenuhi aturan-aturan berikut:\n",
    "\n",
    "1. Nama dari sebuah variabel harus dimulai dengan huruf (a-z, A-Z) atau karakter garis bawah underscore (_) dan tidak dapat dimulai dengan angka (0-9).\n",
    "\n",
    "\n",
    "2. Variabel hanya boleh mengandung karakter alfabet, bilangan dan underscore (a-z, A-Z, 0-9, _)\n",
    "\n",
    "\n",
    "3. Variabel bersifat case-sensitive yang mengartikan bahwa variabel TINGGI, tinggi, dan Tinggi merujuk pada tiga variabel berbeda.\n",
    "\n",
    "\n",
    "Selain dapat mendeklarasikan nilai dari suatu variabel secara baris per baris, aku juga dapat mendeklarasikan beberapa variabel dalam satu baris dengan menggunakan ekspresi seperti:\n",
    "\n",
    "    bil1, bil2 = 3,4\n",
    "    salam = \"Selamat Pagi\", penutup = \"Salam Sejahtera\""
   ]
  },
  {
   "cell_type": "markdown",
   "id": "1a8e5225",
   "metadata": {},
   "source": [
    "### Tipe Data Dasar: Null, Boolean, Numeric dan Text\n",
    "1. **Null Type:** Tipe data null dalam Python digunakan untuk menyimpan nilai kosong atau tidak ada yang dinyatakan dengan None.\n",
    "\n",
    "2. **Boolean Type:** Tipe data boolean atau bool digunakan untuk menyimpan nilai kebenaran **(True, False)** dari suatu ekspresi logika.\n",
    "\n",
    "3. **Numeric Type:** Tipe data yang digunakan untuk menyimpan data berupa angka. Terdapat dua macam tipe data numeric, yaitu **int** untuk menyimpan bilangan bulat (e.g.: 0, 1, 2, 404, -500, -1000) dan **float** untuk menyimpan **bilangan riil** (e.g.: 0.5, 1.01, 2.05, 4.04)\n",
    "\n",
    "4. **Text Type:** Pada Python, tipe data string **(str)** digunakan untuk menyimpan data teks. Tipe data string dimulai dengan tanda kutip (baik kutip satu/ dua) dan diakhir dengan tanda kutip. Contoh: \"Teks\", \"Contoh teks menggunakan Python\", dan 'Teks pada Python'.\n",
    "\n",
    " "
   ]
  },
  {
   "cell_type": "markdown",
   "id": "89244bae",
   "metadata": {},
   "source": [
    "### Sequence Type – Part 1 : LIST\n",
    "Tipe data ini digunakan untuk menampung sekumpulan data secara terorganisir.\n",
    "Bentuk dari tipe data sequence ini adalah **List dan Tuple.**\n",
    "Pada part 1 ini, aku akan mempelajari tipe data list terlebih dahulu.\n",
    "\n",
    "Tipe data **LIST** diawali dengan tanda kurung siku buka **( [ )**, memisahkan setiap elemen di dalamnya dengan tanda koma **( , )** dan ditutup dengan kurung siku tutup **( ] )**. \n",
    "\n",
    "Sebagai contoh:\n",
    "\n",
    "    contoh_list = [1,'dua',3,4.0,5]\n",
    "    \n",
    "Setiap elemen dari list memiliki indeks yang dimulai dari angka **0** dan terus bertambah satu nilainya hingga elemen terakhir dari list. \n",
    "\n",
    "Sebagai contoh:\n",
    "\n",
    "    print(contoh_list[0])\n",
    "    print(contoh_list[3])\n",
    "    \n",
    "Tipe data list bersifat **mutable** yang berarti setiap elemen di dalam list dapat dirubah nilainya setelah proses pendeklarasian list. \n",
    "\n",
    "Sebagai contoh:\n",
    "\n",
    "    contoh_list[3] = 'empat'\n",
    "    print(contoh_list[3])\n",
    "    \n",
    "    "
   ]
  },
  {
   "cell_type": "markdown",
   "id": "7de3227e",
   "metadata": {},
   "source": [
    "### Sequence Type – Part 2 : TUPLE\n",
    "Setelah mempelajari tipe data list, aku mempelajari tipe data **TUPLE**. Tipe data tuple juga berfungsi untuk menampung sekumpulan data. Tipe data ini diawali dengan tanda kurung buka **( ( )**, memisahkan setiap elemen di dalamnya dengan tanda koma **( , )** dan ditutup dengan tanda kurung tutup **( ) )**. \n",
    "\n",
    "Sebagai contoh:\n",
    "\n",
    "    contoh_tuple = ('Januari','Februari','Maret','April')\n",
    "    \n",
    "Aturan indeks dan cara mengakses elemen pada sebuah tuple serupa dengan list. \n",
    "\n",
    "Sebagai contoh:\n",
    "\n",
    "    print(contoh_tuple[0])\n",
    "    \n",
    "Berbeda dengan tipe data list, tipe data tuple bersifat **immutable** yang berarti **elemen pada tipe data tuple tidak dapat diubah setelah proses pendeklarasiannya.**\n",
    "\n",
    "Pada saat aku mengubah elemen pada tuple seperti pada kode berikut, \n",
    "\n",
    "    contoh_tuple = ('Januari','Februari','Maret','April')\n",
    "    contoh_tuple[0] = 'Desember'\n",
    "    \n",
    "akan menghasilkan error di console, yaitu **TypeError**\n",
    "\n"
   ]
  },
  {
   "cell_type": "markdown",
   "id": "a4d729b9",
   "metadata": {},
   "source": [
    "### Set Type\n",
    "Serupa dengan tipe data sequence, tipe data **set** digunakan untuk menampung sekumpulan data dengan tipe lainnya. Terdapat dua jenis dari tipe data set yaitu, **set** dan **frozenset**.\n",
    "\n",
    "Tipe data set diawali dengan tanda kurung buka kurawal **( { )**, memisahkan setiap elemen di dalamnya dengan tanda koma **( , )** dan ditutup dengan tanda kurung tutup **( } )**. Namun berbeda dengan tipe data sequence, seperti list, tipe data objek **tidak mengizinkan adanya elemen dengan nilai yang sama dan tidak memperdulikan urutan dari elemen**.\n",
    "\n",
    "Sebagai contoh:\n",
    "\n",
    "    contoh_list = ['Dewi','Budi','Cici','Linda','Cici'] \n",
    "    print(contoh_list)\n",
    "    contoh_set = {'Dewi','Budi','Cici','Linda','Cici'}\n",
    "    print(contoh_set)\n",
    "    \n",
    "Dari kedua contoh output pada program, dapat terlihat:\n",
    "\n",
    "1. Berbeda dengan tipe data set, tipe data list memperdulikan urutan dari setiap elemen saat list dideklarasikan.\n",
    "2. Berbeda dengan list yang mengizinkan adanya duplikasi elemen, **tipe data SET tidak mengizinkan adanya elemen dengan nilai yang sama di dalamnya.** \n",
    "\n",
    "Keunikan dari kedua tipe data ini tentunya menjadi pengetahuan yang berguna.\n",
    "Dan aku akan mempelajarinya kembali pada bagian struktur kontrol pengulangan!\n",
    "\n",
    "Bagaimana dengan tipe data **frozenset**? Tipe data frozenset sebenarnya hanya merupakan set yang bersifat **immutable**, yang artinya setiap elemen di dalam frozenset tidak dapat diubah setelah proses deklarasinya. Untuk membuat tipe data frozenset, aku dapat merujuk potongan kode di bawah ini:\n",
    "\n",
    "    contoh_frozen_set = ({'Dewi','Budi','Cici','Linda','Cici'})\n",
    "    print(contoh_frozen_set)\n",
    "    \n"
   ]
  },
  {
   "cell_type": "markdown",
   "id": "e47db964",
   "metadata": {},
   "source": [
    "### Mapping Type\n",
    "Tipe data **mapping** dapat digunakan untuk memetakan sebuah nilai ke nilai lainnya. Dalam Python, tipe data mapping disebut dengan istilah **dictionary**. Tipe data dictionary dapat dideklarasikan dengan diawali oleh tanda kurung buka kurawal **( { )**, memisahkan setiap elemen di dalamnya dengan tanda koma **( , )** dan ditutup dengan tanda kurung tutup **( } )**. Setiap elemen pada tipe data dictionary dideklarasikan dengan format:\n",
    "\n",
    "**\"kunci\" : \"nilai\"**\n",
    "\n",
    " \n",
    "\n",
    "Hal inilah yang membedakan tipe data mapping dengan tipe data set. Untuk lebih memperjelas tipe data mapping, aku mempelajari potongan kode berikut:\n",
    "\n",
    "    person = {'nama':'John Doe','pekerjaan':'Programmer'}\n",
    "    \n",
    "Potongan kode di atas adalah contoh pendeklarasian dari tipe data dictionary. Kemudian, bagaimana dengan cara mengakses informasi dari tipe data ini?\n",
    "\n",
    "    person = {'nama':'John Doe','pekerjaan':'Programmer'}\n",
    "    print(person['nama'])\n",
    "    print(person['pekerjaan'])\n",
    "    \n",
    "Untuk mengakses elemen dari sebuah dictionary, aku hanya perlu menspesifikasikan kata kunci yang terdapat dalam dictionary tersebut."
   ]
  },
  {
   "cell_type": "markdown",
   "id": "f7a93a1c",
   "metadata": {},
   "source": [
    "## Pendahuluan Python Operators\n",
    "\n",
    "Setelah aku berhasil mempelajari detail terkait dengan variables dan data type, sekarang aku akan mempelajari operator-operator yang tersedia di dalam Python. Di dalam Python, operator terbagi ke dalam 6 kelompok:\n",
    "\n",
    "1. Arithmetic operators\n",
    "2. Assignment operators\n",
    "3. Comparison operators\n",
    "4. Logical operators\n",
    "5. Identity operators\n",
    "6. Membership operators"
   ]
  },
  {
   "cell_type": "markdown",
   "id": "026610d8",
   "metadata": {},
   "source": [
    "### Arithmetic Operators\n",
    "Operator arithmetic digunakan pada tipe data numerik, untuk melakukan operasi matematika sederhana yang terdiri atas:\n",
    "\n",
    "     Simbol Operator           Keterangan           Contoh\n",
    "\n",
    "           +                   Penambahan           3 + 2 akan menghasilkan output: 5\n",
    "           -                   Pengurangan          4 - 2 akan menghasilkan output: 2\n",
    "           *                   Perkalian            3 * 2 akan menghasilkan output: 6\n",
    "           /                   Pembagian            3 / 2 akan menghasilkan output: 1.5\n",
    "           \n",
    "           %                   Modulo/sisa bagi     3 % 2 akan menghasilkan output: 1\n",
    "                                                    dikarenakan 3 tidak habis dibagi 2 dan menyisakan 1\n",
    "                                                    8 % 2 akan menghasilkan output: 0\n",
    "                                                    dikarenakan 8 habis dibagi 2\n",
    "                                                    \n",
    "           **                  Pangkat              3 ** 2 akan menghasilkan output: 9\n",
    "           \n",
    "           //                  Pembagian dengan pembulatan ke bawah\n",
    "                                                    3 // 2 akan menghasilkan output: 1\n",
    "                                                    dikarenakan 1.5 akan menjadi 1 saat dibulatkan ke bawah.\n",
    "\n",
    " \n",
    "\n",
    " "
   ]
  },
  {
   "cell_type": "markdown",
   "id": "6c585d5f",
   "metadata": {},
   "source": [
    "### Assignment Operators\n",
    "Operator assignment digunakan untuk mendeklarasikan nilai secara langsung ke suatu variabel.\n",
    "\n",
    "    Simbol Operator           Keterangan                       Contoh\n",
    "           +=                 Penambahan                       x = 3\n",
    "                                                               x += 2 ekivalen dengan x = x + 2\n",
    "                                                               akan mengubah nilai x menjadi 5\n",
    "\n",
    "           -=                 Pengurangan                      x = 3\n",
    "                                                               x -= 2 ekivalen dengan x = x - 2\n",
    "                                                               akan mengubah nilai x menjadi 1\n",
    "\n",
    "           *=                 Perkalian                        x = 3\n",
    "                                                               x *= 2 ekivalen dengan x = x * 2\n",
    "                                                               akan mengubah nilai x menjadi 6\n",
    "\n",
    "           /=                 Pembagian                        x = 3\n",
    "                                                               x /= 2 ekivalen dengan x = x / 2\n",
    "                                                               akan mengubah nilai x menjadi 1.5\n",
    "\n",
    "           %=                 Modulo/sisa bagi                 x = 3\n",
    "                                                               x %= 2 ekivalen dengan x = x % 2\n",
    "                                                               akan mengubah nilai x menjadi 1\n",
    "\n",
    "           **=                Pangkat                          x = 3\n",
    "                                                               x **= 2 ekivalen dengan x = x ** 2\n",
    "                                                               akan mengubah nilai x menjadi 9\n",
    "\n",
    "           //=                Pembagian dengan pembulatan ke bawah    x = 3\n",
    "                                                                      x //= 2 sama dengan x = x // 2\n",
    "                                                                      akan mengubah nilai x menjadi 1\n",
    "\n",
    " \n",
    "\n"
   ]
  },
  {
   "cell_type": "markdown",
   "id": "5d224701",
   "metadata": {},
   "source": [
    "### Comparison Operators\n",
    "Operator comparison dapat digunakan untuk membandingkan dua buah nilai, berikut merupakan contoh-contoh operator komparasi.\n",
    "\n",
    "    Simbol Operator    Keterangan       Contoh\n",
    "        ==             Persamaan        33 == 33 akan menghasilkan output: \n",
    "                                           True dikarenakan benar 33 sama dengan 33\n",
    "                                        34 == 33 akan menghasilkan output: \n",
    "                                           False dikarenakan 34 tidak sama dengan 33\n",
    "\n",
    "        !=             Pertidaksamaan   34 != 33 akan menghasilkan output: \n",
    "                                           True dikarenakan benar bahwa 34 tidak sama dengan 33\n",
    "                                        33 != 33 akan menghasilkan output: False dikarenakan 33 sama dengan 33\n",
    "\n",
    "        >              Lebih besar dari   34 > 33 akan menghasilkan output: True dikarenakan 34 lebih besar dari 33\n",
    "                                          33 > 34 akan menghasilkan output False dikarenakan tidak benar 33 lebih\n",
    "                                                  besar dari 34\n",
    "\n",
    "        <              Lebih kecil dari   33 < 34 akan menghasilkan output True dikarenakan benar 33 \n",
    "                                                  lebih kecil dari 34\n",
    "                                          34 < 33 akan menghasilkan output: \n",
    "                                                  False dikarenakan tidak benar 34 lebih kecil dari 33\n",
    "\n",
    "        >=             Lebih besar atau sama dengan    34 >= 33 akan menghasilkan output True \n",
    "                                                             dikarenakan 34 lebih besar dari 33\n",
    "                                                       34 >= 34 akan menghasilkan output True \n",
    "                                                             dikarenakan 34 sama dengan 34\n",
    "                                                       33 >= 34 akan menghasilkan output False \n",
    "                                                             dikarenakan 33 tidak lebih besar dari 34 \n",
    "                                                             dan tidak sama dengan 34\n",
    "\n",
    "        <=             Lebih kecil atau sama dengan    33 <= 34 akan menghasilkan output True \n",
    "                                                          dikarenakan 33 lebih kecil dari 34\n",
    "                                                       33 <= 33 akan menghasilkan output True \n",
    "                                                          dikarenakan 34 sama dengan 33\n",
    "                                                       34 <= 33 akan menghasilkan output False \n",
    "                                                          dikarenakan 34 tidak lebih kecil dari 33 dan \n",
    "                                                          tidak sama dengan 34"
   ]
  },
  {
   "cell_type": "markdown",
   "id": "dd06d2a9",
   "metadata": {},
   "source": [
    "### Logical Operators\n",
    "Operator logical digunakan untuk menggabungkan beberapa nilai kebenaran atas suatu statemen logika.\n",
    "\n",
    "    Simbol Operator    Keterangan     Contoh\n",
    "\n",
    "        and            dan - menerima dua nilai kebenaran dan mengembalikan nilai benar jika keduanya benar\n",
    "                                      x = 5\n",
    "                                      x >= 1 and x <= 10\n",
    "                                      akan mengembalikan nilai True\n",
    "                                      x = 5\n",
    "                                      x >= 1 and x <= 4\n",
    "                                      akan mengembalikan nilai False\n",
    "\n",
    "        or             atau - menerima dua nilai kebenaran dan mengembalikan nilai benar jika salah satu benar\n",
    "                                      x = 3\n",
    "                                      x >= 1 or x <= 2\n",
    "                                      akan mengembalikan nilai True dikarenakan statemen logika pertama terpenuhi\n",
    "                                      x = 3\n",
    "                                      x >= 5 or x <= 0\n",
    "                                      akan mengembalikan nilai False dikarenakan kedua statemen logika \n",
    "                                      tidak terpenuhi (bernilai False)\n",
    "\n",
    "        not            negasi - menerima sebuah nilai kebenaran dan mengembalikan komplemennya\n",
    "                                      x = 7\n",
    "                                      not(x == 7) akan mengembalikan nilai False\n",
    "                                      not(x >= 10) akan mengembalikan nilai True"
   ]
  },
  {
   "cell_type": "markdown",
   "id": "478ac91a",
   "metadata": {},
   "source": [
    "### Identity Operators\n",
    "Operator identitas dapat digunakan untuk membandingkan identitas dari dua buah variabel.\n",
    "\n",
    "    Simbol Operator      Keterangan                                 Contoh\n",
    "\n",
    "           is            Menerima dua buah objek dan mengembalikan  x = [\"Ani\", \"Budi\"]\n",
    "                         nilai True ketika keduanya merujuk pada    y = [\"Ani\", \"Budi\"]\n",
    "                         objek yang sama dan False dalam kondisi    a = x\n",
    "                         lainnya          \n",
    "                                                                    print(a is x) akan menampilkan nilai True\n",
    "                                                                    dikarenakan a dan x merujuk ke objek yang sama\n",
    "\n",
    "                                                                    print(a is y) akan menampilkan nilai False \n",
    "                                                                    dikarenakan a dan y tidak merujuk ke objek yang \n",
    "                                                                    sama meskipun isi di dalam keduanya sama.\n",
    "\n",
    "          is not         Menerima dua buah objek dan mengembalikan  x = [\"Ani\", \"Budi\"]\n",
    "                         nilai True ketika keduanya merujuk pada    y = [\"Ani\", \"Budi\"]\n",
    "                         objek yang berbeda dan False jika sama     a = x\n",
    "                                                                    \n",
    "                                                                    print(a is not x) akan menampilkan nilai False \n",
    "                                                                    dikarenakan a dan x merujuk ke objek yang sama\n",
    "\n",
    "                                                                    print(a is not y) akan menampilkan nilai True\n",
    "                                                                    dikarenakan a dan y tidak merujuk ke objek yang \n",
    "                                                                    sama\n",
    "\n",
    "Pada umumnya, operator identitas sering digunakan bersamaan dengan fungsi **type()**, yang mana fungsi type() akan menerima sebuah objek dan mengembalikan tipe data dari objek tersebut. Di bawah ini adalah contoh penggunaan operator identitas dan fungsi type().\n"
   ]
  },
  {
   "cell_type": "code",
   "execution_count": 1,
   "id": "02ea4622",
   "metadata": {},
   "outputs": [
    {
     "name": "stdout",
     "output_type": "stream",
     "text": [
      "True\n"
     ]
    }
   ],
   "source": [
    "x = 10\n",
    "print(type(x) is int)"
   ]
  },
  {
   "cell_type": "code",
   "execution_count": 3,
   "id": "c47c327e",
   "metadata": {},
   "outputs": [
    {
     "name": "stdout",
     "output_type": "stream",
     "text": [
      "False\n"
     ]
    }
   ],
   "source": [
    "x /= 3\n",
    "print(type(x) is int)"
   ]
  },
  {
   "cell_type": "code",
   "execution_count": 4,
   "id": "499f57b0",
   "metadata": {},
   "outputs": [
    {
     "name": "stdout",
     "output_type": "stream",
     "text": [
      "True\n"
     ]
    }
   ],
   "source": [
    "x /= 3\n",
    "print(type(x) is float)"
   ]
  },
  {
   "cell_type": "markdown",
   "id": "13c3d0b4",
   "metadata": {},
   "source": [
    "### Membership Operators\n",
    "Operator keanggotaan (membership) dapat digunakan untuk memeriksa anggota dari sebuah tipe data sequence/set. Operator keanggotaan meliputi:\n",
    "\n",
    "    Simbol Operator    Keterangan                                  Contoh\n",
    "\n",
    "           in          Menerima sebuah sequence/set dan objek,     x = [\"Ani\", \"Budi\", \"Cici\"]\n",
    "                       mengembalikan True ketika objek merupakan   y = \"Cici\"\n",
    "                       anggota dari sequence/set, dan False        z = \"Dodi\"\n",
    "                       ketika bukan.\n",
    "                                                                   print(y in x) akan menampilkan nilai True\n",
    "                                                                   print(z in x) akan menampilkan nilai  False\n",
    "\n",
    "           not in      Menerima sebuah sequence/set dan objek,     x = [\"Ani\", \"Budi\", \"Cici\"]\n",
    "                       mengembalikan True ketika objek bukan       y = \"Cici\"\n",
    "                       merupakan anggota dari sequence/set,        z = \"Dodi\"\n",
    "                       dan False ketika merupakan.\n",
    "                                                                   print(y not in x) akan menampilkan nilai  False\n",
    "                                                                   print(z not in x) akan menampilkan nilai   True\n",
    "\n",
    " \n",
    "\n"
   ]
  },
  {
   "cell_type": "markdown",
   "id": "c00bd6e7",
   "metadata": {},
   "source": [
    "### Nilai Prioritas Operator dalam Python – Part 1\n",
    "Setelah mempelajari berbagai operator dalam bahasa pemrograman Python, tentunya aku juga ingin bisa menuliskan operasi-operasi variabel yang bersifat ekspresif dan ringkas.\n",
    "\n",
    "Sebagai contoh, untuk menuliskan sebuah program menghitung diskon dan pajak pembelian berdasarkan ilmu yang telah aku pelajari, aku dapat menuliskannya dengan potongan kode berikut:"
   ]
  },
  {
   "cell_type": "code",
   "execution_count": 8,
   "id": "15c3dfd6",
   "metadata": {},
   "outputs": [
    {
     "name": "stdout",
     "output_type": "stream",
     "text": [
      "Kode awal - harga_bayar = 115500.0\n"
     ]
    }
   ],
   "source": [
    "# Kode awal\n",
    "total_harga = 150000\n",
    "potongan_harga = 0.3\n",
    "pajak = 0.1 # pajak dalam persen ~ 10%\n",
    "harga_bayar = 1 - potongan_harga # baris pertama\n",
    "harga_bayar *= total_harga # baris kedua\n",
    "pajak_bayar = pajak * harga_bayar # baris ketiga\n",
    "harga_bayar += pajak_bayar # baris ke-4\n",
    "print(\"Kode awal - harga_bayar =\", harga_bayar)"
   ]
  },
  {
   "cell_type": "markdown",
   "id": "18b84ac1",
   "metadata": {},
   "source": [
    "aku dapat menuliskannya ke dalam jumlah baris yang lebih sedikit seperti pada potongan kode berikut"
   ]
  },
  {
   "cell_type": "code",
   "execution_count": 7,
   "id": "c5341bca",
   "metadata": {},
   "outputs": [
    {
     "name": "stdout",
     "output_type": "stream",
     "text": [
      "Penyederhanaan kode - harga_bayar= 115500.0\n"
     ]
    }
   ],
   "source": [
    "# Penyederhanaan baris kode dengan menerapkan prioritas operator\n",
    "total_harga = 150000\n",
    "potongan_harga = 0.3\n",
    "pajak = 0.1 # pajak dalam persen ~ 10%\n",
    "harga_bayar = (1-potongan_harga) * total_harga #baris pertama \n",
    "harga_bayar += harga_bayar * pajak # baris kedua\n",
    "print(\"Penyederhanaan kode - harga_bayar=\", harga_bayar)"
   ]
  },
  {
   "cell_type": "markdown",
   "id": "75423ca7",
   "metadata": {},
   "source": [
    "### Nilai Prioritas Operator dalam Python – Part 2\n",
    "Dalam bahasa pemrograman Python, tabel berikut mencakup nilai prioritas dan arah pengerjaan dari setiap operator.\n",
    "\n",
    "    Operator            Nilai Prioritas      Arah pengerjaan      Deskripsi\n",
    "\n",
    "       ()               10                   Kiri ke kanan        Grouping\n",
    "\n",
    "    x[index]            9                    Kiri ke kanan        Mengakses elemen array\n",
    "\n",
    "       **               8                    Kanan ke kiri        pangkat\n",
    "\n",
    "       +x\n",
    "       -x               7                    Kiri ke kanan        Tanda bilangan positif dan negatif\n",
    "\n",
    "       *\n",
    "       /                6                    Kiri ke kanan        Perkalian Pembagian Modulus\n",
    "       %\n",
    "\n",
    "       +\n",
    "       -                5                    Kiri ke kanan        Penambahan Pengurangan\n",
    "\n",
    "       is, is not, \n",
    "       in, not in       4                    Kiri ke kanan        Membership operator Comparison Operator\n",
    "       <=, <, >=, >\n",
    "       ==, !=\n",
    "\n",
    "       not              3                    Kiri ke kanan        Operator logika negasi (not)\n",
    "\n",
    "       and              2                    Kiri ke kanan        Operator logika konjungsi (and)\n",
    "\n",
    "       or               1                    Kiri ke kanan        Operator logika disjungsi (or)\n",
    "\n",
    " \n",
    "\n",
    "Dari tabel di atas, dapat terlihat bahwa **tanda ()** memiliki nilai prioritas yang paling tinggi. Hal itu menandakan jika di dalam suatu statemen yang melibatkan beberapa operator secara sekaligus, setiap operasi yang berada di dalam tanda () akan dikerjakan terlebih dahulu.\n",
    "Kemudian, jika terdapat beberapa operasi dalam tanda (), tanda kurung yang berada di sebelah paling kiri akan dikerjakan terlebih dahulu dikarenakan arah pengerjaan dari tanda () adalah dari kiri ke kanan.\n",
    "\n",
    "Sebagai contoh, pada proses deklarasi variabel nilai di bawah ini."
   ]
  },
  {
   "cell_type": "code",
   "execution_count": 9,
   "id": "0b9a5abe",
   "metadata": {},
   "outputs": [
    {
     "name": "stdout",
     "output_type": "stream",
     "text": [
      "70.0\n"
     ]
    }
   ],
   "source": [
    "nilai = (1-0.3) * 100\n",
    "print(nilai)"
   ]
  },
  {
   "cell_type": "markdown",
   "id": "6e3b4ca0",
   "metadata": {},
   "source": [
    "Dari contoh di atas, meskipun **operator perkalian (*)** memiliki nilai prioritas yang lebih tinggi dari operator **pengurangan (-)**, **tanda ()** akan membuat Python mengerjakan bagian pengurangan terlebih dahulu, sebelum akhirnya mengalikan hasil pengurangan dengan bilangan 100."
   ]
  },
  {
   "cell_type": "code",
   "execution_count": 10,
   "id": "263914c8",
   "metadata": {},
   "outputs": [
    {
     "name": "stdout",
     "output_type": "stream",
     "text": [
      "25.0\n"
     ]
    }
   ],
   "source": [
    "nilai = (3 + 2) ** 2 + (4 + 4) / 2 % 4\n",
    "print(nilai)"
   ]
  },
  {
   "cell_type": "markdown",
   "id": "1c82b6cd",
   "metadata": {},
   "source": [
    "Untuk kode diatas berikut penjelasannya :\n",
    "1. Python akan mengerjakan bagian didalam kurung paling kiri\n",
    "    nilai = 5 ** 2 + (4 + 4) / 2 % 4\n",
    "2. Python akan mengerjakan bagian didalam kurung tersisa\n",
    "    nilai = 5 ** 2 + 8 / 2 % 4\n",
    "3. Operator pangkat akan dikerjakan oleh Python\n",
    "    nilai = 25 + 8 / 2 % 4\n",
    "4. python akan menjalankan operator pembagian dikarenakan prioritasnya lebih tinggi dibading operator penambahan\n",
    "    nilai = 25 + 4 % 4\n",
    "5. Python akan mengerjakan operasi modulus dikarenakan prioritasnya lebih tinggi dibanding operator penambahan\n",
    "    nilai = 25 + 0\n",
    "6. Python akan mengerjakan operator penambahan\n",
    "    nilai = 25"
   ]
  },
  {
   "cell_type": "code",
   "execution_count": 11,
   "id": "745e62bb",
   "metadata": {},
   "outputs": [
    {
     "name": "stdout",
     "output_type": "stream",
     "text": [
      "365200.00000000006\n"
     ]
    }
   ],
   "source": [
    "sepatu = { \"nama\" : \"Sepatu Niko\", \"harga\": 150000, \"diskon\": 30000 }\n",
    "baju = { \"nama\" : \"Baju Unikloh\", \"harga\": 80000, \"diskon\": 8000 }\n",
    "celana = { \"nama\" : \"Celana Lepis\", \"harga\": 200000, \"diskon\": 60000 }\n",
    "harga_sepatu = sepatu[\"harga\"] - sepatu[\"diskon\"]\n",
    "harga_baju = baju[\"harga\"] - baju[\"diskon\"]\n",
    "harga_celana = celana[\"harga\"] - celana[\"diskon\"]\n",
    "total_harga = (harga_sepatu+harga_baju+harga_celana) * 1.1 \n",
    "print(total_harga)"
   ]
  },
  {
   "cell_type": "markdown",
   "id": "ad3a0bd7",
   "metadata": {},
   "source": [
    "### Python Conditioning for Decision – Part 1\n",
    "Layaknya bahasa pemrograman lainnya, bahasa pemrograman Python menyediakan statemen desisi (decision statement) untuk berinteraksi dengan variabel bertipe boolean dan operator logika. Statemen desisi dalam Python dapat dituliskan dengan menggunakan format berikut:\n",
    "\n",
    "    if conditions:\n",
    "        do_action_1\n",
    "        ...\n",
    "        do_action_n\n",
    "Dengan **conditions** berisikan operator yang mengembalikan nilai kebenaran; \n",
    "ataupun beberapa operator yang mengembalikan nilai kebenaran, yang digabungkan dengan operator logika.  \n",
    "Melalui  sebuah statemen desisi **(if statement)**, **do_action_1** sampai dengan **do_action_n** akan dijalankan saat <conditions> bernilai True.\n",
    "\n",
    " \n",
    "\n",
    "Dalam menuliskan serangkaian aksi (do_action_1, ... , do_action_n) dalam sebuah statemen if, aku harus mengemas setiap aksi dalam sebuah blok dengan menambahkan indentasi (jorokan) dari pada aksi."
   ]
  },
  {
   "cell_type": "markdown",
   "id": "eccb86d6",
   "metadata": {},
   "source": [
    "### Python Conditioning for Decision – Part 2"
   ]
  },
  {
   "cell_type": "code",
   "execution_count": 12,
   "id": "c0785ff9",
   "metadata": {},
   "outputs": [
    {
     "name": "stdout",
     "output_type": "stream",
     "text": [
      "x habis dibagi dua\n",
      "x tidak habis dibagi dua, tiga ataupun lima\n"
     ]
    }
   ],
   "source": [
    "# Statement if\n",
    "x = 4\n",
    "if x%2==0: # jika sisa bagi x dengan 2 sama dengan 0\n",
    "    print(\"x habis dibagi dua\") # statemen aksi lebih menjorok ke dalam\n",
    "# Statement if ... elif ... else\n",
    "x = 7\n",
    "if x%2==0: # jika sisa bagi x dengan 2 sama dengan 0\n",
    "    print(\"x habis dibagi dua\")\n",
    "elif x%3==0: # jika sisa bagi x dengan 3 sama dengan 0\n",
    "    print(\"x habis dibagi tiga\")\n",
    "elif x%5==0: # jika sisa bagi x dengan 5 sama dengan 0\n",
    "    print(\"x habis dibagi lima\")\n",
    "else:\n",
    "    print(\"x tidak habis dibagi dua, tiga ataupun lima\")"
   ]
  },
  {
   "cell_type": "markdown",
   "id": "6760ed55",
   "metadata": {},
   "source": [
    "### Python Conditioning for Decision – Part 3\n",
    "Dari yang aku pelajari pada bagian awal dari statemen desisi, operator desisi juga dapat digunakan dengan operator logika. \n",
    "\n",
    "Sebagai catatan tambahan, aku juga belajar bahwa aksi dalam sebuah desisi statemen dapat dituliskan desisi statemen tambahan (lainnya) yang dikenal dengan istilah **nested if**.\n",
    "\n"
   ]
  },
  {
   "cell_type": "code",
   "execution_count": 13,
   "id": "6badb9b2",
   "metadata": {},
   "outputs": [
    {
     "name": "stdout",
     "output_type": "stream",
     "text": [
      "Selamat siang!\n"
     ]
    }
   ],
   "source": [
    "jam = 13\n",
    "if jam>=5 and jam<12: # selama jam di antara 5 s.d. 12\n",
    "    print(\"Selamat pagi!\")\n",
    "elif jam>=12 and jam<17: # selama jam di antara 12 s.d. 17\n",
    "    print(\"Selamat siang!\")\n",
    "elif jam>=17 and jam<19: # selama jam di antara 17 s.d. 19\n",
    "    print(\"Selamat sore!\")\n",
    "else: # selain kondisi di atas\n",
    "    print(\"Selamat malam!\")"
   ]
  },
  {
   "cell_type": "code",
   "execution_count": 14,
   "id": "67925918",
   "metadata": {},
   "outputs": [
    {
     "name": "stdout",
     "output_type": "stream",
     "text": [
      "Tagihan kepada:\n",
      "Mr. Yoyo\n",
      "Selamat pagi, anda harus membayar tagihan sebesar:\n",
      "85000000\n"
     ]
    }
   ],
   "source": [
    "tagihan_ke = 'Mr. Yoyo'\n",
    "warehousing = { 'harga_harian': 1000000, 'total_hari':15 } \n",
    "cleansing = { 'harga_harian': 1500000, 'total_hari':10 } \n",
    "integration = { 'harga_harian':2000000, 'total_hari':15 } \n",
    "transform = { 'harga_harian':2500000, 'total_hari':10 }\n",
    "sub_warehousing = warehousing['harga_harian'] * warehousing['total_hari'] \n",
    "sub_cleansing = cleansing['harga_harian'] * cleansing['total_hari']  \n",
    "sub_integration = integration['harga_harian'] * integration['total_hari']  \n",
    "sub_transform = transform['harga_harian'] * transform['total_hari'] \n",
    "total_harga = sub_warehousing + sub_cleansing + sub_integration + sub_transform\n",
    "print(\"Tagihan kepada:\") \n",
    "print(tagihan_ke)\n",
    "print(\"Selamat pagi, anda harus membayar tagihan sebesar:\") \n",
    "print(total_harga)"
   ]
  },
  {
   "cell_type": "markdown",
   "id": "58955d93",
   "metadata": {},
   "source": [
    "### Tugas:\n",
    "Tolong masukkan variabel keterangan waktu tersebut di kodemu. Lalu, diatur dengan detail berikut:\n",
    "\n",
    "    Diatas jam 07 malam adalah salam 'selamat malam'\n",
    "    Diatas jam 05 sore adalah salam 'selamat sore'\n",
    "    Diatas jam 12 siang, adalah 'selamat siang'\n",
    "    dan selain itu 'selamat pagi'"
   ]
  },
  {
   "cell_type": "code",
   "execution_count": 15,
   "id": "8fdae0db",
   "metadata": {},
   "outputs": [
    {
     "name": "stdout",
     "output_type": "stream",
     "text": [
      "Tagihan kepada:\n",
      "Mr. Yoyo\n",
      "Selamat siang, anda harus membayar tagihan sebesar:\n",
      "85000000\n"
     ]
    }
   ],
   "source": [
    "jam = 17\n",
    "tagihan_ke = 'Mr. Yoyo'\n",
    "warehousing = { 'harga_harian': 1000000, 'total_hari':15 } \n",
    "cleansing = { 'harga_harian': 1500000, 'total_hari':10 } \n",
    "integration = { 'harga_harian':2000000, 'total_hari':15 } \n",
    "transform = { 'harga_harian':2500000, 'total_hari':10 }\n",
    "sub_warehousing = warehousing['harga_harian']*warehousing['total_hari'] \n",
    "sub_cleansing = cleansing['harga_harian']*cleansing['total_hari'] \n",
    "sub_integration = integration['harga_harian']*integration['total_hari'] \n",
    "sub_transform = transform['harga_harian']*transform['total_hari']\n",
    "total_harga = sub_warehousing+sub_cleansing+sub_integration+sub_transform\n",
    "print(\"Tagihan kepada:\")\n",
    "print(tagihan_ke)\n",
    "if jam > 19:\n",
    "    print(\"Selamat malam, anda harus membayar tagihan sebesar:\")\n",
    "elif jam >17:\n",
    "    print(\"Selamat sore, anda harus membayar tagihan sebesar:\") \n",
    "elif jam > 12:\n",
    "    print(\"Selamat siang, anda harus membayar tagihan sebesar:\")\n",
    "else:\n",
    "    print(\"Selamat pagi, anda harus membayar tagihan sebesar:\") \n",
    "print(total_harga)"
   ]
  },
  {
   "cell_type": "markdown",
   "id": "40c472e8",
   "metadata": {},
   "source": [
    "## Python Primitive Loop Control\n",
    "Loop Control merupakan salah satu fitur yang mengizinkan penggunanya untuk melakukan serangkaian aksi, selama suatu kondisi yang telah ditetapkan bernilai benar. Dalam Python, terdapat dua bentuk primitif dari loop kontrol (struktur pengulangan), yaitu\n",
    "\n",
    "    while loops\n",
    "    for loops"
   ]
  },
  {
   "cell_type": "markdown",
   "id": "0abdd1ae",
   "metadata": {},
   "source": [
    "### Python while loops – Part 1\n",
    "Pertama-tama aku mempelajari struktur kontrol while loops menggunakan contoh berikut:\n",
    "\n",
    "    # Tagihan\n",
    "    tagihan = [50000, 75000, 125000, 300000, 200000]"
   ]
  },
  {
   "cell_type": "code",
   "execution_count": 17,
   "id": "74ec185a",
   "metadata": {},
   "outputs": [
    {
     "name": "stdout",
     "output_type": "stream",
     "text": [
      "Tanpa menggunakan while loop :  750000\n",
      "Dengan menggunakan while loop :  750000\n"
     ]
    }
   ],
   "source": [
    "# Tagihan\n",
    "tagihan = [50000, 75000, 125000, 300000, 200000]\n",
    "\n",
    "\n",
    "# Tanpa menggunakan while loop\n",
    "total_tagihan = tagihan[0]+tagihan[1]+tagihan[2]+tagihan[3]+tagihan[4]\n",
    "print(\"Tanpa menggunakan while loop : \",total_tagihan)\n",
    "\n",
    "\n",
    "# Dengan menggunakan while loop\n",
    "i = 0 # sebuah variabel untuk mengakses setiap elemen tagihan satu per satu\n",
    "jumlah_tagihan = len(tagihan) # panjang (jumlah elemen dalam) list tagihan\n",
    "total_tagihan = 0 # mula-mula, set total_tagihan ke 0\n",
    "while i < jumlah_tagihan: # selama nilai i kurang dari jumlah_tagihan\n",
    "    total_tagihan += tagihan[i] # tambahkan tagihan[i] ke total_tagihan\n",
    "    i += 1 # tambahkan nilai i dengan 1 untuk memproses tagihan selanjutnya.\n",
    "print(\"Dengan menggunakan while loop : \",total_tagihan)"
   ]
  },
  {
   "cell_type": "markdown",
   "id": "bfdc3423",
   "metadata": {},
   "source": [
    "aku belajar bahwa statemen **while** akan terus menjalankan aksi di dalamnya, selama kondisi yang dituliskan di samping kanan statemen while terus terpenuhi. \n",
    "Melalui penambahan **nilai i** sebagai salah satu aksi dalam statemen **while**, saat **nilai i = 4**, kondisi dari statemen **while** tidak akan terpenuhi dan eksekusi program akan dilanjutkan ke perintah **print(total_tagihan)**."
   ]
  },
  {
   "cell_type": "markdown",
   "id": "e6b0d9b1",
   "metadata": {},
   "source": [
    "### Python while loops – Part 2\n",
    "Dalam sebuah struktur kontrol pengulangan, aku dapat menggunakan perintah **break** untuk keluar dari struktur pengulangan dan perintah **continue** untuk melanjutkan proses pengulangan berikutnya. "
   ]
  },
  {
   "cell_type": "code",
   "execution_count": 18,
   "id": "6e02215f",
   "metadata": {},
   "outputs": [
    {
     "name": "stdout",
     "output_type": "stream",
     "text": [
      "terdapat angka minus dalam tagihan, perhitungan dihentikan!\n",
      "-1\n"
     ]
    }
   ],
   "source": [
    "tagihan = [50000, 75000, -150000, 125000, 300000, -50000, 200000]\n",
    "i = 0\n",
    "jumlah_tagihan = len(tagihan)\n",
    "total_tagihan = 0\n",
    "while i < jumlah_tagihan:\n",
    "    # jika terdapat tagihan ke-i yang bernilai minus (di bawah nol),\n",
    "    # pengulangan akan dihentikan\n",
    "    if tagihan[i] < 0:\n",
    "        total_tagihan = -1\n",
    "        print(\"terdapat angka minus dalam tagihan, perhitungan dihentikan!\")\n",
    "        break\n",
    "    total_tagihan += tagihan[i]\n",
    "    i += 1\n",
    "print(total_tagihan)"
   ]
  },
  {
   "cell_type": "markdown",
   "id": "8896cf82",
   "metadata": {},
   "source": [
    "### Python while loops – Part 3"
   ]
  },
  {
   "cell_type": "code",
   "execution_count": 19,
   "id": "977fce32",
   "metadata": {},
   "outputs": [
    {
     "name": "stdout",
     "output_type": "stream",
     "text": [
      "750000\n"
     ]
    }
   ],
   "source": [
    "tagihan = [50000, 75000, -150000, 125000, 300000, -50000, 200000]\n",
    "i = 0\n",
    "jumlah_tagihan = len(tagihan)\n",
    "total_tagihan = 0\n",
    "while i < jumlah_tagihan:\n",
    "    # jika terdapat tagihan ke-i yang bernilai minus (di bawah nol),\n",
    "    # abaikan tagihan ke-i dan lanjutkan ke tagihan berikutnya\n",
    "    if tagihan[i] < 0:\n",
    "        i += 1\n",
    "        continue\n",
    "    total_tagihan += tagihan[i]\n",
    "    i += 1\n",
    "print(total_tagihan)"
   ]
  },
  {
   "cell_type": "markdown",
   "id": "fdaf9e61",
   "metadata": {},
   "source": [
    "### Python for loops – Part 1\n",
    "Untuk perintah **for loops**, aku mencoba potongan kode ini :"
   ]
  },
  {
   "cell_type": "code",
   "execution_count": 20,
   "id": "b0fbf8ad",
   "metadata": {},
   "outputs": [
    {
     "name": "stdout",
     "output_type": "stream",
     "text": [
      "550000\n"
     ]
    }
   ],
   "source": [
    "list_tagihan = [50000, 75000, -150000, 125000, 300000, -50000, 200000]\n",
    "total_tagihan = 0\n",
    "for tagihan in list_tagihan: # untuk setiap tagihan dalam list_tagihan\n",
    "    total_tagihan += tagihan # tambahkan tagihan ke total_tagihan\n",
    "print(total_tagihan)"
   ]
  },
  {
   "cell_type": "markdown",
   "id": "7ed20131",
   "metadata": {},
   "source": [
    "### Python for loops – Part 2\n",
    "Serupa dengan struktur **pengulangan while**, aku juga dapat memanfaatkan **statement break dan continue** di dalamnya. Aku mencoba potongan kode di bawah menggunakan live code editor untuk penggunaan **statement break** dan **statement continue**."
   ]
  },
  {
   "cell_type": "code",
   "execution_count": 21,
   "id": "21ea0a90",
   "metadata": {},
   "outputs": [
    {
     "name": "stdout",
     "output_type": "stream",
     "text": [
      "For loops with break\n",
      "Terdapat angka minus dalam tagihan, perhitungan dihentikan!\n",
      "Total tagihan 125000.\n",
      "\n",
      "For loops with continue\n",
      "Terdapat angka minus dalam tagihan, tagihan -150000 dilewati!\n",
      "Terdapat angka minus dalam tagihan, tagihan -50000 dilewati!\n",
      "Total tagihan 750000.\n"
     ]
    }
   ],
   "source": [
    "list_tagihan = [50000, 75000, -150000, 125000, 300000, -50000, 200000]\n",
    "\n",
    "# For loops with break\n",
    "print(\"For loops with break\")\n",
    "total_tagihan_break = 0\n",
    "for tagihan in list_tagihan:\n",
    "    if tagihan<0:\n",
    "        print(\"Terdapat angka minus dalam tagihan, perhitungan dihentikan!\")\n",
    "        break\n",
    "    total_tagihan_break += tagihan\n",
    "print(\"Total tagihan %d.\" % total_tagihan_break)\n",
    "print()\n",
    "\n",
    "# For loops with continue\n",
    "print(\"For loops with continue\")\n",
    "total_tagihan_continue = 0\n",
    "for tagihan in list_tagihan:\n",
    "    if tagihan<0:\n",
    "        print(\"Terdapat angka minus dalam tagihan, tagihan %d dilewati!\" % tagihan)\n",
    "        continue\n",
    "    total_tagihan_continue += tagihan\n",
    "print(\"Total tagihan %d.\" % total_tagihan_continue)"
   ]
  },
  {
   "cell_type": "markdown",
   "id": "04665b40",
   "metadata": {},
   "source": [
    "### Python for loops – Part 3\n",
    "Ternyata, aku belajar bahwa ada istilah **nested loops**, yaitu pengulangan bersarang. Dengan nested loops, aku dapat mengkombinasikan (menambahkan) struktur pengulangan lain di dalamnya."
   ]
  },
  {
   "cell_type": "code",
   "execution_count": 22,
   "id": "5ecf11e6",
   "metadata": {},
   "outputs": [
    {
     "name": "stdout",
     "output_type": "stream",
     "text": [
      "Apel Malang\n",
      "Duku Malang\n",
      "Jeruk Malang\n",
      "Apel Palembang\n",
      "Duku Palembang\n",
      "Jeruk Palembang\n",
      "Apel Medan\n",
      "Duku Medan\n",
      "Jeruk Medan\n"
     ]
    }
   ],
   "source": [
    "list_daerah = ['Malang', 'Palembang', 'Medan']\n",
    "list_buah = ['Apel', 'Duku', 'Jeruk']\n",
    "for nama_daerah in list_daerah:\n",
    "    for nama_buah in list_buah:\n",
    "        print(nama_buah+ \" \" +nama_daerah)"
   ]
  },
  {
   "cell_type": "markdown",
   "id": "0dbda397",
   "metadata": {},
   "source": [
    "### Tugas:\n",
    "Program yang akan aku bangun akan mengolah sebuah list yang bernama **list_cash_flow**. Setiap elemen dari list_cash_flow berisikan **pengeluaran (bilangan negatif) dan pemasukan (bilangan positif)** pada perusahaan\n",
    "\n",
    "Dari list_cash_flow ini, aku akan menghitung **total_pengeluaran dan total_pemasukan perusahaan**. "
   ]
  },
  {
   "cell_type": "code",
   "execution_count": 25,
   "id": "0cb6a396",
   "metadata": {},
   "outputs": [
    {
     "name": "stdout",
     "output_type": "stream",
     "text": [
      "Total Pengeluaran :  12500000\n",
      "Total Pemasukan :  65000000\n"
     ]
    }
   ],
   "source": [
    "list_cash_flow = [\n",
    "2500000, 5000000, -1000000, -2500000, 5000000, 10000000,\n",
    "-5000000, 7500000, 10000000, -1500000, 25000000, -2500000\n",
    "]\n",
    "total_pengeluaran, total_pemasukan = 0, 0\n",
    "for dana in list_cash_flow:\n",
    "    if dana > 0:\n",
    "        total_pemasukan += dana\n",
    "    else:\n",
    "        total_pengeluaran += dana\n",
    "total_pengeluaran *= -1      #Mengubah tampilan supaya tidak minus\n",
    "print(\"Total Pengeluaran : \", total_pengeluaran) \n",
    "print(\"Total Pemasukan : \", total_pemasukan)"
   ]
  },
  {
   "cell_type": "markdown",
   "id": "e54771a8",
   "metadata": {},
   "source": [
    "### Ekspedisi Pamanku\n",
    "Aku menyambar ponsel di meja dan membuka pesan singkat dari paman tempo hari yang menjelaskan jika paman harus mengeluarkan uang sebesar **1,5 juta per mobil dalam sehari**. Tapi, beliau selalu kebingungan dengan total pengeluaran per bulan karena adanya aturan ganjil-genap yang membuat pengoperasian mobil yang berbeda.\n",
    "\n",
    "“Kalau begitu, aku akan masukkan variabel **jumlah_hari** berisi jumlah hari dalam sebulan dan variabel **list_plat_nomor** berisi seluruh nomor plat mobil milik paman,” gumamku sendiri. Kalau seperti ini paman hanya perlu mengganti variabel jumlah_hari atau modifikasi variabel list_plat_nomor untuk melacak total pengeluaran paman selama sebulan. Ide Cemerlang!\n",
    "\n"
   ]
  },
  {
   "cell_type": "code",
   "execution_count": 27,
   "id": "b6928b20",
   "metadata": {},
   "outputs": [
    {
     "name": "stdout",
     "output_type": "stream",
     "text": [
      "Total pengeluaran :  163500000\n"
     ]
    }
   ],
   "source": [
    "# Data\n",
    "uang_jalan = 1500000\n",
    "jumlah_hari = 31\n",
    "list_plat_nomor = [8993, 2198, 2501, 2735, 3772, 4837, 9152]\n",
    "# Pengecekan kendaraan dengan nomor pelat ganjil atau genap \n",
    "# Deklarasikan kendaraan_genap dan kendaraan_ganjil = 0\n",
    "kendaraan_genap = 0 \n",
    "kendaraan_ganjil = 0\n",
    "for plat_nomor in list_plat_nomor:\n",
    "    if plat_nomor%2 == 0:\n",
    "        kendaraan_genap += 1 \n",
    "    else:\n",
    "        kendaraan_ganjil += 1\n",
    "# Total pengeluaran untuk kendaraan dengan nomor pelat ganjil \n",
    "# dan genap dalam 1 bulan\n",
    "i = 1\n",
    "total_pengeluaran = 0\n",
    "while i <= jumlah_hari:\n",
    "    if i % 2 == 0:\n",
    "        total_pengeluaran += (kendaraan_genap * uang_jalan)\n",
    "    else:\n",
    "        total_pengeluaran += (kendaraan_ganjil * uang_jalan) \n",
    "    i += 1\n",
    "# Cetak total pengeluaran\n",
    "print(\"Total pengeluaran : \",total_pengeluaran)"
   ]
  },
  {
   "cell_type": "markdown",
   "id": "3d3a619b",
   "metadata": {},
   "source": [
    "## Hasil Belajarku\n",
    "\n",
    "Dari materi yang telah aku pelajari dan praktekkan, aku telah mempelajari:\n",
    "\n",
    "1. Alasan Python secara luas digunakan dalam komputasi saintifik, web, ranah data (data domain).\n",
    "2. Konstruksi dari struktur bahasa pemrograman Python.\n",
    "3. Teknik mempraktekkan penggunaan tipe data pada Python.\n",
    "4. Teknik mempraktekkan penggunaan jenis-jenis operator pada Python.\n",
    "5. Teknik mempraktekkan penggunaan pengkondisian untuk pengambilan keputusan dan perulangan pada Python.\n",
    "6. Program Python untuk penyelesaian kasus bisnis sederhana."
   ]
  }
 ],
 "metadata": {
  "kernelspec": {
   "display_name": "Python 3 (ipykernel)",
   "language": "python",
   "name": "python3"
  },
  "language_info": {
   "codemirror_mode": {
    "name": "ipython",
    "version": 3
   },
   "file_extension": ".py",
   "mimetype": "text/x-python",
   "name": "python",
   "nbconvert_exporter": "python",
   "pygments_lexer": "ipython3",
   "version": "3.9.12"
  }
 },
 "nbformat": 4,
 "nbformat_minor": 5
}
