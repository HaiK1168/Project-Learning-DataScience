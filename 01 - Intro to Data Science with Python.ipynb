{
 "cells": [
  {
   "cell_type": "markdown",
   "id": "05a0c1c9",
   "metadata": {},
   "source": [
    "Struktur Bahasa Python \n",
    "\n",
    "\n",
    "1. Statements\n",
    "\n",
    "instruksi yang diberikan secara baris per baris untuk dijalankan oleh program\n",
    "\n",
    "2. Variables\n",
    "\n",
    "pengindentifikasian yang  digunakan untuk menampung sebuah data atau informasi\n",
    "\n",
    "3. Literals\n",
    "\n",
    "data atau informasi yang digunakan untuk mengisi suatu variabel\n",
    "\n",
    "4. Operators\n",
    "\n",
    "simbol-simbol yang digunakan untuk mengubah nilai dari satu variabel dengan melibatkan satu atau lebih variabel dan literal.\n",
    "\n",
    "5. Reserved Words\n",
    "\n",
    "kumpulan kata-kata yang memiliki makna khusus dalam bahasa pemrograman Python dan tidak dapat digunakan untuk variables dan literals\n",
    "\n",
    "6. Whitespace\n",
    "\n",
    "pada bahasa Python, spasi dan tab memiliki makna khusus untuk menandai serangkaian blok dalam kode Python\n",
    "\n",
    "7. Comments\n",
    "\n",
    "merupakan sekumpulan teks yang dituliskan di dalam sebuah program yang tidak akan mempengaruhi hasil dari sebuah program\n",
    "\n",
    " "
   ]
  },
  {
   "cell_type": "code",
   "execution_count": 1,
   "id": "592f7982",
   "metadata": {},
   "outputs": [
    {
     "name": "stdout",
     "output_type": "stream",
     "text": [
      "Hello World.\n",
      "Saya Aksara, baru belajar Python.\n"
     ]
    }
   ],
   "source": [
    "print(\"Hello World.\")\n",
    "print(\"Saya Aksara, baru belajar Python.\")\n",
    "\n",
    "# Note:\n",
    "# - Kata \"Hello World.\" & \"Saya Aksara, baru belajar Python.\" disebut dengan statement.\n",
    "# - print() adalah fungsi dasar python untuk mencetak tulisan yang diberikan"
   ]
  },
  {
   "cell_type": "markdown",
   "id": "e8c8d795",
   "metadata": {},
   "source": [
    "Variables di Python\n",
    "\n",
    "Sekarang kita akan mempelajari teknik penulisan variable pada Python dengan mengikuti contoh yang sudah disediakan Senja. Berikut adalah tiga aturan penting yang wajib diikuti pada saat kita mendeklarasikan suatu variabel di Python. \n",
    "\n",
    "1. Nama dari sebuah variabel harus dimulai dengan huruf (a-z, A-Z)\n",
    "atau karakter garis bawah/underscore (_) dan tidak dapat dimulai dengan angka (0-9).\n",
    "\n",
    "2. Variabel hanya boleh mengandung karakter alfabet dan bilangan dan underscore\n",
    "(a-z, A-Z, 0-9, _)\n",
    "\n",
    "3. Variabel bersifat case-sensitive yang mengartikan bahwa\n",
    "variabel TINGGI, tinggi, dan Tinggi merujuk pada tiga variabel berbeda."
   ]
  },
  {
   "cell_type": "code",
   "execution_count": 3,
   "id": "b8b33444",
   "metadata": {},
   "outputs": [],
   "source": [
    "bil1 = 10 \n",
    "Bil_2 = 20\n",
    "Frasa = \"Halo Dunia\"\n",
    "bil1, Bil_2 = 10, 20\n",
    "salam = \"Selamat Pagi\"; Penutup = \"Salam Sejahtera\""
   ]
  },
  {
   "cell_type": "markdown",
   "id": "a1baff5b",
   "metadata": {},
   "source": [
    "COMMENT \n",
    "\n",
    "Comments adalah sekumpulan teks yang dituliskan dalam sebuah program dan tidak akan mempengaruhi hasil dari sebuah program. Berikut adalah contoh penulisan single line comment & multi line comment pada python. \n",
    "\n",
    "#untuk menulis single line comment, atau \n",
    "'''\n",
    "komentar ini\n",
    "lebih dari 1 baris\n",
    "''' \n",
    "untuk menulis multi line comment. "
   ]
  },
  {
   "cell_type": "code",
   "execution_count": 4,
   "id": "835284f9",
   "metadata": {},
   "outputs": [
    {
     "name": "stdout",
     "output_type": "stream",
     "text": [
      "jadi # digunakan untuk membuat comment pada Python\n"
     ]
    }
   ],
   "source": [
    "#perintah pada baris ini tidak mempengaruhi program\n",
    "...\n",
    "\"perintah ini tidak akan dieksekusi oleh python\"\n",
    "\"dan perintah ini juga tidak akan dieksekusi\"\n",
    "\"perintah ini juga tidak akan dieksekusi\"\n",
    "...\n",
    "print(\"jadi # digunakan untuk membuat comment pada Python\")"
   ]
  },
  {
   "cell_type": "markdown",
   "id": "ff41ee0b",
   "metadata": {},
   "source": [
    "# Tipe Data Python - part 1\n",
    "Secara garis besar, ada beragam tipe data di Python seperti yang digambarkan pada diagram dibawah: \n",
    "\n",
    "1. None --> NoneType\n",
    "2. Numeric : \n",
    "    - Int\n",
    "    - Float\n",
    "3. Boolean --> Bool\n",
    "4. Sequence : \n",
    "    - str\n",
    "    - list\n",
    "    - tuple\n",
    "5. Set --> Set\n",
    "6. Map --> Dict"
   ]
  },
  {
   "cell_type": "markdown",
   "id": "4ead786e",
   "metadata": {},
   "source": [
    "# Tipe Data Python - part 2\n",
    "\n",
    "Tabel berikut menjelaskan keterangan dari tipe data sequence, set, dan map:\n",
    "\n",
    "1. Sequence \n",
    "    - str\n",
    "Tipe data teks yang dapat berupa huruf, kata, frasa, kalimat atau paragraf yang diapit oleh ‘ atau “\n",
    "\n",
    "Contoh:\n",
    "\n",
    "“a”; ‘b’; ‘saya’; “Belajar Python”; “Kita makan nasi goreng”\n",
    "\n",
    "    Gunakan fungsi str()\n",
    "\n",
    "    Contoh:\n",
    "\n",
    "    str(5.3) → “5.3”;\n",
    "\n",
    "    str([1, ‘buku’]) → \"[1, 'buku']\"\n",
    "    \n",
    "    \n",
    "    -list\n",
    "Urutan bilangan dan teks yang diapit oleh kurung siku dan masing-masing elemennya dipisahkan dengan koma.\n",
    "\n",
    "Contoh:\n",
    "\n",
    "[-9.52, None, True, “saya”]\n",
    "\n",
    "    Gunakan fungsi list()\n",
    "\n",
    "    Contoh:\n",
    "\n",
    "    list(“buku”) → ['b', 'u', 'k', 'u'];\n",
    "\n",
    "    list((1, 2, 3)) → [1, 2, 3]\n",
    "\n",
    "    list({1, 3, 6, 3}) → [1, 3, 6]\n",
    "    \n",
    "    \n",
    "    - tuple\n",
    "Urutan bilangan dan teks yang diapit oleh kurung biasa dan masing-masing elemennya dipisahkan dengan koma.\n",
    "\n",
    "Contoh:\n",
    "\n",
    "(-9.52, None, True, “saya”)\n",
    "\n",
    "    Gunakan fungsi tuple()\n",
    "\n",
    "    Contoh:\n",
    "\n",
    "    tuple(“buku”) → ('b', 'u', 'k', 'u');\n",
    "\n",
    "    tuple((1, 2, 3)) → (1, 2, 3)\n",
    "\n",
    "    tuple({1, 3, 6, 3}) → (1, 3, 6)\n",
    "    \n",
    "    \n",
    "2. Set\n",
    "\n",
    "    -set\n",
    "Urutan bilangan dan teks yang diapit oleh kurung biasa dan masing-masing elemennya dipisahkan dengan koma. Setiap elemennya bernilai unik.\n",
    "\n",
    "Contoh:\n",
    "\n",
    "{1, 4, 4, 3} → {1, 3, 4}\n",
    "\n",
    "    Gunakan fungsi set()\n",
    "\n",
    "    Contoh:\n",
    "\n",
    "    set(“buku”) → ['b', 'k', 'u'];\n",
    "\n",
    "    set((1, 2, 3)) → {1, 2, 3}\n",
    "\n",
    "    set([1, 3, 6, 3]) → {1, 3, 6}"
   ]
  },
  {
   "cell_type": "code",
   "execution_count": 5,
   "id": "3ee8eeb8",
   "metadata": {},
   "outputs": [
    {
     "name": "stdout",
     "output_type": "stream",
     "text": [
      "['B', 'e', 'l', 'a', 'j', 'a', 'r', ' ', 'P', 'y', 't', 'h', 'o', 'n', ' ', 'd', 'i', ' ', 'D', 'Q', 'L', 'a', 'b', '.']\n",
      "('B', 'e', 'l', 'a', 'j', 'a', 'r', ' ', 'P', 'y', 't', 'h', 'o', 'n', ' ', 'd', 'i', ' ', 'D', 'Q', 'L', 'a', 'b', '.')\n",
      "{'e', 'r', 'L', 'n', 'D', 'o', 'a', 'd', 'i', 'y', 'h', 't', 'b', 'B', 'P', 'Q', 'l', '.', ' ', 'j'}\n"
     ]
    }
   ],
   "source": [
    "text = \"Belajar Python di DQLab.\"\n",
    "print(list(text))\n",
    "print(tuple(text))\n",
    "print(set(text))\n",
    "\n",
    "# 1. Pada baris 2, perintah list akan mengubah text menjadi tipe data list dan mencetak nilainya.\n",
    "\n",
    "# 2. Pada baris 3, perintah tuple akan mengubah text menjadi tipe data tuple dan mencetak nilainya.\n",
    "\n",
    "# 3. Pada baris 4, perintah set akan mengubah text menjadi tipe data set dan mencetak nilainya."
   ]
  },
  {
   "cell_type": "markdown",
   "id": "454ef4be",
   "metadata": {},
   "source": [
    "# Menggunakan Library di Python\n",
    "\n",
    "Menggunakan perintah import nama_library atau import nama_library as alias."
   ]
  },
  {
   "cell_type": "code",
   "execution_count": null,
   "id": "9525484f",
   "metadata": {},
   "outputs": [],
   "source": [
    "import math\n",
    "import numpy as np\n",
    "import pandas as pd\n",
    "import seaborn as sns"
   ]
  },
  {
   "cell_type": "code",
   "execution_count": null,
   "id": "21ad8d5d",
   "metadata": {},
   "outputs": [],
   "source": []
  }
 ],
 "metadata": {
  "kernelspec": {
   "display_name": "Python 3 (ipykernel)",
   "language": "python",
   "name": "python3"
  },
  "language_info": {
   "codemirror_mode": {
    "name": "ipython",
    "version": 3
   },
   "file_extension": ".py",
   "mimetype": "text/x-python",
   "name": "python",
   "nbconvert_exporter": "python",
   "pygments_lexer": "ipython3",
   "version": "3.9.12"
  }
 },
 "nbformat": 4,
 "nbformat_minor": 5
}
