{
 "cells": [
  {
   "cell_type": "markdown",
   "metadata": {},
   "source": [
    "# Pengenalan Library dalam Python\n",
    "\n",
    "Library pada Python merupakan kumpulan code yang bersifat open-source yang dapat dipanggil ke dalam Python dan digunakan untuk membantu komputasi. Library dasar pada Python yang digunakan untuk analisis data antara lain **NumPy, SciPy, Pandas, dan Matplotlib** dengan fungsional yang berbeda - beda. Modul ini akan menjabarkan kegunaan masing - masing library beserta contoh kasus penggunaan library tersebut dalam menyelesaikan real - case di dunia kerja.\n",
    "\n",
    "## Library NumPy\n",
    "\n",
    "Numpy berasal dari kata **‘Numerical Python’,** sesuai namanya NumPy berfungsi sebagai library untuk melakukan proses komputasi numerik terutama dalam bentuk array multidimensional (1-Dimensi ataupun 2-Dimensi). Array merupakan kumpulan dari variabel yang memiliki tipe data yang sama. NumPy menyimpan data dalam bentuk arrays.\n",
    "\n",
    "## Library Pandas\n",
    "\n",
    "Pandas merupakan library yang memudahkan dalam melakukan manipulasi, cleansing maupun analisis struktur data. Dengan menggunakan Pandas, dapat memanfaatkan lima fitur utama dalam pemrosesan dan analisis data, yaitu load, prepare, manipulate, modelling, dan analysis data.\n",
    "\n",
    "Pandas menggunakan konsep array dari NumPy namun memberikan index kepada array tersebut, sehingga disebut series ataupun data frame. Sehingga bisa dikatakan Pandas menyimpan data dalam dictionary-based NumPy arrays. 1-Dimensi labelled array dinamakan sebagai Series. Sedangkan 2-Dimensi dinamakan sebagai Data Frame.\n",
    "\n",
    "## Library SciPy\n",
    "\n",
    "Scipy dibangun untuk bekerja dengan array NumPy dan menyediakan banyak komputasi numerik yang ramah pengguna dan efisien seperti rutinitas untuk integrasi, diferensiasi dan optimasi numerik.\n",
    "\n",
    "Baik NumPy maupun SciPy berjalan pada semua operating system, cepat untuk diinstall dan gratis. NumPy dan SciPy mudah digunakan, tetapi cukup kuat untuk diandalkan oleh beberapa data scientist dan researcher terkemuka dunia.\n",
    "\n",
    "## Library Matplotlib\n",
    "\n",
    "Matplotlib merupakan library dari Python yang umum digunakan untuk visualisasi data. Matplotlib memiliki kapabilitas untuk membuat visualisasi data 2-dimensional. Contoh visualisasi yang dapat dibuat dengan menggunakan matplotlib diantaranya adalah\n",
    "\n",
    "    Line chart\n",
    "    Bar chart\n",
    "    Pie chart\n",
    "    Box plot chart\n",
    "    Violin chart\n",
    "    Errorbar chart\n",
    "    Scatter chart\n",
    "\n",
    "Jenis-jenis chart lainnya juga dapat dibuat melalui library ini.\n",
    "\n",
    "\n"
   ]
  },
  {
   "cell_type": "markdown",
   "metadata": {},
   "source": [
    "## Memanggil library di Python\n",
    "\n",
    "Sebelum dapat digunakan, library tersebut harus terlebih dahulu dipanggil ke dalam lingkungan Python. Command untuk memanggil library di Python menggunakan syntax (menggunakan huruf kecil):\n",
    "\n",
    "    import library_name as alias\n",
    "\n",
    "**Alias** berfungsi sebagai pengganti nama library, sehingga menghemat komputasi saat function dari library tersebut dipanggil."
   ]
  },
  {
   "cell_type": "markdown",
   "metadata": {},
   "source": [
    "## Membaca file dari Excel atau CSV sebagai data frame\n",
    "\n",
    "Salah satu fungsi Pandas yaitu melakukan load data dari CSV atau Excel file. Syntax yang digunakan untuk melakukan operasi tersebut, yaitu:\n",
    "\n",
    "    # Membaca file .csv\n",
    "    [nama_variabel] = pd.read_csv(\"nama_file.csv\")\n",
    "\n",
    "    # Membaca file .excel\n",
    "    [nama_variabel] = pd.read_excel(\"nama_file.xlsx\")\n",
    "\n",
    "Nama variabel **([nama_variabel])** dari contoh diatas menunjukkan nama variabel dari dataframe untuk menampung data dari datasets tersebut!\n",
    "\n"
   ]
  },
  {
   "cell_type": "markdown",
   "metadata": {},
   "source": [
    "### Tugas Praktek\n",
    "Cobalah untuk mengimport dataset marketplace ABC dari **order.csv** dan disimpan ke dalam dataframe bernama **order_df**.\n",
    "\n",
    "**Notes** : untuk dataset diinput dari link berikut \"https://storage.googleapis.com/dqlab-dataset/order.csv\"."
   ]
  },
  {
   "cell_type": "code",
   "execution_count": 1,
   "metadata": {},
   "outputs": [
    {
     "data": {
      "text/html": [
       "<div>\n",
       "<style scoped>\n",
       "    .dataframe tbody tr th:only-of-type {\n",
       "        vertical-align: middle;\n",
       "    }\n",
       "\n",
       "    .dataframe tbody tr th {\n",
       "        vertical-align: top;\n",
       "    }\n",
       "\n",
       "    .dataframe thead th {\n",
       "        text-align: right;\n",
       "    }\n",
       "</style>\n",
       "<table border=\"1\" class=\"dataframe\">\n",
       "  <thead>\n",
       "    <tr style=\"text-align: right;\">\n",
       "      <th></th>\n",
       "      <th>order_id</th>\n",
       "      <th>quantity</th>\n",
       "      <th>product_id</th>\n",
       "      <th>price</th>\n",
       "      <th>seller_id</th>\n",
       "      <th>freight_value</th>\n",
       "      <th>customer_id</th>\n",
       "      <th>order_status</th>\n",
       "      <th>purchase_date</th>\n",
       "      <th>payment_type</th>\n",
       "      <th>product_category_name</th>\n",
       "      <th>product_weight_gram</th>\n",
       "    </tr>\n",
       "  </thead>\n",
       "  <tbody>\n",
       "    <tr>\n",
       "      <th>0</th>\n",
       "      <td>2e7a8482f6fb09756ca50c10d7bfc047</td>\n",
       "      <td>2</td>\n",
       "      <td>f293394c72c9b5fafd7023301fc21fc2</td>\n",
       "      <td>1489000</td>\n",
       "      <td>1554a68530182680ad5c8b042c3ab563</td>\n",
       "      <td>28000</td>\n",
       "      <td>08c5351a6aca1c1589a38f244edeee9d</td>\n",
       "      <td>shipped</td>\n",
       "      <td>2016-09-05</td>\n",
       "      <td>virtual account</td>\n",
       "      <td>fashion</td>\n",
       "      <td>1800.0</td>\n",
       "    </tr>\n",
       "    <tr>\n",
       "      <th>1</th>\n",
       "      <td>2e7a8482f6fb09756ca50c10d7bfc047</td>\n",
       "      <td>1</td>\n",
       "      <td>c1488892604e4ba5cff5b4eb4d595400</td>\n",
       "      <td>1756000</td>\n",
       "      <td>1554a68530182680ad5c8b042c3ab563</td>\n",
       "      <td>45000</td>\n",
       "      <td>08c5351a6aca1c1589a38f244edeee9d</td>\n",
       "      <td>shipped</td>\n",
       "      <td>2016-09-05</td>\n",
       "      <td>virtual account</td>\n",
       "      <td>automotive</td>\n",
       "      <td>1400.0</td>\n",
       "    </tr>\n",
       "    <tr>\n",
       "      <th>2</th>\n",
       "      <td>e5fa5a7210941f7d56d0208e4e071d35</td>\n",
       "      <td>1</td>\n",
       "      <td>f3c2d01a84c947b078e32bbef0718962</td>\n",
       "      <td>1707000</td>\n",
       "      <td>a425f92c199eb576938df686728acd20</td>\n",
       "      <td>174000</td>\n",
       "      <td>683c54fc24d40ee9f8a6fc179fd9856c</td>\n",
       "      <td>canceled</td>\n",
       "      <td>2016-09-05</td>\n",
       "      <td>e-wallet</td>\n",
       "      <td>toys</td>\n",
       "      <td>700.0</td>\n",
       "    </tr>\n",
       "    <tr>\n",
       "      <th>3</th>\n",
       "      <td>3b697a20d9e427646d92567910af6d57</td>\n",
       "      <td>1</td>\n",
       "      <td>3ae08df6bcbfe23586dd431c40bddbb7</td>\n",
       "      <td>3071000</td>\n",
       "      <td>522620dcb18a6b31cd7bdf73665113a9</td>\n",
       "      <td>154000</td>\n",
       "      <td>355077684019f7f60a031656bd7262b8</td>\n",
       "      <td>delivered</td>\n",
       "      <td>2016-10-03</td>\n",
       "      <td>e-wallet</td>\n",
       "      <td>utilities</td>\n",
       "      <td>300.0</td>\n",
       "    </tr>\n",
       "    <tr>\n",
       "      <th>4</th>\n",
       "      <td>71303d7e93b399f5bcd537d124c0bcfa</td>\n",
       "      <td>1</td>\n",
       "      <td>d2998d7ced12f83f9b832f33cf6507b6</td>\n",
       "      <td>3833000</td>\n",
       "      <td>25e6ffe976bd75618accfe16cefcbd0d</td>\n",
       "      <td>147000</td>\n",
       "      <td>b106b360fe2ef8849fbbd056f777b4d5</td>\n",
       "      <td>canceled</td>\n",
       "      <td>2016-10-03</td>\n",
       "      <td>e-wallet</td>\n",
       "      <td>fashion</td>\n",
       "      <td>500.0</td>\n",
       "    </tr>\n",
       "    <tr>\n",
       "      <th>...</th>\n",
       "      <td>...</td>\n",
       "      <td>...</td>\n",
       "      <td>...</td>\n",
       "      <td>...</td>\n",
       "      <td>...</td>\n",
       "      <td>...</td>\n",
       "      <td>...</td>\n",
       "      <td>...</td>\n",
       "      <td>...</td>\n",
       "      <td>...</td>\n",
       "      <td>...</td>\n",
       "      <td>...</td>\n",
       "    </tr>\n",
       "    <tr>\n",
       "      <th>49994</th>\n",
       "      <td>ec88157ad03aa203c3fdfe7bace5ab6b</td>\n",
       "      <td>1</td>\n",
       "      <td>165f86fe8b799a708a20ee4ba125c289</td>\n",
       "      <td>3077000</td>\n",
       "      <td>7ddcbb64b5bc1ef36ca8c151f6ec77df</td>\n",
       "      <td>172000</td>\n",
       "      <td>1642b8087a8ca0c8592becff7e183c98</td>\n",
       "      <td>delivered</td>\n",
       "      <td>2017-12-15</td>\n",
       "      <td>e-wallet</td>\n",
       "      <td>automotive</td>\n",
       "      <td>2425.0</td>\n",
       "    </tr>\n",
       "    <tr>\n",
       "      <th>49995</th>\n",
       "      <td>ed60085e92e2aa3debf49159deb34da7</td>\n",
       "      <td>1</td>\n",
       "      <td>6e835aea84ae8eb68b8c14878dd43b30</td>\n",
       "      <td>1277000</td>\n",
       "      <td>4d6d651bd7684af3fffabd5f08d12e5a</td>\n",
       "      <td>130000</td>\n",
       "      <td>431bbb57d52f3141ab2f33a6a4cf00a6</td>\n",
       "      <td>delivered</td>\n",
       "      <td>2017-12-15</td>\n",
       "      <td>debit card</td>\n",
       "      <td>beauty</td>\n",
       "      <td>2350.0</td>\n",
       "    </tr>\n",
       "    <tr>\n",
       "      <th>49996</th>\n",
       "      <td>ed98c37d860890f940e2acd83629fdd1</td>\n",
       "      <td>2</td>\n",
       "      <td>aca2eb7d00ea1a7b8ebd4e68314663af</td>\n",
       "      <td>486000</td>\n",
       "      <td>955fee9216a65b617aa5c0531780ce60</td>\n",
       "      <td>14000</td>\n",
       "      <td>71f8cd490677ee95362201588c0eaff4</td>\n",
       "      <td>delivered</td>\n",
       "      <td>2017-12-15</td>\n",
       "      <td>debit card</td>\n",
       "      <td>gadget</td>\n",
       "      <td>2600.0</td>\n",
       "    </tr>\n",
       "    <tr>\n",
       "      <th>49997</th>\n",
       "      <td>ed98c37d860890f940e2acd83629fdd1</td>\n",
       "      <td>1</td>\n",
       "      <td>aca2eb7d00ea1a7b8ebd4e68314663af</td>\n",
       "      <td>830000</td>\n",
       "      <td>955fee9216a65b617aa5c0531780ce60</td>\n",
       "      <td>108000</td>\n",
       "      <td>71f8cd490677ee95362201588c0eaff4</td>\n",
       "      <td>delivered</td>\n",
       "      <td>2017-12-15</td>\n",
       "      <td>e-wallet</td>\n",
       "      <td>gadget</td>\n",
       "      <td>2600.0</td>\n",
       "    </tr>\n",
       "    <tr>\n",
       "      <th>49998</th>\n",
       "      <td>ede4ebbb6e36cbd377eabcc7f5229575</td>\n",
       "      <td>1</td>\n",
       "      <td>2b0ee2d07306f7c9ac55a43166e9bb4b</td>\n",
       "      <td>215000</td>\n",
       "      <td>1900267e848ceeba8fa32d80c1a5f5a8</td>\n",
       "      <td>189000</td>\n",
       "      <td>60d2d93a97ec1ad751f2ddce9249ba2a</td>\n",
       "      <td>delivered</td>\n",
       "      <td>2017-12-15</td>\n",
       "      <td>credit card</td>\n",
       "      <td>beauty</td>\n",
       "      <td>1450.0</td>\n",
       "    </tr>\n",
       "  </tbody>\n",
       "</table>\n",
       "<p>49999 rows × 12 columns</p>\n",
       "</div>"
      ],
      "text/plain": [
       "                               order_id  quantity  \\\n",
       "0      2e7a8482f6fb09756ca50c10d7bfc047         2   \n",
       "1      2e7a8482f6fb09756ca50c10d7bfc047         1   \n",
       "2      e5fa5a7210941f7d56d0208e4e071d35         1   \n",
       "3      3b697a20d9e427646d92567910af6d57         1   \n",
       "4      71303d7e93b399f5bcd537d124c0bcfa         1   \n",
       "...                                 ...       ...   \n",
       "49994  ec88157ad03aa203c3fdfe7bace5ab6b         1   \n",
       "49995  ed60085e92e2aa3debf49159deb34da7         1   \n",
       "49996  ed98c37d860890f940e2acd83629fdd1         2   \n",
       "49997  ed98c37d860890f940e2acd83629fdd1         1   \n",
       "49998  ede4ebbb6e36cbd377eabcc7f5229575         1   \n",
       "\n",
       "                             product_id    price  \\\n",
       "0      f293394c72c9b5fafd7023301fc21fc2  1489000   \n",
       "1      c1488892604e4ba5cff5b4eb4d595400  1756000   \n",
       "2      f3c2d01a84c947b078e32bbef0718962  1707000   \n",
       "3      3ae08df6bcbfe23586dd431c40bddbb7  3071000   \n",
       "4      d2998d7ced12f83f9b832f33cf6507b6  3833000   \n",
       "...                                 ...      ...   \n",
       "49994  165f86fe8b799a708a20ee4ba125c289  3077000   \n",
       "49995  6e835aea84ae8eb68b8c14878dd43b30  1277000   \n",
       "49996  aca2eb7d00ea1a7b8ebd4e68314663af   486000   \n",
       "49997  aca2eb7d00ea1a7b8ebd4e68314663af   830000   \n",
       "49998  2b0ee2d07306f7c9ac55a43166e9bb4b   215000   \n",
       "\n",
       "                              seller_id  freight_value  \\\n",
       "0      1554a68530182680ad5c8b042c3ab563          28000   \n",
       "1      1554a68530182680ad5c8b042c3ab563          45000   \n",
       "2      a425f92c199eb576938df686728acd20         174000   \n",
       "3      522620dcb18a6b31cd7bdf73665113a9         154000   \n",
       "4      25e6ffe976bd75618accfe16cefcbd0d         147000   \n",
       "...                                 ...            ...   \n",
       "49994  7ddcbb64b5bc1ef36ca8c151f6ec77df         172000   \n",
       "49995  4d6d651bd7684af3fffabd5f08d12e5a         130000   \n",
       "49996  955fee9216a65b617aa5c0531780ce60          14000   \n",
       "49997  955fee9216a65b617aa5c0531780ce60         108000   \n",
       "49998  1900267e848ceeba8fa32d80c1a5f5a8         189000   \n",
       "\n",
       "                            customer_id order_status purchase_date  \\\n",
       "0      08c5351a6aca1c1589a38f244edeee9d      shipped    2016-09-05   \n",
       "1      08c5351a6aca1c1589a38f244edeee9d      shipped    2016-09-05   \n",
       "2      683c54fc24d40ee9f8a6fc179fd9856c     canceled    2016-09-05   \n",
       "3      355077684019f7f60a031656bd7262b8    delivered    2016-10-03   \n",
       "4      b106b360fe2ef8849fbbd056f777b4d5     canceled    2016-10-03   \n",
       "...                                 ...          ...           ...   \n",
       "49994  1642b8087a8ca0c8592becff7e183c98    delivered    2017-12-15   \n",
       "49995  431bbb57d52f3141ab2f33a6a4cf00a6    delivered    2017-12-15   \n",
       "49996  71f8cd490677ee95362201588c0eaff4    delivered    2017-12-15   \n",
       "49997  71f8cd490677ee95362201588c0eaff4    delivered    2017-12-15   \n",
       "49998  60d2d93a97ec1ad751f2ddce9249ba2a    delivered    2017-12-15   \n",
       "\n",
       "          payment_type product_category_name  product_weight_gram  \n",
       "0      virtual account               fashion               1800.0  \n",
       "1      virtual account            automotive               1400.0  \n",
       "2             e-wallet                  toys                700.0  \n",
       "3             e-wallet             utilities                300.0  \n",
       "4             e-wallet               fashion                500.0  \n",
       "...                ...                   ...                  ...  \n",
       "49994         e-wallet            automotive               2425.0  \n",
       "49995       debit card                beauty               2350.0  \n",
       "49996       debit card                gadget               2600.0  \n",
       "49997         e-wallet                gadget               2600.0  \n",
       "49998      credit card                beauty               1450.0  \n",
       "\n",
       "[49999 rows x 12 columns]"
      ]
     },
     "execution_count": 1,
     "metadata": {},
     "output_type": "execute_result"
    }
   ],
   "source": [
    "import pandas as pd\n",
    "\n",
    "order_df= pd.read_csv(\"https://storage.googleapis.com/dqlab-dataset/order.csv\")\n",
    "order_df"
   ]
  },
  {
   "cell_type": "markdown",
   "metadata": {},
   "source": [
    "## Inspeksi struktur data frame\n",
    "Setelah melakukan proses loading dataframe ke dalam Python. Hal selanjutnya sebelum memulai analisis tentunya mengerti struktur dataset tersebut. Sehingga langkah selanjutnya dari pre - analisis biasanya dilakukan untuk:\n",
    "\n",
    "    1. melihat struktur data frame,\n",
    "    2. melihat preview data dari dataframe tersebut, dan\n",
    "    3. membuat summary data sederhana dari dataset.\n",
    "\n",
    "## Melihat struktur kolom dan baris dari data frame\n",
    "\n",
    "Hal pertama dalam mengerti struktur dari dataframe adalah informasi mengenai berapa size dari dataframe yang akan digunakan termasuk berapa jumlah kolom dan jumlah baris data frame tersebut.\n",
    "\n",
    "Dalam kasus ini, aku dapat menggunakan attribute **.shape** pada suatu dataframe. Syntaxnya dinyatakan dengan:\n",
    "\n",
    "    print([nama_dataframe].shape)\n",
    "\n"
   ]
  },
  {
   "cell_type": "code",
   "execution_count": 4,
   "metadata": {},
   "outputs": [
    {
     "name": "stdout",
     "output_type": "stream",
     "text": [
      "(49999, 12)\n"
     ]
    }
   ],
   "source": [
    "print(order_df.shape)"
   ]
  },
  {
   "cell_type": "markdown",
   "metadata": {},
   "source": [
    "## Melihat preview data dari data frame\n",
    "\n",
    "Selanjutnya, untuk mendapatkan gambaran dari konten dataframe tersebut. Kita dapat menggunakan function **head** dan **tail**, dengan syntax:\n",
    "\n",
    "    print([nama_dataframe].head([jumlah_data]))\n",
    "    print([nama_dataframe].tail([jumlah_data]))\n",
    "\n",
    "kalau [jumlah_data] dikosongkan maka otomatis hanya akan menampilkan 5 data\n"
   ]
  },
  {
   "cell_type": "code",
   "execution_count": 5,
   "metadata": {},
   "outputs": [
    {
     "name": "stdout",
     "output_type": "stream",
     "text": [
      "                           order_id  quantity  \\\n",
      "0  2e7a8482f6fb09756ca50c10d7bfc047         2   \n",
      "1  2e7a8482f6fb09756ca50c10d7bfc047         1   \n",
      "2  e5fa5a7210941f7d56d0208e4e071d35         1   \n",
      "3  3b697a20d9e427646d92567910af6d57         1   \n",
      "4  71303d7e93b399f5bcd537d124c0bcfa         1   \n",
      "5  be5bc2f0da14d8071e2d45451ad119d9         1   \n",
      "6  0a0837a5eee9e7a9ce2b1fa831944d27         1   \n",
      "7  1ff217aa612f6cd7c4255c9bfe931c8b         1   \n",
      "8  22613579f7d11cc59c4347526fc3c79e         1   \n",
      "9  356b492aba2d1a7da886e54e0b6212b7         1   \n",
      "\n",
      "                         product_id    price  \\\n",
      "0  f293394c72c9b5fafd7023301fc21fc2  1489000   \n",
      "1  c1488892604e4ba5cff5b4eb4d595400  1756000   \n",
      "2  f3c2d01a84c947b078e32bbef0718962  1707000   \n",
      "3  3ae08df6bcbfe23586dd431c40bddbb7  3071000   \n",
      "4  d2998d7ced12f83f9b832f33cf6507b6  3833000   \n",
      "5  fd7fd78fd3cbc1b0a6370a7909c0a629  1480000   \n",
      "6  583916a5dae918f5e89baec139141c54  4489000   \n",
      "7  33430c5c1027d812b5c62f778e5ee7f7   822000   \n",
      "8  3ff81cd0e0861e991bb0106c03c113ca  3967000   \n",
      "9  eba7488e1c67729f045ab43fac426f2e  4165000   \n",
      "\n",
      "                          seller_id  freight_value  \\\n",
      "0  1554a68530182680ad5c8b042c3ab563          28000   \n",
      "1  1554a68530182680ad5c8b042c3ab563          45000   \n",
      "2  a425f92c199eb576938df686728acd20         174000   \n",
      "3  522620dcb18a6b31cd7bdf73665113a9         154000   \n",
      "4  25e6ffe976bd75618accfe16cefcbd0d         147000   \n",
      "5  f09b760d23495ac9a7e00d29b769007c         152000   \n",
      "6  3481aa57cd91f9f9d3fa1fa12d9a3bf7          16000   \n",
      "7  4b1eaadf791bdbbad8c4a35b65236d52          58000   \n",
      "8  86bb7c4b535e49a541baf3266b1c95b1          95000   \n",
      "9  620c87c171fb2a6dd6e8bb4dec959fc6          98000   \n",
      "\n",
      "                        customer_id order_status purchase_date  \\\n",
      "0  08c5351a6aca1c1589a38f244edeee9d      shipped    2016-09-05   \n",
      "1  08c5351a6aca1c1589a38f244edeee9d      shipped    2016-09-05   \n",
      "2  683c54fc24d40ee9f8a6fc179fd9856c     canceled    2016-09-05   \n",
      "3  355077684019f7f60a031656bd7262b8    delivered    2016-10-03   \n",
      "4  b106b360fe2ef8849fbbd056f777b4d5     canceled    2016-10-03   \n",
      "5  7ec40b22510fdbea1b08921dd39e63d8    delivered    2016-10-03   \n",
      "6  4f3f778022aefa22b9f9e52d2c47edf3    delivered    2016-10-04   \n",
      "7  b3a9bf200375f53cc5c6991919c356fd    delivered    2016-10-04   \n",
      "8  53cc5d344077104b59d4f6836a90eb0b    delivered    2016-10-04   \n",
      "9  68c74d748a55f9d29e6698f4b01a0df7    delivered    2016-10-04   \n",
      "\n",
      "      payment_type product_category_name  product_weight_gram  \n",
      "0  virtual account               fashion               1800.0  \n",
      "1  virtual account            automotive               1400.0  \n",
      "2         e-wallet                  toys                700.0  \n",
      "3         e-wallet             utilities                300.0  \n",
      "4         e-wallet               fashion                500.0  \n",
      "5         e-wallet           electronics                400.0  \n",
      "6       debit card                  toys               3100.0  \n",
      "7      credit card            automotive                200.0  \n",
      "8       debit card                beauty                600.0  \n",
      "9      credit card            automotive                610.0  \n"
     ]
    }
   ],
   "source": [
    "print(order_df.head(10))   # Menampilkan 10 data teratas dari dataframe"
   ]
  },
  {
   "cell_type": "markdown",
   "metadata": {},
   "source": [
    "## Statistik Deskriptif dari Data Frame - Part 1\n",
    "\n",
    "Statistik deskriptif atau summary dalam Python - Pandas, dapat diperoleh dengan menggunakan fungsi **describe()**, yaitu:\n",
    "\n",
    "    print([nama_dataframe].describe())\n",
    "\n",
    " \n",
    "\n",
    "_Function describe_ dapat memberikan informasi mengenai nilai rataan, standar deviasi dan IQR _(interquartile range)_.\n",
    "\n",
    "Ketentuan umum:\n",
    "\n",
    "    - Secara umum function describe() akan secara otomatis mengabaikan kolom category dan hanya memberikan summary statistik untuk kolom berjenis numerik.\n",
    "    - Kita perlu menambahkan argument bernama include = \"all\" untuk mendapatkan summary statistik atau statistik deskriptif dari kolom numerik dan karakter.\n",
    "\n",
    "     print([nama_dataframe].describe(include = 'all'))"
   ]
  },
  {
   "cell_type": "markdown",
   "metadata": {},
   "source": [
    "### Contoh penggunaan describe() di Pandas!\n",
    "\n",
    "Terdapat dataframe Pandas dengan nama **nilai_skor_df** dengan informasi seperti dibawah:\n",
    "\n",
    "        Age         Name            Score\n",
    "    1   20          Lindsay         82\n",
    "    2   18          Robert          75\n",
    "    3   23          Ricko           78\n",
    "    4   21          Nicky           64\n",
    "    5   25          Daniella        98\n",
    "\n",
    "dengan menggunakan fungsi describe pada **nilai_skor_df**\n",
    "\n",
    "    print(nilai_skor_df.describe())\n",
    "\n",
    "\n"
   ]
  },
  {
   "cell_type": "code",
   "execution_count": 5,
   "metadata": {},
   "outputs": [
    {
     "name": "stdout",
     "output_type": "stream",
     "text": [
      "   Age      Name  Score\n",
      "0   20   Lindsay     82\n",
      "1   18    Robert     75\n",
      "2   23     Ricko     78\n",
      "3   21     Nicky     64\n",
      "4   25  Daniella     98\n",
      "\n",
      "             Age     Score\n",
      "count   5.000000   5.00000\n",
      "mean   21.400000  79.40000\n",
      "std     2.701851  12.36123\n",
      "min    18.000000  64.00000\n",
      "25%    20.000000  75.00000\n",
      "50%    21.000000  78.00000\n",
      "75%    23.000000  82.00000\n",
      "max    25.000000  98.00000\n"
     ]
    }
   ],
   "source": [
    "nilai_skor = {\n",
    "    'Age' : [20, 18, 23, 21, 25],\n",
    "    'Name' : ['Lindsay', 'Robert', 'Ricko', 'Nicky', 'Daniella'],\n",
    "    'Score' : [82, 75, 78, 64, 98]\n",
    "}\n",
    "\n",
    "nilai_skor_df = pd.DataFrame(nilai_skor)\n",
    "print(nilai_skor_df)\n",
    "print()\n",
    "print(nilai_skor_df.describe())"
   ]
  },
  {
   "cell_type": "code",
   "execution_count": 6,
   "metadata": {},
   "outputs": [
    {
     "data": {
      "text/html": [
       "<div>\n",
       "<style scoped>\n",
       "    .dataframe tbody tr th:only-of-type {\n",
       "        vertical-align: middle;\n",
       "    }\n",
       "\n",
       "    .dataframe tbody tr th {\n",
       "        vertical-align: top;\n",
       "    }\n",
       "\n",
       "    .dataframe thead th {\n",
       "        text-align: right;\n",
       "    }\n",
       "</style>\n",
       "<table border=\"1\" class=\"dataframe\">\n",
       "  <thead>\n",
       "    <tr style=\"text-align: right;\">\n",
       "      <th></th>\n",
       "      <th>Age</th>\n",
       "      <th>Name</th>\n",
       "      <th>Score</th>\n",
       "    </tr>\n",
       "  </thead>\n",
       "  <tbody>\n",
       "    <tr>\n",
       "      <th>1</th>\n",
       "      <td>18</td>\n",
       "      <td>Robert</td>\n",
       "      <td>75</td>\n",
       "    </tr>\n",
       "    <tr>\n",
       "      <th>3</th>\n",
       "      <td>21</td>\n",
       "      <td>Nicky</td>\n",
       "      <td>64</td>\n",
       "    </tr>\n",
       "  </tbody>\n",
       "</table>\n",
       "</div>"
      ],
      "text/plain": [
       "   Age    Name  Score\n",
       "1   18  Robert     75\n",
       "3   21   Nicky     64"
      ]
     },
     "execution_count": 6,
     "metadata": {},
     "output_type": "execute_result"
    }
   ],
   "source": [
    "nilai_skor_df.loc[[1,3],:]"
   ]
  },
  {
   "cell_type": "markdown",
   "metadata": {},
   "source": [
    "## Statistik Deskriptif dari Data Frame - Part 2\n",
    "\n",
    "Jika ingin mendapatkan summary statistik dari kolom yang tidak bernilai angka, maka aku dapat menambahkan command **include=[\"object\"]** pada syntax **describe()**.\n",
    "\n",
    "    print(nilai_skor_df.describe(include=[\"object\"]))\n",
    "\n"
   ]
  },
  {
   "cell_type": "code",
   "execution_count": 7,
   "metadata": {},
   "outputs": [
    {
     "name": "stdout",
     "output_type": "stream",
     "text": [
      "           Name\n",
      "count         5\n",
      "unique        5\n",
      "top     Lindsay\n",
      "freq          1\n"
     ]
    }
   ],
   "source": [
    "print(nilai_skor_df.describe(include=[\"object\"]))"
   ]
  },
  {
   "cell_type": "markdown",
   "metadata": {},
   "source": [
    "Function describe() dengan **include=\"all\"** akan memberikan summary statistik dari semua kolom. Contoh penggunaannya:\n",
    "\n",
    "    print(nilai_skor_df.describe(include=[\"all\"]))"
   ]
  },
  {
   "cell_type": "code",
   "execution_count": 8,
   "metadata": {},
   "outputs": [
    {
     "name": "stdout",
     "output_type": "stream",
     "text": [
      "              Age     Name     Score\n",
      "count    5.000000        5   5.00000\n",
      "unique        NaN        5       NaN\n",
      "top           NaN  Lindsay       NaN\n",
      "freq          NaN        1       NaN\n",
      "mean    21.400000      NaN  79.40000\n",
      "std      2.701851      NaN  12.36123\n",
      "min     18.000000      NaN  64.00000\n",
      "25%     20.000000      NaN  75.00000\n",
      "50%     21.000000      NaN  78.00000\n",
      "75%     23.000000      NaN  82.00000\n",
      "max     25.000000      NaN  98.00000\n"
     ]
    }
   ],
   "source": [
    "print(nilai_skor_df.describe(include='all'))"
   ]
  },
  {
   "cell_type": "markdown",
   "metadata": {},
   "source": [
    "## Statistik Deskriptif dari Data Frame - Part 3\n",
    "\n",
    "Selanjutnya, untuk mencari rataan dari suatu data dari dataframe. Aku dapat menggunakan syntax **mean, median, dan mode** dari Pandas.\n",
    "\n",
    "    print([nama_dataframe].loc[:,'nama_kolom'].mean())\n",
    "    print([nama_dataframe].loc[:,'nama_kolom'].median())\n",
    "    print([nama_dataframe].loc[:,'nama_kolom'].mode())\n",
    "\n",
    "\n"
   ]
  },
  {
   "cell_type": "code",
   "execution_count": 9,
   "metadata": {},
   "outputs": [
    {
     "name": "stdout",
     "output_type": "stream",
     "text": [
      "21.4\n",
      "78.0\n"
     ]
    }
   ],
   "source": [
    "# Contoh Penggunaan \n",
    "\n",
    "print(nilai_skor_df.loc[:,'Age'].mean())\n",
    "print(nilai_skor_df.loc[:,'Score'].median())\n"
   ]
  },
  {
   "cell_type": "code",
   "execution_count": 10,
   "metadata": {},
   "outputs": [
    {
     "name": "stdout",
     "output_type": "stream",
     "text": [
      "           quantity         price  freight_value  product_weight_gram\n",
      "count  49999.000000  4.999900e+04   49999.000000         49980.000000\n",
      "mean       1.197484  2.607784e+06  104521.390428          2201.830892\n",
      "std        0.722262  1.388312e+06   55179.844962          3929.896875\n",
      "min        1.000000  2.000000e+05    9000.000000            50.000000\n",
      "25%        1.000000  1.410500e+06   57000.000000           300.000000\n",
      "50%        1.000000  2.610000e+06  104000.000000           800.000000\n",
      "75%        1.000000  3.810000e+06  152000.000000          1850.000000\n",
      "max       21.000000  5.000000e+06  200000.000000         40425.000000\n",
      "\n",
      "2610000.0\n"
     ]
    }
   ],
   "source": [
    "# Quick summary  dari segi kuantitas, harga, freight value, dan weight\n",
    "print(order_df.describe())\n",
    "print()\n",
    "# Median dari total pembelian konsumen per transaksi kolom price\n",
    "print(order_df.loc[:, \"price\"].median())"
   ]
  },
  {
   "cell_type": "markdown",
   "metadata": {},
   "source": [
    "## Mengenal dan Membuat Distribusi Data dengan Histogram\n",
    " \n",
    "Aku coba lanjut untuk menyimak pembahasan lanjutan mengenai Exploratory Data Analysis terlebih dulu.\n",
    "\n",
    "Histogram merupakan salah satu cara untuk mengidentifikasi sebaran distribusi dari data. Histogram adalah grafik yang berisi ringkasan dari sebaran (dispersi atau variasi) suatu data. Pada histogram, tidak ada jarak antar batang/bar dari grafik. Hal ini dikarenakan bahwa titik data kelas bisa muncul dimana saja di daerah cakupan grafik. Sedangkan ketinggian bar sesuai dengan frekuensi atau frekuensi relatif jumlah data di kelas. Semakin tinggi bar, semakin tinggi frekuensi data. Semakin rendah bar, semakin rendah frekuensi data.\n",
    "\n",
    "**Syntax umum:**\n",
    "\n",
    "    nama_dataframe[[\"nama_kolom\"]].hist(bins=jumlah_bin,\n",
    "                                        by = nama_kolom,\n",
    "                                        alpha = nilai_alpha,\n",
    "                                        figsize = tuple_ukuran_gambar\n",
    "                                        )\n",
    "\n",
    "Beberapa atribut penting dalam histogram pandas:\n",
    "\n",
    "    bins = jumlah_bins dalam histogram yang akan digunakan. Jika tidak didefinisikan jumlah_bins, maka function akan secara default menentukan jumlah_bins sebanyak 10.\n",
    "    by = nama kolom di DataFrame untuk di group by. (valuenya berupa nama column di dataframe tersebut).\n",
    "    alpha = nilai_alpha untuk menentukan opacity dari plot di histogram. (value berupa range 0.0 - 1.0, dimana semakin kecil akan semakin kecil opacity nya)\n",
    "    figsize = tuple_ukuran_gambar yang digunakan untuk menentukan ukuran dari plot histogram. Contoh: figsize=(10,12)\n"
   ]
  },
  {
   "cell_type": "markdown",
   "metadata": {},
   "source": [
    "### Tugas Praktek\n",
    "\n",
    "buatkan price distribution. Bikin saja dalam bentuk histogram price, dengan jumlah bins=10"
   ]
  },
  {
   "cell_type": "code",
   "execution_count": 11,
   "metadata": {},
   "outputs": [
    {
     "data": {
      "image/png": "[encoded data removed]",
      "text/plain": [
       "<Figure size 400x500 with 1 Axes>"
      ]
     },
     "metadata": {},
     "output_type": "display_data"
    }
   ],
   "source": [
    "import matplotlib.pyplot as plt\n",
    "\n",
    "# plot histogram kolom: price\n",
    "order_df[[\"price\"]].hist(figsize=(4, 5), bins=10, xlabelsize=8, ylabelsize=8)\n",
    "plt.show()  # Untuk menampilkan histogram plot"
   ]
  },
  {
   "cell_type": "markdown",
   "metadata": {},
   "source": [
    "## Standar Deviasi dan Varians pada Pandas\n",
    "\n",
    "**Varians** dan **standar deviasi** juga merupakan suatu ukuran dispersi atau variasi. Standar deviasi merupakan ukuran dispersi yang paling banyak dipakai. Hal ini mungkin karena standar deviasi mempunyai satuan ukuran yang sama dengan satuan ukuran data asalnya. Sedangkan varians memiliki satuan kuadrat dari data asalnya (misalnya cm^2).\n",
    "\n",
    "Syntax dari standar deviasi dan varians pada Pandas:\n",
    "\n",
    "    print([nama_dataframe].loc[:,\"nama_kolom\"].std())\n",
    "    print([nama_dataframe].loc[:,\"nama_kolom\"].var())\n",
    "\n",
    "Contoh penggunaan pada dataframe **nilai_skor_df**:"
   ]
  },
  {
   "cell_type": "code",
   "execution_count": 12,
   "metadata": {},
   "outputs": [
    {
     "name": "stdout",
     "output_type": "stream",
     "text": [
      "2.701851217221259\n",
      "152.8\n"
     ]
    }
   ],
   "source": [
    "print(nilai_skor_df.loc[:,'Age'].std())\n",
    "print(nilai_skor_df.loc[:,'Score'].var())\n"
   ]
  },
  {
   "cell_type": "markdown",
   "metadata": {},
   "source": [
    "#### Tugas Praktek\n",
    "Tolong tampilkan data persebaran dari product_weight_gram penjualan cabang tadi ya"
   ]
  },
  {
   "cell_type": "code",
   "execution_count": 13,
   "metadata": {},
   "outputs": [
    {
     "name": "stdout",
     "output_type": "stream",
     "text": [
      "3929.896875372737\n",
      "15444089.451064402\n"
     ]
    }
   ],
   "source": [
    "# Standar variasi kolom product_weight_gram\n",
    "print(order_df.loc[:, \"product_weight_gram\"].std())\n",
    "# Varians kolom product_weight_gram\n",
    "print(order_df.loc[:, \"product_weight_gram\"].var())"
   ]
  },
  {
   "cell_type": "markdown",
   "metadata": {},
   "source": [
    "### Menemukan Outliers Menggunakan Pandas\n",
    "\n",
    "Sebelum menuju ke step by step dalam menemukan outliers, sedikit intermezo dahulu mengenai definisi dari outliers.\n",
    "\n",
    "Outliers merupakan data observasi yang muncul dengan nilai-nilai ekstrim. Yang dimaksud dengan nilai-nilai ekstrim dalam observasi adalah nilai yang jauh atau beda sama sekali dengan sebagian besar nilai lain dalam kelompoknya.\n",
    "\n",
    "Pada umumnya, outliers dapat ditentukan dengan metric **IQR (interquartile range)**.\n",
    "\n",
    "Rumus dasar dari IQR: Q3 - Q1. Dan data suatu observasi dapat dikatakan outliers jika memenuhi kedua syarat dibawah ini:\n",
    "\n",
    "    data < Q1 - 1.5 * IQR\n",
    "    data > Q3 + 1.5 * IQR\n",
    " \n",
    "\n",
    "Syntax di Python:\n",
    "\n",
    "    Q1 = nama_dataframe.quantile(0.25)\n",
    "    Q3 = nama_dataframe.quantile(0.75)\n",
    "    IQR = Q3 - Q1\n",
    "    print(IQR)\n",
    "\n",
    "**Contoh case**: \n",
    "mengidentifikasi IQR dari dataframe nilai_skor_df\n"
   ]
  },
  {
   "cell_type": "code",
   "execution_count": 14,
   "metadata": {},
   "outputs": [
    {
     "name": "stdout",
     "output_type": "stream",
     "text": [
      "Score    7.0\n",
      "dtype: float64\n"
     ]
    }
   ],
   "source": [
    "Q1 = nilai_skor_df[['Score']].quantile(0.25)\n",
    "Q3 = nilai_skor_df[['Score']].quantile(0.75)\n",
    "IQR = Q3 - Q1\n",
    "print(IQR)\n",
    "\n",
    "# Karena saat ini memiliki skor IQR, saatnya untuk menentukan Outliers. \n",
    "# Kode di bawah ini akan memberikan output dengan beberapa nilai True atau False. \n",
    "# Titik data di mana terdapat False yang berarti nilai-nilai ini valid sedangkan True menunjukkan adanya outliers.\n",
    "\n"
   ]
  },
  {
   "cell_type": "code",
   "execution_count": 15,
   "metadata": {},
   "outputs": [
    {
     "name": "stdout",
     "output_type": "stream",
     "text": [
      "     Age   Name  Score\n",
      "0  False  False  False\n",
      "1  False  False  False\n",
      "2  False  False  False\n",
      "3  False  False   True\n",
      "4  False  False   True\n"
     ]
    },
    {
     "name": "stderr",
     "output_type": "stream",
     "text": [
      "/var/folders/n0/1ktjrh812fb6t_ykc06y1ddc0000gn/T/ipykernel_98871/3085433855.py:1: FutureWarning: Automatic reindexing on DataFrame vs Series comparisons is deprecated and will raise ValueError in a future version. Do `left, right = left.align(right, axis=1, copy=False)` before e.g. `left == right`\n",
      "  print((nilai_skor_df < (Q1 - 1.5*IQR)) | (nilai_skor_df > (Q3 + 1.5*IQR)))\n",
      "/var/folders/n0/1ktjrh812fb6t_ykc06y1ddc0000gn/T/ipykernel_98871/3085433855.py:1: FutureWarning: Automatic reindexing on DataFrame vs Series comparisons is deprecated and will raise ValueError in a future version. Do `left, right = left.align(right, axis=1, copy=False)` before e.g. `left == right`\n",
      "  print((nilai_skor_df < (Q1 - 1.5*IQR)) | (nilai_skor_df > (Q3 + 1.5*IQR)))\n"
     ]
    }
   ],
   "source": [
    "print((nilai_skor_df < (Q1 - 1.5*IQR)) | (nilai_skor_df > (Q3 + 1.5*IQR)))"
   ]
  },
  {
   "cell_type": "markdown",
   "metadata": {},
   "source": [
    "#### Tugas Praktek\n",
    "Setelah mendapatkan persebaran dari dataset **order_df** (\"https://storage.googleapis.com/dqlab-dataset/order.csv\").\n",
    "\n",
    "Sepertinya aku perlu  menemukan batas **IQR** agar bisa menentukan outliers bagi kolom **product_weight_gram**."
   ]
  },
  {
   "cell_type": "code",
   "execution_count": 16,
   "metadata": {},
   "outputs": [
    {
     "name": "stdout",
     "output_type": "stream",
     "text": [
      "product_weight_gram    1550.0\n",
      "dtype: float64\n"
     ]
    }
   ],
   "source": [
    "# Hitung quartile 1\n",
    "Q1 = order_df[[\"product_weight_gram\"]].quantile(0.25)\n",
    "# Hitung quartile 3\n",
    "Q3 = order_df[[\"product_weight_gram\"]].quantile(0.75)\n",
    "# Hitung inter quartile range dan cetak ke console\n",
    "IQR = Q3-Q1\n",
    "print(IQR)"
   ]
  },
  {
   "cell_type": "markdown",
   "metadata": {},
   "source": [
    "# Rename Kolom Data Frame\n",
    "Pada bagian ini, aku belajar cara mengganti nama kolom dataframe menggunakan Pandas. Mengganti nama kolom pada Pandas dapat dilakukan dengan 2 cara:\n",
    "\n",
    "    1. Menggunakan nama kolom.\n",
    "    2. Menggunakan indeks kolom.\n",
    "\n",
    "### 1. Rename menggunakan nama kolom\n",
    "\n",
    "Syntax:\n",
    "\n",
    "    nama_dataframe.rename(columns = { 'column_nama_before' : 'column_name_after'}, inplace = True)\n",
    "\n",
    "### 2. Rename menggunakan indeks kolom\n",
    "\n",
    "Syntax:\n",
    "\n",
    "    nama_dataframe.columns.values[no_of_column] = \"column_name_after\"\n",
    "\n"
   ]
  },
  {
   "cell_type": "code",
   "execution_count": 43,
   "metadata": {},
   "outputs": [
    {
     "name": "stdout",
     "output_type": "stream",
     "text": [
      "   Age      Name  Score\n",
      "0   20   Lindsay     82\n",
      "1   18    Robert     75\n",
      "2   23     Ricko     78\n",
      "3   21     Nicky     64\n",
      "4   25  Daniella     98\n",
      "\n"
     ]
    }
   ],
   "source": [
    "nilai_skor_df.rename(columns={'Umur' : 'Age'}, inplace= True)\n",
    "print(nilai_skor_df)\n",
    "print()\n",
    "# nilai_skor_df.columns.values[0] = \"Umur Anak\"\n",
    "# print(nilai_skor_df)"
   ]
  },
  {
   "cell_type": "code",
   "execution_count": 29,
   "metadata": {},
   "outputs": [
    {
     "data": {
      "text/html": [
       "<div>\n",
       "<style scoped>\n",
       "    .dataframe tbody tr th:only-of-type {\n",
       "        vertical-align: middle;\n",
       "    }\n",
       "\n",
       "    .dataframe tbody tr th {\n",
       "        vertical-align: top;\n",
       "    }\n",
       "\n",
       "    .dataframe thead th {\n",
       "        text-align: right;\n",
       "    }\n",
       "</style>\n",
       "<table border=\"1\" class=\"dataframe\">\n",
       "  <thead>\n",
       "    <tr style=\"text-align: right;\">\n",
       "      <th></th>\n",
       "      <th>Age</th>\n",
       "      <th>Name</th>\n",
       "      <th>Score</th>\n",
       "    </tr>\n",
       "  </thead>\n",
       "  <tbody>\n",
       "    <tr>\n",
       "      <th>0</th>\n",
       "      <td>20</td>\n",
       "      <td>Lindsay</td>\n",
       "      <td>82</td>\n",
       "    </tr>\n",
       "    <tr>\n",
       "      <th>1</th>\n",
       "      <td>18</td>\n",
       "      <td>Robert</td>\n",
       "      <td>75</td>\n",
       "    </tr>\n",
       "    <tr>\n",
       "      <th>2</th>\n",
       "      <td>23</td>\n",
       "      <td>Ricko</td>\n",
       "      <td>78</td>\n",
       "    </tr>\n",
       "    <tr>\n",
       "      <th>3</th>\n",
       "      <td>21</td>\n",
       "      <td>Nicky</td>\n",
       "      <td>64</td>\n",
       "    </tr>\n",
       "    <tr>\n",
       "      <th>4</th>\n",
       "      <td>25</td>\n",
       "      <td>Daniella</td>\n",
       "      <td>98</td>\n",
       "    </tr>\n",
       "  </tbody>\n",
       "</table>\n",
       "</div>"
      ],
      "text/plain": [
       "   Age      Name  Score\n",
       "0   20   Lindsay     82\n",
       "1   18    Robert     75\n",
       "2   23     Ricko     78\n",
       "3   21     Nicky     64\n",
       "4   25  Daniella     98"
      ]
     },
     "execution_count": 29,
     "metadata": {},
     "output_type": "execute_result"
    }
   ],
   "source": [
    "nilai_skor_df.columns.values[0] = \"Age\"\n",
    "nilai_skor_df"
   ]
  },
  {
   "cell_type": "markdown",
   "metadata": {},
   "source": [
    "### Tugas Praktek\n",
    "Cobalah untuk mengubah kolom _freight_value_ menjadi _shipping_cost_ dalam data frame **order_df**, dengan menggunakan fungsi rename()."
   ]
  },
  {
   "cell_type": "code",
   "execution_count": 20,
   "metadata": {},
   "outputs": [
    {
     "name": "stdout",
     "output_type": "stream",
     "text": [
      "Index(['order_id', 'quantity', 'product_id', 'price', 'seller_id',\n",
      "       'shipping_cost', 'customer_id', 'order_status', 'purchase_date',\n",
      "       'payment_type', 'product_category_name', 'product_weight_gram'],\n",
      "      dtype='object')\n"
     ]
    }
   ],
   "source": [
    "order_df.rename(columns={\"freight_value\": \"shipping_cost\"}, inplace=True)\n",
    "print(order_df.columns)"
   ]
  },
  {
   "cell_type": "markdown",
   "metadata": {},
   "source": [
    "## .groupby menggunakan Pandas\n",
    "\n",
    "Kegunaan .**groupby** adalah mencari summary dari data frame dengan menggunakan **aggregate** dari kolom tertentu.\n",
    "\n",
    "Contoh penggunaan:\n",
    "\n",
    "Diberikan dataset bernama df seperti pada gambar dibawah!\n",
    "\n",
    "            Name        Exam        Subject         Score\n",
    "        0   Alisa       Semester 1  Math            62\n",
    "        1   Bobby       Semester 1  Math            47\n",
    "        2   Catherine   Semester 1  Math            55\n",
    "        3   Alisa       Semester 1  Science         74\n",
    "        4   Bobby       Semester 1  Science         31\n",
    "        5   Catherine   Semester 1  Science         77\n",
    "        6   Alisa       Sem 2       Math            85\n",
    "        7   Bobby       Sem 2       Math            63\n",
    "        8   Catherine   Sem 2       Math            42\n",
    "        9   Alisa       Sem 2       Science         67\n",
    "        10  Bobby       Sem 2       Science         89\n",
    "        11  Catherine   Sem 2       Science         81"
   ]
  },
  {
   "attachments": {
    "1.jpg": {
     "image/jpeg": "[encoded data removed]"
    }
   },
   "cell_type": "markdown",
   "metadata": {},
   "source": [
    "![1.jpg](attachment:1.jpg)"
   ]
  },
  {
   "cell_type": "markdown",
   "metadata": {},
   "source": [
    "Penggunaan groupby:\n",
    "\n",
    "    df[\"Score\"].groupby([df[\"Name\"]]).mean()\n",
    "\n",
    "Hasil:"
   ]
  },
  {
   "cell_type": "code",
   "execution_count": 24,
   "metadata": {},
   "outputs": [
    {
     "data": {
      "text/html": [
       "<div>\n",
       "<style scoped>\n",
       "    .dataframe tbody tr th:only-of-type {\n",
       "        vertical-align: middle;\n",
       "    }\n",
       "\n",
       "    .dataframe tbody tr th {\n",
       "        vertical-align: top;\n",
       "    }\n",
       "\n",
       "    .dataframe thead th {\n",
       "        text-align: right;\n",
       "    }\n",
       "</style>\n",
       "<table border=\"1\" class=\"dataframe\">\n",
       "  <thead>\n",
       "    <tr style=\"text-align: right;\">\n",
       "      <th></th>\n",
       "      <th>Name</th>\n",
       "      <th>Exam</th>\n",
       "      <th>Subject</th>\n",
       "      <th>Score</th>\n",
       "    </tr>\n",
       "  </thead>\n",
       "  <tbody>\n",
       "    <tr>\n",
       "      <th>0</th>\n",
       "      <td>Alisa</td>\n",
       "      <td>Semester 1</td>\n",
       "      <td>Math</td>\n",
       "      <td>62</td>\n",
       "    </tr>\n",
       "    <tr>\n",
       "      <th>1</th>\n",
       "      <td>Bobby</td>\n",
       "      <td>Semester 1</td>\n",
       "      <td>Math</td>\n",
       "      <td>47</td>\n",
       "    </tr>\n",
       "    <tr>\n",
       "      <th>2</th>\n",
       "      <td>Catherine</td>\n",
       "      <td>Semester 1</td>\n",
       "      <td>Math</td>\n",
       "      <td>55</td>\n",
       "    </tr>\n",
       "    <tr>\n",
       "      <th>3</th>\n",
       "      <td>Alisa</td>\n",
       "      <td>Semester 1</td>\n",
       "      <td>Science</td>\n",
       "      <td>74</td>\n",
       "    </tr>\n",
       "    <tr>\n",
       "      <th>4</th>\n",
       "      <td>Bobby</td>\n",
       "      <td>Semester 1</td>\n",
       "      <td>Science</td>\n",
       "      <td>31</td>\n",
       "    </tr>\n",
       "    <tr>\n",
       "      <th>5</th>\n",
       "      <td>Catherine</td>\n",
       "      <td>Semester 1</td>\n",
       "      <td>Science</td>\n",
       "      <td>77</td>\n",
       "    </tr>\n",
       "    <tr>\n",
       "      <th>6</th>\n",
       "      <td>Alisa</td>\n",
       "      <td>Sem 2</td>\n",
       "      <td>Math</td>\n",
       "      <td>85</td>\n",
       "    </tr>\n",
       "    <tr>\n",
       "      <th>7</th>\n",
       "      <td>Bobby</td>\n",
       "      <td>Sem 2</td>\n",
       "      <td>Math</td>\n",
       "      <td>63</td>\n",
       "    </tr>\n",
       "    <tr>\n",
       "      <th>8</th>\n",
       "      <td>Catherine</td>\n",
       "      <td>Sem 2</td>\n",
       "      <td>Math</td>\n",
       "      <td>42</td>\n",
       "    </tr>\n",
       "    <tr>\n",
       "      <th>9</th>\n",
       "      <td>Alisa</td>\n",
       "      <td>Sem 2</td>\n",
       "      <td>Science</td>\n",
       "      <td>67</td>\n",
       "    </tr>\n",
       "    <tr>\n",
       "      <th>10</th>\n",
       "      <td>Bobby</td>\n",
       "      <td>Sem 2</td>\n",
       "      <td>Science</td>\n",
       "      <td>89</td>\n",
       "    </tr>\n",
       "    <tr>\n",
       "      <th>11</th>\n",
       "      <td>Catherine</td>\n",
       "      <td>Sem 2</td>\n",
       "      <td>Science</td>\n",
       "      <td>81</td>\n",
       "    </tr>\n",
       "  </tbody>\n",
       "</table>\n",
       "</div>"
      ],
      "text/plain": [
       "         Name        Exam  Subject  Score\n",
       "0       Alisa  Semester 1     Math     62\n",
       "1       Bobby  Semester 1     Math     47\n",
       "2   Catherine  Semester 1     Math     55\n",
       "3       Alisa  Semester 1  Science     74\n",
       "4       Bobby  Semester 1  Science     31\n",
       "5   Catherine  Semester 1  Science     77\n",
       "6       Alisa       Sem 2     Math     85\n",
       "7       Bobby       Sem 2     Math     63\n",
       "8   Catherine       Sem 2     Math     42\n",
       "9       Alisa       Sem 2  Science     67\n",
       "10      Bobby       Sem 2  Science     89\n",
       "11  Catherine       Sem 2  Science     81"
      ]
     },
     "execution_count": 24,
     "metadata": {},
     "output_type": "execute_result"
    }
   ],
   "source": [
    "data = {\n",
    "    'Name' : ['Alisa', 'Bobby', 'Catherine','Alisa', 'Bobby', 'Catherine','Alisa', 'Bobby', 'Catherine','Alisa', 'Bobby', 'Catherine'],\n",
    "    'Exam' : ['Semester 1','Semester 1','Semester 1','Semester 1','Semester 1','Semester 1','Sem 2','Sem 2','Sem 2','Sem 2','Sem 2','Sem 2'],\n",
    "    'Subject' : ['Math','Math','Math','Science','Science','Science','Math','Math','Math','Science','Science','Science'],\n",
    "    'Score' : [62, 47, 55, 74, 31, 77, 85, 63, 42, 67, 89, 81]\n",
    "}\n",
    "\n",
    "df = pd.DataFrame(data)\n",
    "df"
   ]
  },
  {
   "cell_type": "code",
   "execution_count": 25,
   "metadata": {},
   "outputs": [
    {
     "data": {
      "text/plain": [
       "Name\n",
       "Alisa        72.00\n",
       "Bobby        57.50\n",
       "Catherine    63.75\n",
       "Name: Score, dtype: float64"
      ]
     },
     "execution_count": 25,
     "metadata": {},
     "output_type": "execute_result"
    }
   ],
   "source": [
    "df[\"Score\"].groupby([df[\"Name\"]]).mean()"
   ]
  },
  {
   "cell_type": "markdown",
   "metadata": {},
   "source": [
    "Penjelasan: \n",
    "\n",
    "komputasi diatas menggunakan kolom ‘Name’ sebagai aggregate dan kemudian menggunakan menghitung mean dari kolom ‘Score’ pada tiap - tiap aggregate tersebut."
   ]
  },
  {
   "cell_type": "code",
   "execution_count": 26,
   "metadata": {},
   "outputs": [
    {
     "data": {
      "text/plain": [
       "Name       Exam      \n",
       "Alisa      Sem 2         152\n",
       "           Semester 1    136\n",
       "Bobby      Sem 2         152\n",
       "           Semester 1     78\n",
       "Catherine  Sem 2         123\n",
       "           Semester 1    132\n",
       "Name: Score, dtype: int64"
      ]
     },
     "execution_count": 26,
     "metadata": {},
     "output_type": "execute_result"
    }
   ],
   "source": [
    "df[\"Score\"].groupby([df[\"Name\"], df[\"Exam\"]]).sum()"
   ]
  },
  {
   "cell_type": "markdown",
   "metadata": {},
   "source": [
    "Penjelasan: \n",
    "\n",
    "komputasi diatas menggunakan kolom ‘Name’ dan ‘Exam’ sebagai aggregate dan kemudian menggunakan menghitung sum dari kolom ‘Score’ pada tiap - tiap aggregate tersebut."
   ]
  },
  {
   "cell_type": "markdown",
   "metadata": {},
   "source": [
    "### Tugas Praktek\n",
    "\n",
    "Cobalah untuk mencari rata rata dari **price** per **payment_type** dari dataset **order_df** "
   ]
  },
  {
   "cell_type": "code",
   "execution_count": 27,
   "metadata": {},
   "outputs": [
    {
     "name": "stdout",
     "output_type": "stream",
     "text": [
      "payment_type\n",
      "credit card        2.600706e+06\n",
      "debit card         2.611974e+06\n",
      "e-wallet           2.598562e+06\n",
      "virtual account    2.619786e+06\n",
      "Name: price, dtype: float64\n"
     ]
    }
   ],
   "source": [
    "# Hitung rata rata dari price per payment_type\n",
    "rata_rata = order_df[\"price\"].groupby(order_df[\"payment_type\"]).mean()\n",
    "print(rata_rata)"
   ]
  },
  {
   "cell_type": "markdown",
   "metadata": {},
   "source": [
    "## Sorting Menggunakan Pandas\n",
    "\n",
    "Sorting adalah sebuah metode mengurutkan data berdasarkan syarat kolom tertentu dan biasanya digunakan untuk melihat nilai maksimum dan minimum dari dataset. Library Pandas sendiri menyediakan fungsi sorting sebagai fundamental dari exploratory data analysis.\n",
    "\n",
    "Syntax untuk operasi sorting pada Pandas:\n",
    "    \n",
    "    nama_dataframe.sort_values(by = \"nama_kolom\")\n",
    "    \n",
    "**Contoh**:\n",
    "\n",
    "Sorting terhadap dataset **nilai_skor_df** berdasarkan age!\n",
    "\n"
   ]
  },
  {
   "cell_type": "code",
   "execution_count": 44,
   "metadata": {},
   "outputs": [
    {
     "data": {
      "text/html": [
       "<div>\n",
       "<style scoped>\n",
       "    .dataframe tbody tr th:only-of-type {\n",
       "        vertical-align: middle;\n",
       "    }\n",
       "\n",
       "    .dataframe tbody tr th {\n",
       "        vertical-align: top;\n",
       "    }\n",
       "\n",
       "    .dataframe thead th {\n",
       "        text-align: right;\n",
       "    }\n",
       "</style>\n",
       "<table border=\"1\" class=\"dataframe\">\n",
       "  <thead>\n",
       "    <tr style=\"text-align: right;\">\n",
       "      <th></th>\n",
       "      <th>Age</th>\n",
       "      <th>Name</th>\n",
       "      <th>Score</th>\n",
       "    </tr>\n",
       "  </thead>\n",
       "  <tbody>\n",
       "    <tr>\n",
       "      <th>1</th>\n",
       "      <td>18</td>\n",
       "      <td>Robert</td>\n",
       "      <td>75</td>\n",
       "    </tr>\n",
       "    <tr>\n",
       "      <th>0</th>\n",
       "      <td>20</td>\n",
       "      <td>Lindsay</td>\n",
       "      <td>82</td>\n",
       "    </tr>\n",
       "    <tr>\n",
       "      <th>3</th>\n",
       "      <td>21</td>\n",
       "      <td>Nicky</td>\n",
       "      <td>64</td>\n",
       "    </tr>\n",
       "    <tr>\n",
       "      <th>2</th>\n",
       "      <td>23</td>\n",
       "      <td>Ricko</td>\n",
       "      <td>78</td>\n",
       "    </tr>\n",
       "    <tr>\n",
       "      <th>4</th>\n",
       "      <td>25</td>\n",
       "      <td>Daniella</td>\n",
       "      <td>98</td>\n",
       "    </tr>\n",
       "  </tbody>\n",
       "</table>\n",
       "</div>"
      ],
      "text/plain": [
       "   Age      Name  Score\n",
       "1   18    Robert     75\n",
       "0   20   Lindsay     82\n",
       "3   21     Nicky     64\n",
       "2   23     Ricko     78\n",
       "4   25  Daniella     98"
      ]
     },
     "execution_count": 44,
     "metadata": {},
     "output_type": "execute_result"
    }
   ],
   "source": [
    "nilai_skor_df.sort_values(by = \"Age\")"
   ]
  },
  {
   "cell_type": "markdown",
   "metadata": {},
   "source": [
    "Function tersebut akan secara default mengurutkan secara **ascending** (dimulai dari nilai terkecil), untuk dapat mengurutkan secara **descending** (nilai terbesar lebih dahulu), dapat menggunakan properti tambahan:\n",
    "    \n",
    "    nama_dataframe.sort_values(by = \"nama_kolom\", ascending = False)\n",
    "    \n",
    "Contoh:\n",
    "\n",
    "Sorting terhadap dataset nilai_skor_df berdasarkan age dimulai dari umur tertua!\n"
   ]
  },
  {
   "cell_type": "code",
   "execution_count": 45,
   "metadata": {},
   "outputs": [
    {
     "data": {
      "text/html": [
       "<div>\n",
       "<style scoped>\n",
       "    .dataframe tbody tr th:only-of-type {\n",
       "        vertical-align: middle;\n",
       "    }\n",
       "\n",
       "    .dataframe tbody tr th {\n",
       "        vertical-align: top;\n",
       "    }\n",
       "\n",
       "    .dataframe thead th {\n",
       "        text-align: right;\n",
       "    }\n",
       "</style>\n",
       "<table border=\"1\" class=\"dataframe\">\n",
       "  <thead>\n",
       "    <tr style=\"text-align: right;\">\n",
       "      <th></th>\n",
       "      <th>Age</th>\n",
       "      <th>Name</th>\n",
       "      <th>Score</th>\n",
       "    </tr>\n",
       "  </thead>\n",
       "  <tbody>\n",
       "    <tr>\n",
       "      <th>4</th>\n",
       "      <td>25</td>\n",
       "      <td>Daniella</td>\n",
       "      <td>98</td>\n",
       "    </tr>\n",
       "    <tr>\n",
       "      <th>2</th>\n",
       "      <td>23</td>\n",
       "      <td>Ricko</td>\n",
       "      <td>78</td>\n",
       "    </tr>\n",
       "    <tr>\n",
       "      <th>3</th>\n",
       "      <td>21</td>\n",
       "      <td>Nicky</td>\n",
       "      <td>64</td>\n",
       "    </tr>\n",
       "    <tr>\n",
       "      <th>0</th>\n",
       "      <td>20</td>\n",
       "      <td>Lindsay</td>\n",
       "      <td>82</td>\n",
       "    </tr>\n",
       "    <tr>\n",
       "      <th>1</th>\n",
       "      <td>18</td>\n",
       "      <td>Robert</td>\n",
       "      <td>75</td>\n",
       "    </tr>\n",
       "  </tbody>\n",
       "</table>\n",
       "</div>"
      ],
      "text/plain": [
       "   Age      Name  Score\n",
       "4   25  Daniella     98\n",
       "2   23     Ricko     78\n",
       "3   21     Nicky     64\n",
       "0   20   Lindsay     82\n",
       "1   18    Robert     75"
      ]
     },
     "execution_count": 45,
     "metadata": {},
     "output_type": "execute_result"
    }
   ],
   "source": [
    "nilai_skor_df.sort_values(by = \"Age\", ascending=False)"
   ]
  },
  {
   "cell_type": "markdown",
   "metadata": {},
   "source": [
    "Fungsi sorting di Pandas juga dapat dilakukan menggunakan lebih dari satu kolom sebagai syarat. \n",
    "\n",
    "Contohnya pada skenario di bawah, akan mencoba mengaplikasikan fungsi sorting menggunakan **Age dan Score** sekaligus:\n",
    "\n",
    "    nama_dataframe.sort_values(by = [\"nama_kolom_1\", \"nama_kolom_2\"], ascending = [True, False])\n",
    "    \n",
    "Contoh :\n"
   ]
  },
  {
   "cell_type": "code",
   "execution_count": 47,
   "metadata": {},
   "outputs": [
    {
     "data": {
      "text/html": [
       "<div>\n",
       "<style scoped>\n",
       "    .dataframe tbody tr th:only-of-type {\n",
       "        vertical-align: middle;\n",
       "    }\n",
       "\n",
       "    .dataframe tbody tr th {\n",
       "        vertical-align: top;\n",
       "    }\n",
       "\n",
       "    .dataframe thead th {\n",
       "        text-align: right;\n",
       "    }\n",
       "</style>\n",
       "<table border=\"1\" class=\"dataframe\">\n",
       "  <thead>\n",
       "    <tr style=\"text-align: right;\">\n",
       "      <th></th>\n",
       "      <th>Age</th>\n",
       "      <th>Name</th>\n",
       "      <th>Score</th>\n",
       "    </tr>\n",
       "  </thead>\n",
       "  <tbody>\n",
       "    <tr>\n",
       "      <th>1</th>\n",
       "      <td>18</td>\n",
       "      <td>Robert</td>\n",
       "      <td>75</td>\n",
       "    </tr>\n",
       "    <tr>\n",
       "      <th>0</th>\n",
       "      <td>20</td>\n",
       "      <td>Lindsay</td>\n",
       "      <td>82</td>\n",
       "    </tr>\n",
       "    <tr>\n",
       "      <th>3</th>\n",
       "      <td>21</td>\n",
       "      <td>Nicky</td>\n",
       "      <td>64</td>\n",
       "    </tr>\n",
       "    <tr>\n",
       "      <th>2</th>\n",
       "      <td>23</td>\n",
       "      <td>Ricko</td>\n",
       "      <td>78</td>\n",
       "    </tr>\n",
       "    <tr>\n",
       "      <th>4</th>\n",
       "      <td>25</td>\n",
       "      <td>Daniella</td>\n",
       "      <td>98</td>\n",
       "    </tr>\n",
       "  </tbody>\n",
       "</table>\n",
       "</div>"
      ],
      "text/plain": [
       "   Age      Name  Score\n",
       "1   18    Robert     75\n",
       "0   20   Lindsay     82\n",
       "3   21     Nicky     64\n",
       "2   23     Ricko     78\n",
       "4   25  Daniella     98"
      ]
     },
     "execution_count": 47,
     "metadata": {},
     "output_type": "execute_result"
    }
   ],
   "source": [
    "nilai_skor_df.sort_values(by = [\"Age\", \"Score\"], ascending=[True, False])"
   ]
  },
  {
   "cell_type": "markdown",
   "metadata": {},
   "source": [
    "#### Tugas Praktek\n",
    "\n",
    "tolong cari berapa **harga maksimum** pembelian customer di dataset **order_df**"
   ]
  },
  {
   "cell_type": "code",
   "execution_count": 51,
   "metadata": {},
   "outputs": [
    {
     "name": "stdout",
     "output_type": "stream",
     "text": [
      "                               order_id  quantity  \\\n",
      "37085  d7b2d3b902441cf3dd12cd125533217d         1   \n",
      "41958  2711089c7fec59d4dc8483e3c6a12fa3         1   \n",
      "3976   f343624eab419250ad81f1ce6be22c93         1   \n",
      "21072  c8947a583ab9791a5a9d02384cb84302         1   \n",
      "47074  f6134169ca6f0cdfbe6458ebb5731613         1   \n",
      "\n",
      "                             product_id    price  \\\n",
      "37085  35afc973633aaeb6b877ff57b2793310  5000000   \n",
      "41958  7c1bd920dbdf22470b68bde975dd3ccf  5000000   \n",
      "3976   777d2e438a1b645f3aec9bd57e92672c  5000000   \n",
      "21072  f8cfb63e323be2e1c4172f255d61843d  5000000   \n",
      "47074  2ea92fab7565c4fe9f91a5e4e1756258  5000000   \n",
      "\n",
      "                              seller_id  shipping_cost  \\\n",
      "37085  4a3ca9315b744ce9f8e9374361493884         118000   \n",
      "41958  cc419e0650a3c5ba77189a1882b7556a          31000   \n",
      "3976   4a3ca9315b744ce9f8e9374361493884         101000   \n",
      "21072  4a3ca9315b744ce9f8e9374361493884         184000   \n",
      "47074  3d871de0142ce09b7081e2b9d1733cb1         196000   \n",
      "\n",
      "                            customer_id order_status purchase_date  \\\n",
      "37085  217344c7c334e16c8e76551b4b240c1d    delivered    2017-10-31   \n",
      "41958  0ef59d9bb071def3dbf7e7b055965e95    delivered    2017-11-24   \n",
      "3976   3fc0d940852ab274e532e80b1c1d5c2f    delivered    2017-03-07   \n",
      "21072  57c047e791e69bef0af220b0a165a22d    delivered    2017-07-27   \n",
      "47074  cbfdcc896d6ebc83c21fdcf4f4762efc    delivered    2017-12-04   \n",
      "\n",
      "          payment_type product_category_name  product_weight_gram  \n",
      "37085       debit card                beauty               1825.0  \n",
      "41958         e-wallet               fashion                200.0  \n",
      "3976        debit card                gadget                950.0  \n",
      "21072      credit card                beauty                550.0  \n",
      "47074  virtual account                gadget              10600.0  \n"
     ]
    }
   ],
   "source": [
    "# Hitung harga maksimum pembelian customer\n",
    "sort_harga = order_df.sort_values(by=\"price\", ascending=False)\n",
    "print(sort_harga.head())"
   ]
  },
  {
   "cell_type": "markdown",
   "metadata": {},
   "source": [
    "### Tugas\n",
    "\n",
    "beberapa data penjualan dari dataset order.csv, Tolong buatkan :\n",
    "\n",
    "    1. Median price yang dibayar customer dari masing-masing metode pembayaran.\n",
    "    2. Tentukan metode pembayaran yang memiliki basket size (rataan median price) terbesar.\n",
    "    3. Ubah freight_value menjadi shipping_cost dan cari shipping_cost termahal dari data penjualan tersebut menggunakan sort.\n",
    "    4. Untuk setiap product_category_name, berapa rata-rata weight produk tersebut dan standar deviasi mana yang terkecil dari weight tersebut,\n",
    "    5. Buat histogram quantity penjualan dari dataset tersebut untuk melihat persebaran quantity penjualan tersebut dengan bins = 5 dan figsize= (4,5)\n",
    "\n",
    "    Khusus poin 4, tolong diperhatikan lebih ya\n"
   ]
  },
  {
   "cell_type": "code",
   "execution_count": 52,
   "metadata": {},
   "outputs": [
    {
     "name": "stdout",
     "output_type": "stream",
     "text": [
      "payment_type\n",
      "credit card        2587500.0\n",
      "debit card         2621500.0\n",
      "e-wallet           2589000.0\n",
      "virtual account    2643000.0\n",
      "Name: price, dtype: float64\n",
      "                               order_id  quantity  \\\n",
      "23829  7d63cb1d349e7bd0ee1edcc61ea71077         1   \n",
      "12011  00c9f7d4b0e87781465e562dc109f6aa         1   \n",
      "10984  69013d19f8db4cd7dc9f3b5c2564a96f         1   \n",
      "29722  f32c4d2b078bc5a354f4c1184522b5ff         1   \n",
      "15259  c8eab0ccabe8cdfc2afce66c1c554ae2         1   \n",
      "...                                 ...       ...   \n",
      "2891   1d0e8770169496e47622b6cbc0d10bda         1   \n",
      "36815  4bff82a994068f564e54b52b08ef4512         2   \n",
      "8175   e6b1fa22555c3064f984ebeb8a88de77         1   \n",
      "4034   8ac2728285fd4228f35d907768b5288a         4   \n",
      "32994  0286e258217733541e80588e29c208c1         1   \n",
      "\n",
      "                             product_id    price  \\\n",
      "23829  75d6b6963340c6063f7f4cfcccfe6a30  1472000   \n",
      "12011  1a0d662b65b5ef08796501b064c853af  4543000   \n",
      "10984  10d196ec072e2d8382c7ec9c942d7ea8  4137000   \n",
      "29722  0f789be671fe3bd93cabfbb4a710f282  4802000   \n",
      "15259  800f75019492a0d9ffb2483ae65b59f1  4078000   \n",
      "...                                 ...      ...   \n",
      "2891   3fc0f58c51fcd02161542e0320c4dbe7  4135000   \n",
      "36815  24d8da2d499efba175b1092826b7e390  2879000   \n",
      "8175   6fd82d8f842424334fedf31190e54d24  2947000   \n",
      "4034   fa94f25a73969e3a25d52706e246dfcc   967000   \n",
      "32994  3c4223262d31fa35043380da246fb0fa  3337000   \n",
      "\n",
      "                              seller_id  shipping_cost  \\\n",
      "23829  cc419e0650a3c5ba77189a1882b7556a         200000   \n",
      "12011  2e0dba2da448400b1c11d7b4b22f32a4         200000   \n",
      "10984  d12c926d74ceff0a90a21184466ce161         200000   \n",
      "29722  259f7b5e6e482c230e5bfaa670b6bb8f         200000   \n",
      "15259  efcd8d2104f1a05d028af7bad20d974b         200000   \n",
      "...                                 ...            ...   \n",
      "2891   82e0a475a88cc9595229d8029273f045           9000   \n",
      "36815  d12c926d74ceff0a90a21184466ce161           9000   \n",
      "8175   6560211a19b47992c3666cc44a7e94c0           9000   \n",
      "4034   004c9cd9d87a3c30c522c48c4fc07416           9000   \n",
      "32994  cb3dd9ce66268c7a3ca7241ac70ab58c           9000   \n",
      "\n",
      "                            customer_id order_status purchase_date  \\\n",
      "23829  484711e3d14ac75fb874e949b3a28395    delivered    2017-08-14   \n",
      "12011  cea80f9af87104810bd7fa9698f69d29    delivered    2017-05-22   \n",
      "10984  9cf423929ed7f738fd0a0e88607a79fd    delivered    2017-05-15   \n",
      "29722  5a1523d32a6d1b323a05895f5164655d    delivered    2017-09-18   \n",
      "15259  2339ab3abbeebe72f2782a01c87a9bc0    delivered    2017-06-14   \n",
      "...                                 ...          ...           ...   \n",
      "2891   e3cfff24939005d30dd3a046848227d6    delivered    2017-02-22   \n",
      "36815  2e998a151ac7a977d4a7e806346e0092    delivered    2017-10-30   \n",
      "8175   02d6ca625564571402a933db8fe814f0    delivered    2017-04-21   \n",
      "4034   6b5e281c1563241783deb3a2636daa28    delivered    2017-03-08   \n",
      "32994  010583f85dd55d32a6db1068f58ca6f1    delivered    2017-10-09   \n",
      "\n",
      "          payment_type product_category_name  product_weight_gram  \n",
      "23829      credit card                gadget                400.0  \n",
      "12011         e-wallet                  toys                900.0  \n",
      "10984      credit card             utilities                250.0  \n",
      "29722      credit card                  toys                450.0  \n",
      "15259       debit card                sports                100.0  \n",
      "...                ...                   ...                  ...  \n",
      "2891        debit card               fashion                900.0  \n",
      "36815         e-wallet               fashion                150.0  \n",
      "8175   virtual account           electronics                250.0  \n",
      "4034   virtual account               fashion               1700.0  \n",
      "32994  virtual account             utilities                700.0  \n",
      "\n",
      "[49999 rows x 12 columns]\n",
      "product_category_name\n",
      "beauty         2120.088396\n",
      "automotive     2129.559039\n",
      "electronics    2144.751191\n",
      "toys           2203.863643\n",
      "gadget         2229.632942\n",
      "fashion        2246.516901\n",
      "sports         2251.879909\n",
      "utilities      2291.029868\n",
      "Name: product_weight_gram, dtype: float64\n",
      "product_category_name\n",
      "automotive     3799.884166\n",
      "beauty         3837.474929\n",
      "electronics    3839.271768\n",
      "fashion        3858.885213\n",
      "gadget         3955.792741\n",
      "toys           3956.814749\n",
      "sports         4032.850044\n",
      "utilities      4150.509909\n",
      "Name: product_weight_gram, dtype: float64\n"
     ]
    },
    {
     "data": {
      "image/png": "[encoded data removed]",
      "text/plain": [
       "<Figure size 400x500 with 1 Axes>"
      ]
     },
     "metadata": {},
     "output_type": "display_data"
    }
   ],
   "source": [
    "# Median price yang dibayar customer dari masing-masing metode pembayaran. \n",
    "median_price = order_df[\"price\"].groupby(order_df[\"payment_type\"]).median()\n",
    "print(median_price)\n",
    "\n",
    "# Ubah freight_value menjadi shipping_cost dan cari shipping_cost \n",
    "# termahal dari data penjualan tersebut menggunakan sort.\n",
    "order_df.rename(columns={\"freight_value\": \"shipping_cost\"}, inplace=True)\n",
    "sort_value = order_df.sort_values(by=\"shipping_cost\", ascending=0)\n",
    "print(sort_value)\n",
    "\n",
    "# Untuk product_category_name, berapa  rata-rata weight produk tersebut \n",
    "# dan standar deviasi mana yang terkecil dari weight tersebut, \n",
    "mean_value = order_df[\"product_weight_gram\"].groupby(order_df[\"product_category_name\"]).mean()\n",
    "print(mean_value.sort_values())\n",
    "\n",
    "std_value = order_df[\"product_weight_gram\"].groupby(order_df[\"product_category_name\"]).std()\n",
    "print(std_value.sort_values())\n",
    "\n",
    "# Buat histogram quantity penjualan dari dataset tersebutuntuk melihat persebaran quantity \n",
    "# penjualan tersebut dengan bins = 5 dan figsize= (4,5)\n",
    "order_df[[\"quantity\"]].hist(figsize=(4, 5), bins=5)\n",
    "plt.show()"
   ]
  },
  {
   "cell_type": "markdown",
   "metadata": {},
   "source": [
    "modul Exploratory Data Analysis with Python for Beginner. Dari materi-materi yang telah kupelajari dan praktekkan dalam modul ini aku telah mendapatkan pengetahuan (knowledge) dan praktek (skill) untuk:\n",
    "\n",
    "    1. Memahami library Pandas, NumPy, dan Matplotlib dari Python\n",
    "    2. Mengetahui jenis - jenis tipe data dalam data frame Python\n",
    "    3. Mampu membaca datasets dari Excel dan CSV\n",
    "    4. Membuat summary data sederhana, mencakup distribusi, varians, dan mendeteksi outliers dari dataset\n",
    "    4. Latihan dalam membuat laporan bisnis sederhana menggunakan Python\n"
   ]
  },
  {
   "cell_type": "code",
   "execution_count": null,
   "metadata": {},
   "outputs": [],
   "source": []
  },
  {
   "cell_type": "code",
   "execution_count": null,
   "metadata": {},
   "outputs": [],
   "source": []
  }
 ],
 "metadata": {
  "kernelspec": {
   "display_name": "Python 3",
   "language": "python",
   "name": "python3"
  },
  "language_info": {
   "codemirror_mode": {
    "name": "ipython",
    "version": 3
   },
   "file_extension": ".py",
   "mimetype": "text/x-python",
   "name": "python",
   "nbconvert_exporter": "python",
   "pygments_lexer": "ipython3",
   "version": "3.10.4"
  },
  "vscode": {
   "interpreter": {
    "hash": "3ad933181bd8a04b432d3370b9dc3b0662ad032c4dfaa4e4f1596c548f763858"
   }
  }
 },
 "nbformat": 4,
 "nbformat_minor": 2
}
