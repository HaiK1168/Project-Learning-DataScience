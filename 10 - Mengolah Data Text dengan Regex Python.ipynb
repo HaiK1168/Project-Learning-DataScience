{
 "cells": [
  {
   "cell_type": "code",
   "execution_count": 1,
   "metadata": {},
   "outputs": [
    {
     "name": "stdout",
     "output_type": "stream",
     "text": [
      "   no_pencatatan tanggal_catat      kota jumlah_member staf_pencatat\n",
      "0              1    01-05-2020   Jakarta           311         Andra\n",
      "1              2    30-06-2020   Jakarta           1I2         Andra\n",
      "2              3    05/02/2020   Bandung           5S0        Antara\n",
      "3              4    06/28/2020   Bandung           670        Antara\n",
      "4              5    05/10/2020  Semarang           81O         Senja\n",
      "5              6    06/28/2020  Semarang           1O2        Sendja\n"
     ]
    }
   ],
   "source": [
    "#Import library yang dibutuhkan\n",
    "import pandas as pd\n",
    "\n",
    "#Baca file dqlabregex.tsv\n",
    "dqlabregex = pd.read_csv(\"https://storage.googleapis.com/dqlab-dataset/dqlabregex.tsv\", sep = '\\t')\n",
    "\n",
    "#Tampilkan hasilnya\n",
    "print(dqlabregex)"
   ]
  },
  {
   "attachments": {},
   "cell_type": "markdown",
   "metadata": {},
   "source": [
    "## Mengenal Regular Expression\n",
    "Regular Expression atau sering disebut juga **regex** atau **regexp** merupakan deretan karakter spesial yang mendefinisikan sebuah pola dalam pencocokan sebuah teks. Perlu diingat bahwa regex bersifat case sensitive yang berarti huruf besar dan huruf kecil diartikan berbeda.\n",
    "\n",
    "Apa sebenarnya yang membuat regex menjadi spesial? Hal ini dikarenakan dengan regex dapat membuat sortiran pada sebuah data yang memiliki sebaran atau variasi yang sangat banyak atau luas tanpa harus mengeluarkan effort dengan memilah dan memilih data tersebut sesuai dengan yang diinginkan. Jadi, hanya dengan sebaris atau beberapa baris penulisan notasi regex maka akan dihasilkan kriteria tertentu yang diinginkan. Jelas saja hal ini sangat memudahkan bagi Sunyi untuk merapikan data yang diberikan oleh Andra.\n",
    "\n",
    "Sebagai contoh, Andra ingin mengetahui pada kolom nama di sebuah tabel yang memuat kata ‘Djupiter’, ‘Jupiter’, ‘Yupiter’ dan sebagainya. Andaikan tidak ada regex maka perlu dibuat beberapa kondisi (pada python gunakan sintaks if – elif - else) agar Sunyi dapat menghasilkan output yang diinginkan oleh Andra. Namun dengan regex, Sunyi hanya perlu menuliskan suatu notasi, maka notasi tersebut akan sesuai dengan teks yang disebutkan oleh Andra."
   ]
  },
  {
   "attachments": {},
   "cell_type": "markdown",
   "metadata": {},
   "source": [
    "Untuk Cheat Sheet bisa check : \n",
    "\n",
    "https://www.rexegg.com/regex-quickstart.html"
   ]
  },
  {
   "attachments": {},
   "cell_type": "markdown",
   "metadata": {},
   "source": [
    "pandas.Series.str.contains\n",
    "\n",
    "**Series.str.contains(pat, case=True, flags=0, na=None, regex=True)**"
   ]
  },
  {
   "attachments": {},
   "cell_type": "markdown",
   "metadata": {},
   "source": [
    "“Aku ingin kamu menunjukkan kota apa saja pada tabel dqlabregex yang diawali dengan huruf J atau S dan abaikan saja besar kecilnya huruf. \n",
    "\n",
    "Tampilkan kolom kota dan kolom baru yang bernama **kota_awalan_J_S** yang menunjukan nilai kebenaran bahwa kota diawali dengan J atau S ”."
   ]
  },
  {
   "cell_type": "code",
   "execution_count": 2,
   "metadata": {},
   "outputs": [
    {
     "name": "stdout",
     "output_type": "stream",
     "text": [
      "       kota  kota_awalan_j_s\n",
      "0   Jakarta             True\n",
      "1   Jakarta             True\n",
      "2   Bandung            False\n",
      "3   Bandung            False\n",
      "4  Semarang             True\n",
      "5  Semarang             True\n"
     ]
    }
   ],
   "source": [
    "#Buat kolom baru kota_awalan_J_S\n",
    "dqlabregex['kota_awalan_j_s'] = dqlabregex['kota'].str.contains('^[j|s]', case = False)\n",
    "\n",
    "#Tampilkan hasilnya\n",
    "print(dqlabregex[['kota','kota_awalan_j_s']])"
   ]
  },
  {
   "attachments": {},
   "cell_type": "markdown",
   "metadata": {},
   "source": [
    "**Ingat!** Notasi _regex ^_ digunakan untuk mencocokan awalan karakter. Jadi notasi ’ mencocokan apakah nilai pada kolom kota diawali oleh karakter j atau s. Sedangkan parameter **case=False** digunakan untuk mengabaikan besar kecilnya huruf **(ignore case sensitive)**. Sehingga Jakarta (kota diawali dengan J) dan Semarang (kota diawali dengan S) akan sesuai dengan sintaks tersebut."
   ]
  },
  {
   "attachments": {},
   "cell_type": "markdown",
   "metadata": {},
   "source": [
    "Aku memberikan tugas dan meminta Sunyi memikirkan sintaks untuk membuat kolom baru bernama *pencatat_senja* berisi nilai kebenaran dari nama petugas pencatat pada kolom *staf_pencatat* di dataframe *dqlabregex* dengan nama **Senja** atau **Sendja**. Namun pikirkan baik – baik notasi regex yang akan digunakan, sebisa mungkin notasi yang diketikkan sesuai juga dengan teks *SenDja*, *Sen_ja*, dan sebagainya yang memungkinkan. Tampilkan kolom staf_pencatat dan pencatat_senja untuk mengetahui hasilnya"
   ]
  },
  {
   "cell_type": "code",
   "execution_count": 3,
   "metadata": {},
   "outputs": [
    {
     "name": "stdout",
     "output_type": "stream",
     "text": [
      "  staf_pencatat  pencatat_senja\n",
      "0         Andra           False\n",
      "1         Andra           False\n",
      "2        Antara           False\n",
      "3        Antara           False\n",
      "4         Senja            True\n",
      "5        Sendja            True\n"
     ]
    }
   ],
   "source": [
    "#Buat kolom baru pencatat_senja\n",
    "dqlabregex['pencatat_senja'] = dqlabregex['staf_pencatat'].str.contains('Sen.?ja')\n",
    "\n",
    "#Tampilkan hasilnya\n",
    "print(dqlabregex[['staf_pencatat','pencatat_senja']])"
   ]
  },
  {
   "attachments": {},
   "cell_type": "markdown",
   "metadata": {},
   "source": [
    "Pada kolom *jumlah_member* di tabel *dqlabregex*, jumlah menunjukkan kuantitas yang artinya hanya angka saja (numerik) yang boleh menjadi isi rownya (record data). Namun pada tabel tersebut terdapat kesalahan pengetikan / penginputan data sehingga terdapat karakter non-numerik pada kolom jumlah_member.\n",
    "\n",
    "Kali ini aku meminta Sunyi untuk memeriksa dan menampilkan kesalahan input data pada kolom tersebut. \"Nyi, coba kamu buat sebuah sintaks yang menampilkan kesalahan penulisan angka pada kolom jumlah_member lalu beri nama dengan *char_nonnumerik*. Tampilkan kolom *jumlah_member* dan *char_nonnumerik* untuk mengetahui hasilnya.\" Sunyi mengangguk dan kembali mengetikkan kode nya. "
   ]
  },
  {
   "cell_type": "code",
   "execution_count": 4,
   "metadata": {},
   "outputs": [
    {
     "name": "stdout",
     "output_type": "stream",
     "text": [
      "  jumlah_member  char_nonnumerik\n",
      "0           311            False\n",
      "1           1I2             True\n",
      "2           5S0             True\n",
      "3           670            False\n",
      "4           81O             True\n",
      "5           1O2             True\n"
     ]
    }
   ],
   "source": [
    "#Buat kolom baru char_nonnumerik untuk mengetahui jumlah_member non numerik\n",
    "dqlabregex['char_nonnumerik'] = dqlabregex['jumlah_member'].str.contains('[^0-9]')\n",
    "\n",
    "#Tampilkan hasilnya\n",
    "print(dqlabregex[['jumlah_member','char_nonnumerik']])"
   ]
  },
  {
   "attachments": {},
   "cell_type": "markdown",
   "metadata": {},
   "source": [
    "sintaks replace pada dataframe pandas di internet.\n",
    "\n",
    "pandas.Series.str.replace\n",
    "\n",
    "**Series.str.replace(pat, repl, n=-1, case=None, flags=0, regex=None)**"
   ]
  },
  {
   "attachments": {},
   "cell_type": "markdown",
   "metadata": {},
   "source": [
    " coba untuk mengubah kata Sendja atau padanannya (jika ada) seperti SenDja, Sen#ja, Sen_ja, Sen7ja, dsb menjadi satu kata 'Senja' yang terdapat di kolom staf_pencatat pada dataframe dqlabregex.\" "
   ]
  },
  {
   "cell_type": "code",
   "execution_count": 5,
   "metadata": {},
   "outputs": [
    {
     "name": "stdout",
     "output_type": "stream",
     "text": [
      "0     Andra\n",
      "1     Andra\n",
      "2    Antara\n",
      "3    Antara\n",
      "4     Senja\n",
      "5     Senja\n",
      "Name: staf_pencatat, dtype: object\n"
     ]
    },
    {
     "name": "stderr",
     "output_type": "stream",
     "text": [
      "/var/folders/n0/1ktjrh812fb6t_ykc06y1ddc0000gn/T/ipykernel_90971/4233854166.py:2: FutureWarning: The default value of regex will change from True to False in a future version.\n",
      "  dqlabregex['staf_pencatat'] = dqlabregex['staf_pencatat'].str.replace('Sen.?ja', 'Senja')\n"
     ]
    }
   ],
   "source": [
    "#Ubah kata Sendja, dsb menjadi Senja pada kolom staf_pencatat\n",
    "dqlabregex['staf_pencatat'] = dqlabregex['staf_pencatat'].str.replace('Sen.?ja', 'Senja')\n",
    "\n",
    "#Tampilkan hasilnya\n",
    "print(dqlabregex['staf_pencatat'])"
   ]
  },
  {
   "attachments": {},
   "cell_type": "markdown",
   "metadata": {},
   "source": [
    "coba untuk membuat kolom baru bernama **jumlah_member_clean** yang berisi hasil pengubahan karakter non-numerik pada kolom jumlah_member yang terdapat pada dataframe dqlabregex dengan ketentuan sebagai berikut :\n",
    "\n",
    "* Ubah karakter O atau o menjadi 0 (nol)\n",
    "* Ubah karakter I atau i menjadi 1 (satu)\n",
    "* Ubah karakter S atau s menjadi 5 (lima)"
   ]
  },
  {
   "cell_type": "code",
   "execution_count": 6,
   "metadata": {},
   "outputs": [
    {
     "name": "stdout",
     "output_type": "stream",
     "text": [
      "  jumlah_member jumlah_member_clean\n",
      "0           311                 311\n",
      "1           1I2                 112\n",
      "2           5S0                 550\n",
      "3           670                 670\n",
      "4           81O                 810\n",
      "5           1O2                 102\n"
     ]
    }
   ],
   "source": [
    "#Ubah karakter pada kolom jumlah_member sesuai ketentuan\n",
    "mapchange = {'O':'0', 'I':'1', 'S':'5'}\n",
    "\n",
    "dqlabregex['jumlah_member_clean'] = dqlabregex['jumlah_member']\n",
    "\n",
    "for ubah, pengubah in mapchange.items():\n",
    "\tdqlabregex['jumlah_member_clean'] = dqlabregex['jumlah_member_clean'] .str.replace(ubah, pengubah, case = False)\n",
    "\n",
    "#Tampilkan hasilnya\n",
    "print(dqlabregex[['jumlah_member','jumlah_member_clean']]) "
   ]
  },
  {
   "attachments": {},
   "cell_type": "markdown",
   "metadata": {},
   "source": [
    "hapus kesalahan input data pada kolom *jumlah_member* yang terdapat pada dataframe **dqlabregex**. Caranya dengan membuat sebuah sintaks untuk menghapus karakter non-numerik pada kolom tersebut atau dengan kata lain ubah karakter non-numerik menjadi string kosong."
   ]
  },
  {
   "cell_type": "code",
   "execution_count": 7,
   "metadata": {},
   "outputs": [
    {
     "name": "stdout",
     "output_type": "stream",
     "text": [
      "0    311\n",
      "1     12\n",
      "2     50\n",
      "3    670\n",
      "4     81\n",
      "5     12\n",
      "Name: jumlah_member, dtype: object\n"
     ]
    },
    {
     "name": "stderr",
     "output_type": "stream",
     "text": [
      "/var/folders/n0/1ktjrh812fb6t_ykc06y1ddc0000gn/T/ipykernel_90971/1228099634.py:2: FutureWarning: The default value of regex will change from True to False in a future version.\n",
      "  dqlabregex['jumlah_member'] = dqlabregex['jumlah_member'].str.replace('[^0-9]', '')\n"
     ]
    }
   ],
   "source": [
    "#Sintaks menghapus karakter non-numerik pada kolom jumlah_member\n",
    "dqlabregex['jumlah_member'] = dqlabregex['jumlah_member'].str.replace('[^0-9]', '')\n",
    "\n",
    "#Tampilkan hasilnya\n",
    "print(dqlabregex['jumlah_member'])"
   ]
  },
  {
   "attachments": {},
   "cell_type": "markdown",
   "metadata": {},
   "source": [
    "pada kolom **tanggal_catat** ternyata format tanggal pada baris pertama dan kedua berbeda dengan lainnya. Untuk merapikannya, aku memutuskan untuk merubah standarisasi penulisan tanggal **DD-MM-YYYY** (tanggal - bulan - tahun) menjadi **MM/DD/YYYY** (bulan / tanggal / tahun) agar seragam. "
   ]
  },
  {
   "cell_type": "code",
   "execution_count": 8,
   "metadata": {},
   "outputs": [
    {
     "data": {
      "text/html": [
       "<div>\n",
       "<style scoped>\n",
       "    .dataframe tbody tr th:only-of-type {\n",
       "        vertical-align: middle;\n",
       "    }\n",
       "\n",
       "    .dataframe tbody tr th {\n",
       "        vertical-align: top;\n",
       "    }\n",
       "\n",
       "    .dataframe thead th {\n",
       "        text-align: right;\n",
       "    }\n",
       "</style>\n",
       "<table border=\"1\" class=\"dataframe\">\n",
       "  <thead>\n",
       "    <tr style=\"text-align: right;\">\n",
       "      <th></th>\n",
       "      <th>no_pencatatan</th>\n",
       "      <th>tanggal_catat</th>\n",
       "      <th>kota</th>\n",
       "      <th>jumlah_member</th>\n",
       "      <th>staf_pencatat</th>\n",
       "      <th>kota_awalan_j_s</th>\n",
       "      <th>pencatat_senja</th>\n",
       "      <th>char_nonnumerik</th>\n",
       "      <th>jumlah_member_clean</th>\n",
       "    </tr>\n",
       "  </thead>\n",
       "  <tbody>\n",
       "    <tr>\n",
       "      <th>0</th>\n",
       "      <td>1</td>\n",
       "      <td>01-05-2020</td>\n",
       "      <td>Jakarta</td>\n",
       "      <td>311</td>\n",
       "      <td>Andra</td>\n",
       "      <td>True</td>\n",
       "      <td>False</td>\n",
       "      <td>False</td>\n",
       "      <td>311</td>\n",
       "    </tr>\n",
       "    <tr>\n",
       "      <th>1</th>\n",
       "      <td>2</td>\n",
       "      <td>30-06-2020</td>\n",
       "      <td>Jakarta</td>\n",
       "      <td>12</td>\n",
       "      <td>Andra</td>\n",
       "      <td>True</td>\n",
       "      <td>False</td>\n",
       "      <td>True</td>\n",
       "      <td>112</td>\n",
       "    </tr>\n",
       "    <tr>\n",
       "      <th>2</th>\n",
       "      <td>3</td>\n",
       "      <td>05/02/2020</td>\n",
       "      <td>Bandung</td>\n",
       "      <td>50</td>\n",
       "      <td>Antara</td>\n",
       "      <td>False</td>\n",
       "      <td>False</td>\n",
       "      <td>True</td>\n",
       "      <td>550</td>\n",
       "    </tr>\n",
       "    <tr>\n",
       "      <th>3</th>\n",
       "      <td>4</td>\n",
       "      <td>06/28/2020</td>\n",
       "      <td>Bandung</td>\n",
       "      <td>670</td>\n",
       "      <td>Antara</td>\n",
       "      <td>False</td>\n",
       "      <td>False</td>\n",
       "      <td>False</td>\n",
       "      <td>670</td>\n",
       "    </tr>\n",
       "    <tr>\n",
       "      <th>4</th>\n",
       "      <td>5</td>\n",
       "      <td>05/10/2020</td>\n",
       "      <td>Semarang</td>\n",
       "      <td>81</td>\n",
       "      <td>Senja</td>\n",
       "      <td>True</td>\n",
       "      <td>True</td>\n",
       "      <td>True</td>\n",
       "      <td>810</td>\n",
       "    </tr>\n",
       "    <tr>\n",
       "      <th>5</th>\n",
       "      <td>6</td>\n",
       "      <td>06/28/2020</td>\n",
       "      <td>Semarang</td>\n",
       "      <td>12</td>\n",
       "      <td>Senja</td>\n",
       "      <td>True</td>\n",
       "      <td>True</td>\n",
       "      <td>True</td>\n",
       "      <td>102</td>\n",
       "    </tr>\n",
       "  </tbody>\n",
       "</table>\n",
       "</div>"
      ],
      "text/plain": [
       "   no_pencatatan tanggal_catat      kota jumlah_member staf_pencatat  \\\n",
       "0              1    01-05-2020   Jakarta           311         Andra   \n",
       "1              2    30-06-2020   Jakarta            12         Andra   \n",
       "2              3    05/02/2020   Bandung            50        Antara   \n",
       "3              4    06/28/2020   Bandung           670        Antara   \n",
       "4              5    05/10/2020  Semarang            81         Senja   \n",
       "5              6    06/28/2020  Semarang            12         Senja   \n",
       "\n",
       "   kota_awalan_j_s  pencatat_senja  char_nonnumerik jumlah_member_clean  \n",
       "0             True           False            False                 311  \n",
       "1             True           False             True                 112  \n",
       "2            False           False             True                 550  \n",
       "3            False           False            False                 670  \n",
       "4             True            True             True                 810  \n",
       "5             True            True             True                 102  "
      ]
     },
     "execution_count": 8,
     "metadata": {},
     "output_type": "execute_result"
    }
   ],
   "source": [
    "dqlabregex"
   ]
  },
  {
   "cell_type": "code",
   "execution_count": 9,
   "metadata": {},
   "outputs": [
    {
     "name": "stdout",
     "output_type": "stream",
     "text": [
      "0    01/05/2020\n",
      "1    30/06/2020\n",
      "2    05/02/2020\n",
      "3    06/28/2020\n",
      "4    05/10/2020\n",
      "5    06/28/2020\n",
      "Name: tanggal_catat, dtype: object\n"
     ]
    },
    {
     "name": "stderr",
     "output_type": "stream",
     "text": [
      "/var/folders/n0/1ktjrh812fb6t_ykc06y1ddc0000gn/T/ipykernel_90971/910151046.py:2: FutureWarning: The default value of regex will change from True to False in a future version.\n",
      "  dqlabregex['tanggal_catat'] = dqlabregex['tanggal_catat'].str.replace('([0-9]{2})-([0-9]{2})-([0-9]{4})','\\\\1/\\\\2/\\\\3')\n"
     ]
    }
   ],
   "source": [
    "#Sintaks merapikan format tanggal pada kolom tanggal_catat\n",
    "dqlabregex['tanggal_catat'] = dqlabregex['tanggal_catat'].str.replace('([0-9]{2})-([0-9]{2})-([0-9]{4})','\\\\1/\\\\2/\\\\3')\n",
    "\n",
    "# \\\\1 artinya group 1\n",
    "\n",
    "#Tampilkan hasilnya\n",
    "print(dqlabregex['tanggal_catat'])"
   ]
  },
  {
   "attachments": {},
   "cell_type": "markdown",
   "metadata": {},
   "source": [
    "baca data dan mengganti record pada masing-masing kolom:\n",
    "\n",
    "* Pada kolom tanggal_catat ubah semua format tanggalnya menjadi format tanggal menjadi format YYYY-MM-DD. Lalu ubah tipe datanya menjadi datetime dengan bantuan sintaks (pd.datetime(Series))\n",
    "* Hapus setiap karakter non-numerik pada kolom jumlah_member lalu ubah tipedatanya menjadi integer dengan bantuan sintaks (Series.astype('int'))\n",
    "* Ubah record yang memuat Sendja maupun padanannya menjadi Senja\n",
    "* Penamaan kolom dan urutannya tidak ada yang diubah"
   ]
  },
  {
   "cell_type": "code",
   "execution_count": 16,
   "metadata": {},
   "outputs": [
    {
     "name": "stdout",
     "output_type": "stream",
     "text": [
      "Tabel A:\n",
      "   no_pencatatan tanggal_catat      kota jumlah_member staf_pencatat\n",
      "0              1    01-05-2020   Jakarta           311         Andra\n",
      "1              2    30-06-2020   Jakarta           1I2         Andra\n",
      "2              3    05/02/2020   Bandung           5S0        Antara\n",
      "3              4    06/28/2020   Bandung           670        Antara\n",
      "4              5    05/10/2020  Semarang           81O         Senja\n",
      "5              6    06/28/2020  Semarang           1O2        Sendja\n",
      "\n",
      "Tabel B:\n",
      "   no_pencatatan tanggal_catat      kota  jumlah_member staf_pencatat\n",
      "0              1    2020-05-01   Jakarta            311         Andra\n",
      "1              2    2020-06-30   Jakarta             12         Andra\n",
      "2              3    2020-05-02   Bandung             50        Antara\n",
      "3              4    2020-06-28   Bandung            670        Antara\n",
      "4              5    2020-05-10  Semarang             81         Senja\n",
      "5              6    2020-06-28  Semarang             12         Senja\n"
     ]
    },
    {
     "name": "stderr",
     "output_type": "stream",
     "text": [
      "/var/folders/n0/1ktjrh812fb6t_ykc06y1ddc0000gn/T/ipykernel_90971/1228505518.py:11: FutureWarning: The default value of regex will change from True to False in a future version.\n",
      "  dqlabregex['tanggal_catat'] = dqlabregex['tanggal_catat'].str.replace(ubah, pengubah)\n",
      "/var/folders/n0/1ktjrh812fb6t_ykc06y1ddc0000gn/T/ipykernel_90971/1228505518.py:17: FutureWarning: The default value of regex will change from True to False in a future version.\n",
      "  dqlabregex['jumlah_member'] = dqlabregex['jumlah_member'].str.replace('[^0-9]','')\n",
      "/var/folders/n0/1ktjrh812fb6t_ykc06y1ddc0000gn/T/ipykernel_90971/1228505518.py:21: FutureWarning: The default value of regex will change from True to False in a future version.\n",
      "  dqlabregex['staf_pencatat'] = dqlabregex['staf_pencatat'].str.replace('Sen.?ja', 'Senja')\n"
     ]
    }
   ],
   "source": [
    "#Baca file dqlabregex.tsv\n",
    "dqlabregex = pd.read_csv(\"https://storage.googleapis.com/dqlab-dataset/dqlabregex.tsv\", sep = '\\t')\n",
    "\n",
    "print(\"Tabel A:\")\n",
    "print(dqlabregex)\n",
    "\n",
    "#Ubah karakter pada kolom jumlah_member sesuai ketentuan\n",
    "mapchange = {'([0-9]{2})-([0-9]{2})-([0-9]{4})': '\\\\3-\\\\2-\\\\1', '([0-9]{2})/([0-9]{2})/([0-9]{4})' : '\\\\3-\\\\1-\\\\2'}\n",
    "\n",
    "for ubah, pengubah in mapchange.items():\n",
    "   dqlabregex['tanggal_catat'] = dqlabregex['tanggal_catat'].str.replace(ubah, pengubah)\n",
    " \n",
    "#Ubah menjadi tipedata datetime pada kolom tanggal_catat\n",
    "dqlabregex['tanggal_catat'] = pd.to_datetime(dqlabregex['tanggal_catat'])\n",
    " \n",
    "#Hapus karakter non numerik pada kolom jumlah_member dan ubah tipedatanya menjadi integer\n",
    "dqlabregex['jumlah_member'] = dqlabregex['jumlah_member'].str.replace('[^0-9]','')\n",
    "dqlabregex['jumlah_member'] = dqlabregex['jumlah_member'].astype('int')\n",
    " \n",
    "#Ubah kata Sendja ataupun padanannya menjadi satu kata 'Senja' pada kolom staf_pencatat\n",
    "dqlabregex['staf_pencatat'] = dqlabregex['staf_pencatat'].str.replace('Sen.?ja', 'Senja')\n",
    " \n",
    "#Tampilkan hasilnya\n",
    "print(\"\\nTabel B:\")\n",
    "print(dqlabregex) "
   ]
  },
  {
   "attachments": {},
   "cell_type": "markdown",
   "metadata": {},
   "source": [
    "### Kesimpulan\n",
    "Dari materi yang sudah dipelajari hari ini bersama dengan Sunyi, aku memberikan beberapa tambahan catatan : \n",
    "\n",
    "* Regular Expression atau sering disebut juga regex atau regexp merupakan deretan karakter spesial yang mendefinisikan sebuah pola dalam pencocokan sebuah teks\n",
    "* Regex bersifat case sensitive (besar - kecilnya huruf diperhatikan), namun jika ingin mengabaikannya bisa dengan menginisialisasi parameter case menjadi False\n",
    "* Sintaks contains pada python digunakan untuk menguji apakah pola kata atau regex terkandung dalam string atau tidak. Bernilai True jika sesuai dan False jika tidak\n",
    "* Sintaks replace pada python digunakan untuk mengubah satu atau lebih karakter yang ingin diubah menjadi karakter atau string lainnya.\n",
    "* Regex biasa digunakan dalam proses pencocokan, pencarian dan perubahan pada data bertipe string / objek\n",
    " "
   ]
  },
  {
   "cell_type": "code",
   "execution_count": null,
   "metadata": {},
   "outputs": [],
   "source": []
  },
  {
   "cell_type": "code",
   "execution_count": null,
   "metadata": {},
   "outputs": [],
   "source": []
  },
  {
   "cell_type": "code",
   "execution_count": null,
   "metadata": {},
   "outputs": [],
   "source": []
  },
  {
   "cell_type": "code",
   "execution_count": null,
   "metadata": {},
   "outputs": [],
   "source": []
  },
  {
   "cell_type": "code",
   "execution_count": null,
   "metadata": {},
   "outputs": [],
   "source": []
  },
  {
   "cell_type": "code",
   "execution_count": null,
   "metadata": {},
   "outputs": [],
   "source": []
  },
  {
   "cell_type": "code",
   "execution_count": null,
   "metadata": {},
   "outputs": [],
   "source": []
  }
 ],
 "metadata": {
  "kernelspec": {
   "display_name": "ML_Binar",
   "language": "python",
   "name": "python3"
  },
  "language_info": {
   "codemirror_mode": {
    "name": "ipython",
    "version": 3
   },
   "file_extension": ".py",
   "mimetype": "text/x-python",
   "name": "python",
   "nbconvert_exporter": "python",
   "pygments_lexer": "ipython3",
   "version": "3.8.16"
  },
  "orig_nbformat": 4
 },
 "nbformat": 4,
 "nbformat_minor": 2
}
